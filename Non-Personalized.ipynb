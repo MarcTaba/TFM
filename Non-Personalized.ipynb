{
 "cells": [
  {
   "cell_type": "code",
   "execution_count": 1,
   "id": "a23a7b14",
   "metadata": {},
   "outputs": [],
   "source": [
    "#Sample submission with past month most sold products plus the item already sold to the customer:"
   ]
  },
  {
   "cell_type": "code",
   "execution_count": 2,
   "id": "2e49c43b",
   "metadata": {},
   "outputs": [],
   "source": [
    "import pandas as pd\n",
    "import numpy as np\n",
    "import datetime\n",
    "from tqdm import tqdm"
   ]
  },
  {
   "cell_type": "code",
   "execution_count": 3,
   "id": "862fd121",
   "metadata": {},
   "outputs": [],
   "source": [
    "#read all the data:\n",
    "items = pd.read_csv(\"dressipi_recsys2022/item_features.csv\")\n",
    "candidate = pd.read_csv(\"dressipi_recsys2022/candidate_items.csv\")\n",
    "purchase =  pd.read_csv(\"dressipi_recsys2022/train_purchases.csv\")\n",
    "sessions =  pd.read_csv(\"dressipi_recsys2022/train_sessions.csv\")\n",
    "sessions_test = pd.read_csv(\"dressipi_recsys2022/test_final_sessions.csv\")\n",
    "leaderboard = pd.read_csv(\"dressipi_recsys2022/test_leaderboard_sessions.csv\")"
   ]
  },
  {
   "cell_type": "code",
   "execution_count": 4,
   "id": "3ebd785e",
   "metadata": {},
   "outputs": [],
   "source": [
    "#set the date column to a date format\n",
    "purchase['date'] = pd.to_datetime(purchase['date'])"
   ]
  },
  {
   "cell_type": "code",
   "execution_count": 5,
   "id": "994b340a",
   "metadata": {},
   "outputs": [],
   "source": [
    "max_day = purchase['date'].max() #max date 31/05/2021 \n",
    "min_day = max_day -datetime.timedelta(31)\n",
    "cond = purchase['date'] >= min_day\n",
    "new_purchases = purchase[cond]"
   ]
  },
  {
   "cell_type": "code",
   "execution_count": 6,
   "id": "837e09cc",
   "metadata": {
    "scrolled": false
   },
   "outputs": [],
   "source": [
    "#top 99 most sold items in the last month of the training data\n",
    "top_seller = new_purchases['item_id'].value_counts()[0:100].index.to_list()"
   ]
  },
  {
   "cell_type": "code",
   "execution_count": 7,
   "id": "1bfd6840",
   "metadata": {},
   "outputs": [
    {
     "data": {
      "text/html": [
       "<div>\n",
       "<style scoped>\n",
       "    .dataframe tbody tr th:only-of-type {\n",
       "        vertical-align: middle;\n",
       "    }\n",
       "\n",
       "    .dataframe tbody tr th {\n",
       "        vertical-align: top;\n",
       "    }\n",
       "\n",
       "    .dataframe thead th {\n",
       "        text-align: right;\n",
       "    }\n",
       "</style>\n",
       "<table border=\"1\" class=\"dataframe\">\n",
       "  <thead>\n",
       "    <tr style=\"text-align: right;\">\n",
       "      <th></th>\n",
       "      <th>session_id</th>\n",
       "      <th>item_id</th>\n",
       "      <th>date</th>\n",
       "    </tr>\n",
       "  </thead>\n",
       "  <tbody>\n",
       "    <tr>\n",
       "      <th>0</th>\n",
       "      <td>26</td>\n",
       "      <td>19185</td>\n",
       "      <td>2021-06-16 09:53:54.158</td>\n",
       "    </tr>\n",
       "    <tr>\n",
       "      <th>1</th>\n",
       "      <td>200</td>\n",
       "      <td>17089</td>\n",
       "      <td>2021-06-25 12:23:40.811</td>\n",
       "    </tr>\n",
       "    <tr>\n",
       "      <th>2</th>\n",
       "      <td>200</td>\n",
       "      <td>17089</td>\n",
       "      <td>2021-06-25 12:24:36.631</td>\n",
       "    </tr>\n",
       "    <tr>\n",
       "      <th>3</th>\n",
       "      <td>200</td>\n",
       "      <td>8060</td>\n",
       "      <td>2021-06-25 12:24:41.677</td>\n",
       "    </tr>\n",
       "    <tr>\n",
       "      <th>4</th>\n",
       "      <td>200</td>\n",
       "      <td>4758</td>\n",
       "      <td>2021-06-25 12:24:50.692</td>\n",
       "    </tr>\n",
       "    <tr>\n",
       "      <th>...</th>\n",
       "      <td>...</td>\n",
       "      <td>...</td>\n",
       "      <td>...</td>\n",
       "    </tr>\n",
       "    <tr>\n",
       "      <th>229349</th>\n",
       "      <td>4439653</td>\n",
       "      <td>25955</td>\n",
       "      <td>2021-06-11 10:22:57.47</td>\n",
       "    </tr>\n",
       "    <tr>\n",
       "      <th>229350</th>\n",
       "      <td>4439653</td>\n",
       "      <td>12179</td>\n",
       "      <td>2021-06-11 10:23:00.663</td>\n",
       "    </tr>\n",
       "    <tr>\n",
       "      <th>229351</th>\n",
       "      <td>4439757</td>\n",
       "      <td>2078</td>\n",
       "      <td>2021-06-30 11:42:15.073</td>\n",
       "    </tr>\n",
       "    <tr>\n",
       "      <th>229352</th>\n",
       "      <td>4439757</td>\n",
       "      <td>2078</td>\n",
       "      <td>2021-06-30 11:43:13.725</td>\n",
       "    </tr>\n",
       "    <tr>\n",
       "      <th>229353</th>\n",
       "      <td>4439757</td>\n",
       "      <td>6790</td>\n",
       "      <td>2021-06-30 11:44:52.704</td>\n",
       "    </tr>\n",
       "  </tbody>\n",
       "</table>\n",
       "<p>229354 rows × 3 columns</p>\n",
       "</div>"
      ],
      "text/plain": [
       "        session_id  item_id                     date\n",
       "0               26    19185  2021-06-16 09:53:54.158\n",
       "1              200    17089  2021-06-25 12:23:40.811\n",
       "2              200    17089  2021-06-25 12:24:36.631\n",
       "3              200     8060  2021-06-25 12:24:41.677\n",
       "4              200     4758  2021-06-25 12:24:50.692\n",
       "...            ...      ...                      ...\n",
       "229349     4439653    25955   2021-06-11 10:22:57.47\n",
       "229350     4439653    12179  2021-06-11 10:23:00.663\n",
       "229351     4439757     2078  2021-06-30 11:42:15.073\n",
       "229352     4439757     2078  2021-06-30 11:43:13.725\n",
       "229353     4439757     6790  2021-06-30 11:44:52.704\n",
       "\n",
       "[229354 rows x 3 columns]"
      ]
     },
     "execution_count": 7,
     "metadata": {},
     "output_type": "execute_result"
    }
   ],
   "source": [
    "leaderboard"
   ]
  },
  {
   "cell_type": "code",
   "execution_count": 8,
   "id": "8f54dbc5",
   "metadata": {},
   "outputs": [],
   "source": [
    "def generate_solution():\n",
    "    solution = [[]]\n",
    "    for x in tqdm(leaderboard.session_id.unique()):\n",
    "        for j in range(100):\n",
    "            solution.append([int(x),int(top_seller[j]),int(j+1)])\n",
    "    return solution\n"
   ]
  },
  {
   "cell_type": "code",
   "execution_count": 9,
   "id": "06c321de",
   "metadata": {},
   "outputs": [
    {
     "name": "stderr",
     "output_type": "stream",
     "text": [
      "100%|██████████| 50000/50000 [00:04<00:00, 11137.96it/s]\n"
     ]
    }
   ],
   "source": [
    "solution = generate_solution()\n",
    "solution.pop(0)\n",
    "solution = pd.DataFrame(solution, columns = ['session_id','item_id', 'rank']).reset_index(drop = True)"
   ]
  },
  {
   "cell_type": "code",
   "execution_count": 10,
   "id": "b4856b60",
   "metadata": {},
   "outputs": [],
   "source": [
    "solution_csv = solution.to_csv\n",
    "solution.to_csv(r'solution_csv.csv',index = False)\n",
    "#first simple dummy solution:"
   ]
  },
  {
   "cell_type": "code",
   "execution_count": 11,
   "id": "abd101d0",
   "metadata": {},
   "outputs": [],
   "source": [
    "products_dict = {}\n",
    "for i,x in enumerate(zip(leaderboard['session_id'], leaderboard['item_id'])):\n",
    "    session, item = x\n",
    "    if session not in products_dict:\n",
    "        products_dict[session] = {}\n",
    "    \n",
    "    if item not in products_dict[session]:\n",
    "        products_dict[session][item] = 0\n",
    "    \n",
    "    products_dict[session][item] += 1"
   ]
  },
  {
   "cell_type": "code",
   "execution_count": 12,
   "id": "2f553d31",
   "metadata": {
    "scrolled": true
   },
   "outputs": [],
   "source": [
    "def generate_solution2():\n",
    "    solution = [[]]\n",
    "    for x in tqdm(leaderboard.session_id.unique()):\n",
    "        l = []\n",
    "        if x in products_dict:\n",
    "            l = sorted((products_dict[x]).items(), key=lambda x: x[1], reverse=True)\n",
    "            l = [y[0] for y in l]\n",
    "            \n",
    "            if len(l)>=101:\n",
    "                l = l[0:100]\n",
    "            \n",
    "            for k in range(len(l)):\n",
    "                solution.append([int(x),int(l[k]),int(k+1)])\n",
    "            \n",
    "        for j in range(len(l),100,1):\n",
    "            solution.append([int(x),int(top_seller[j]),int(j+1)])\n",
    "                                \n",
    "    return solution\n"
   ]
  },
  {
   "cell_type": "code",
   "execution_count": 13,
   "id": "ad8094dd",
   "metadata": {},
   "outputs": [
    {
     "name": "stderr",
     "output_type": "stream",
     "text": [
      "100%|██████████| 50000/50000 [00:03<00:00, 12761.47it/s]\n"
     ]
    }
   ],
   "source": [
    "solution_2 = generate_solution2()"
   ]
  },
  {
   "cell_type": "code",
   "execution_count": 14,
   "id": "deb955eb",
   "metadata": {},
   "outputs": [],
   "source": [
    "solution_2.pop(0)\n",
    "solution_2 = pd.DataFrame(solution_2, columns = ['session_id','item_id','rank'])"
   ]
  },
  {
   "cell_type": "code",
   "execution_count": 15,
   "id": "8dad0493",
   "metadata": {
    "scrolled": true
   },
   "outputs": [
    {
     "data": {
      "text/html": [
       "<div>\n",
       "<style scoped>\n",
       "    .dataframe tbody tr th:only-of-type {\n",
       "        vertical-align: middle;\n",
       "    }\n",
       "\n",
       "    .dataframe tbody tr th {\n",
       "        vertical-align: top;\n",
       "    }\n",
       "\n",
       "    .dataframe thead th {\n",
       "        text-align: right;\n",
       "    }\n",
       "</style>\n",
       "<table border=\"1\" class=\"dataframe\">\n",
       "  <thead>\n",
       "    <tr style=\"text-align: right;\">\n",
       "      <th></th>\n",
       "      <th>session_id</th>\n",
       "      <th>item_id</th>\n",
       "      <th>rank</th>\n",
       "    </tr>\n",
       "  </thead>\n",
       "  <tbody>\n",
       "    <tr>\n",
       "      <th>4999995</th>\n",
       "      <td>4439757</td>\n",
       "      <td>23038</td>\n",
       "      <td>96</td>\n",
       "    </tr>\n",
       "    <tr>\n",
       "      <th>4999996</th>\n",
       "      <td>4439757</td>\n",
       "      <td>19310</td>\n",
       "      <td>97</td>\n",
       "    </tr>\n",
       "    <tr>\n",
       "      <th>4999997</th>\n",
       "      <td>4439757</td>\n",
       "      <td>3741</td>\n",
       "      <td>98</td>\n",
       "    </tr>\n",
       "    <tr>\n",
       "      <th>4999998</th>\n",
       "      <td>4439757</td>\n",
       "      <td>21100</td>\n",
       "      <td>99</td>\n",
       "    </tr>\n",
       "    <tr>\n",
       "      <th>4999999</th>\n",
       "      <td>4439757</td>\n",
       "      <td>19270</td>\n",
       "      <td>100</td>\n",
       "    </tr>\n",
       "  </tbody>\n",
       "</table>\n",
       "</div>"
      ],
      "text/plain": [
       "         session_id  item_id  rank\n",
       "4999995     4439757    23038    96\n",
       "4999996     4439757    19310    97\n",
       "4999997     4439757     3741    98\n",
       "4999998     4439757    21100    99\n",
       "4999999     4439757    19270   100"
      ]
     },
     "execution_count": 15,
     "metadata": {},
     "output_type": "execute_result"
    }
   ],
   "source": [
    "solution_2.tail()"
   ]
  },
  {
   "cell_type": "code",
   "execution_count": 16,
   "id": "0c2d153a",
   "metadata": {},
   "outputs": [],
   "source": [
    "solution_2_csv = solution_2.to_csv\n",
    "solution_2.to_csv(r'solution_2.csv',index = False)\n"
   ]
  },
  {
   "cell_type": "code",
   "execution_count": 17,
   "id": "b745519b",
   "metadata": {},
   "outputs": [],
   "source": [
    "import tensorflow as tf\n",
    "from tensorflow.keras.datasets import imdb\n",
    "from tensorflow.keras.preprocessing import sequence\n",
    "from tensorflow.python.keras.layers import Input, LSTM, Bidirectional, Dense, Embedding"
   ]
  },
  {
   "cell_type": "code",
   "execution_count": 12,
   "id": "84da9050",
   "metadata": {},
   "outputs": [
    {
     "name": "stderr",
     "output_type": "stream",
     "text": [
      "100%|██████████| 23691/23691 [00:40<00:00, 578.10it/s]\n"
     ]
    }
   ],
   "source": [
    "items_unique = items.item_id.unique()\n",
    "item_charac = {}\n",
    "for i in tqdm(items_unique):\n",
    "    selected_items = items[items.item_id == i]\n",
    "    llista = []\n",
    "    for j in range(len(selected_items)):\n",
    "        llista.append(selected_items.iloc[j,1])\n",
    "        llista.append(selected_items.iloc[j,2])\n",
    "    item_charac[i] = llista"
   ]
  },
  {
   "cell_type": "code",
   "execution_count": 13,
   "id": "cbff81c9",
   "metadata": {},
   "outputs": [
    {
     "data": {
      "text/plain": [
       "[56,\n",
       " 365,\n",
       " 62,\n",
       " 801,\n",
       " 68,\n",
       " 351,\n",
       " 33,\n",
       " 802,\n",
       " 72,\n",
       " 75,\n",
       " 29,\n",
       " 123,\n",
       " 16,\n",
       " 38,\n",
       " 50,\n",
       " 76,\n",
       " 61,\n",
       " 462,\n",
       " 53,\n",
       " 6,\n",
       " 7,\n",
       " 394,\n",
       " 69,\n",
       " 885,\n",
       " 47,\n",
       " 123]"
      ]
     },
     "execution_count": 13,
     "metadata": {},
     "output_type": "execute_result"
    }
   ],
   "source": [
    "item_charac[2]"
   ]
  },
  {
   "cell_type": "code",
   "execution_count": null,
   "id": "3973d261",
   "metadata": {},
   "outputs": [],
   "source": []
  }
 ],
 "metadata": {
  "kernelspec": {
   "display_name": "Python 3 (ipykernel)",
   "language": "python",
   "name": "python3"
  },
  "language_info": {
   "codemirror_mode": {
    "name": "ipython",
    "version": 3
   },
   "file_extension": ".py",
   "mimetype": "text/x-python",
   "name": "python",
   "nbconvert_exporter": "python",
   "pygments_lexer": "ipython3",
   "version": "3.7.1"
  }
 },
 "nbformat": 4,
 "nbformat_minor": 5
}
