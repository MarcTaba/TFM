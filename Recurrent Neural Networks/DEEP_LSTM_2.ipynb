{
 "cells": [
  {
   "cell_type": "markdown",
   "metadata": {
    "id": "lUWr8gKNQLt3"
   },
   "source": [
    "# Deepest RNN with LSTM:"
   ]
  },
  {
   "cell_type": "code",
   "execution_count": null,
   "metadata": {},
   "outputs": [],
   "source": [
    "import pandas as pd\n",
    "import numpy as np\n",
    "import datetime\n",
    "from tqdm import tqdm\n",
    "import random\n",
    "\n",
    "from keras.models import Sequential\n",
    "from keras.layers import Dense\n",
    "from keras.layers import LSTM\n",
    "from keras.layers import RNN\n",
    "\n",
    "from numpy import array\n",
    "from keras.models import load_model\n",
    "\n",
    "import tensorflow as tf\n",
    "import matplotlib.pyplot as plt\n",
    "import numpy as np\n",
    "import platform\n",
    "import time\n",
    "import pathlib\n",
    "import os\n",
    "from keras.callbacks import ModelCheckpoint"
   ]
  },
  {
   "cell_type": "markdown",
   "metadata": {},
   "source": [
    "# Data Preparation:"
   ]
  },
  {
   "cell_type": "code",
   "execution_count": 7,
   "metadata": {
    "id": "MUJRpzkMQMNq"
   },
   "outputs": [],
   "source": [
    "#read all the data:\n",
    "items = pd.read_csv(\"item_features.csv\")\n",
    "purchase =  pd.read_csv(\"train_purchases.csv\")\n",
    "sessions =  pd.read_csv(\"train_sessions.csv\")"
   ]
  },
  {
   "cell_type": "code",
   "execution_count": 8,
   "metadata": {
    "id": "_Z-5Yes-QOgv"
   },
   "outputs": [],
   "source": [
    "import time\n",
    "purchase['date'] = pd.to_datetime(purchase['date'])\n",
    "sessions['date'] = pd.to_datetime(sessions['date'])\n",
    "max_day = purchase['date'].max() #max date 31/05/2021 \n",
    "min_day = max_day -datetime.timedelta(31)\n",
    "cond = purchase['date'] >= min_day\n",
    "new_purchases = purchase[cond]\n",
    "top_seller = new_purchases['item_id'].value_counts()[0:100].index.to_list()"
   ]
  },
  {
   "cell_type": "code",
   "execution_count": 9,
   "metadata": {
    "id": "ZbaEJpPMQgvq"
   },
   "outputs": [],
   "source": [
    "max_day = sessions['date'].max() #max date 31/05/2021 \n",
    "testing_date = max_day -datetime.timedelta(31)\n",
    "cond_test = sessions['date'] >= testing_date\n",
    "cond_train = sessions['date'] < testing_date\n",
    "cond_test_purchase = purchase.date >= testing_date\n",
    "cond_train_purchase = purchase.date < testing_date\n",
    "sessions_train = sessions[cond_train]\n",
    "sessions_test = sessions[cond_test]\n",
    "purchase_train = purchase[cond_train_purchase]\n",
    "purchase_test = purchase[cond_test_purchase]"
   ]
  },
  {
   "cell_type": "code",
   "execution_count": 10,
   "metadata": {
    "id": "4yn-tIE4QjQk"
   },
   "outputs": [],
   "source": [
    "def sessions_list(sessions,purchase):\n",
    "    antique_session = sessions.iat[0,0]\n",
    "    list_sessions = []\n",
    "    actual_session = []\n",
    "    purchase_session = 0\n",
    "    for i in tqdm(range(len(sessions))):\n",
    "        new_session = sessions.iat[i,0]\n",
    "        item = sessions.iat[i,1]\n",
    "        if(new_session != antique_session):\n",
    "            actual_session.append(purchase.iat[purchase_session,1])\n",
    "            purchase_session += 1\n",
    "            list_sessions.append(actual_session)\n",
    "            actual_session = []\n",
    "            antique_session = new_session\n",
    "        actual_session.append(item)\n",
    "    list_sessions.append(actual_session)\n",
    "    return list_sessions"
   ]
  },
  {
   "cell_type": "code",
   "execution_count": 11,
   "metadata": {
    "colab": {
     "base_uri": "https://localhost:8080/"
    },
    "id": "huvCSDNFQk_L",
    "outputId": "56905552-547a-4b4a-f8ae-d573d32bfc2d"
   },
   "outputs": [
    {
     "name": "stderr",
     "output_type": "stream",
     "text": [
      "100%|██████████| 4743820/4743820 [04:25<00:00, 17869.90it/s]\n"
     ]
    }
   ],
   "source": [
    "session_item = sessions_list(sessions,purchase)"
   ]
  },
  {
   "cell_type": "code",
   "execution_count": 12,
   "metadata": {
    "colab": {
     "base_uri": "https://localhost:8080/"
    },
    "id": "Fg1LxXAiQl92",
    "outputId": "7a398c9d-9ec6-4999-f426-a104d648c226"
   },
   "outputs": [
    {
     "name": "stderr",
     "output_type": "stream",
     "text": [
      "1000000it [00:04, 244443.07it/s]\n"
     ]
    }
   ],
   "source": [
    "def training_sequences(session_item2):\n",
    "    train_sequence = np.zeros((len(session_item2),6))\n",
    "    trobat = False\n",
    "    for i,x in tqdm(enumerate(session_item2)):\n",
    "        length = len(x)\n",
    "        llista = x.copy()\n",
    "        if(length-1 < 5):\n",
    "            for j in range(5-length+1):\n",
    "                llista.insert(0,0)\n",
    "        if(length-1 > 5):\n",
    "            for j in range(length-6):\n",
    "                llista.pop(0)\n",
    "        llista.pop(-1)                                    \n",
    "        train_sequence[i][0] = llista[0]\n",
    "        train_sequence[i][1] = llista[1]\n",
    "        train_sequence[i][2] = llista[2]\n",
    "        train_sequence[i][3] = llista[3]\n",
    "        train_sequence[i][4] = llista[4]\n",
    "        train_sequence[i][5] = x[len(x)-1]\n",
    "    return train_sequence\n",
    "\n",
    "sequence_training = training_sequences(session_item)"
   ]
  },
  {
   "cell_type": "code",
   "execution_count": 13,
   "metadata": {
    "id": "7xlbltcCQppz"
   },
   "outputs": [],
   "source": [
    "X = np.array(sequence_training)[:,:5] #sequence to predict from\n",
    "y = np.array(sequence_training)[:,5:] #next item in the sequence\n",
    "X = X.astype(int)\n",
    "y = y.astype(int)\n",
    "training = np.array(sequence_training)"
   ]
  },
  {
   "cell_type": "markdown",
   "metadata": {
    "id": "bz-kLc56QzyP"
   },
   "source": [
    "# Network:"
   ]
  },
  {
   "cell_type": "code",
   "execution_count": 14,
   "metadata": {
    "id": "zJniifs2Qsoy"
   },
   "outputs": [],
   "source": [
    "from keras.layers import Embedding, LSTM, Dense, Dropout\n",
    "from keras.preprocessing.text import Tokenizer\n",
    "from keras.callbacks import EarlyStopping\n",
    "from keras.models import Sequential\n",
    "import keras.utils as ku"
   ]
  },
  {
   "cell_type": "code",
   "execution_count": 15,
   "metadata": {
    "colab": {
     "base_uri": "https://localhost:8080/"
    },
    "id": "QQcv2QizQxm-",
    "outputId": "ba4d709c-24fd-4610-c85d-93440a12dc45"
   },
   "outputs": [
    {
     "data": {
      "text/plain": [
       "23692"
      ]
     },
     "execution_count": 15,
     "metadata": {},
     "output_type": "execute_result"
    }
   ],
   "source": [
    "number_items = len(items.item_id.unique())\n",
    "number_items += 1\n",
    "number_items"
   ]
  },
  {
   "cell_type": "code",
   "execution_count": 16,
   "metadata": {
    "id": "L7bxZNRLQyuO"
   },
   "outputs": [],
   "source": [
    "item_index = {}\n",
    "index_item = {}\n",
    "item_index[0] = 0\n",
    "index_item[0] = 0\n",
    "for i,x in enumerate(items.item_id.unique()):\n",
    "    index_item[i+1] = x\n",
    "    item_index[x] = i+1"
   ]
  },
  {
   "cell_type": "code",
   "execution_count": 17,
   "metadata": {
    "id": "0HTXjD8cQ37R"
   },
   "outputs": [],
   "source": [
    "def training_dataset(X2,y2):\n",
    "    #first X.\n",
    "    X_training = np.zeros((X2.shape[0],X2.shape[1]))\n",
    "    y_training = np.zeros(y2.shape[0])\n",
    "    \n",
    "    for i in range(X2.shape[0]):\n",
    "        for j in range(X2.shape[1]):\n",
    "            X_training[i,j] = item_index[X2[i,j]]\n",
    "    \n",
    "    for i in range(y2.shape[0]):\n",
    "        y_training[i] = item_index[y2[i][0]]\n",
    "            \n",
    "    return X_training, y_training\n",
    "X_training, y_training = training_dataset(X,y)  \n",
    "X_training = X_training.astype(int)\n",
    "y_training = y_training.astype(int)"
   ]
  },
  {
   "cell_type": "code",
   "execution_count": 18,
   "metadata": {
    "id": "i32c-lTKQ5lS"
   },
   "outputs": [],
   "source": [
    "def create_model(max_sequence_len, total_words):\n",
    "    input_len = max_sequence_len - 1\n",
    "    model = Sequential()\n",
    "    \n",
    "    # Add Input Embedding Layer\n",
    "    model.add(Embedding(total_words, 256, input_length=input_len))\n",
    "    model.add(LSTM(512,return_sequences=True))\n",
    "    model.add(Dropout(0.2))\n",
    "    # Add Hidden Layer 1 - LSTM Layer\n",
    "    model.add(LSTM(256,return_sequences = True))\n",
    "    model.add(Dropout(0.2))\n",
    "    model.add(LSTM(128,return_sequences=True))\n",
    "    model.add(Dropout(0.2))\n",
    "    model.add(LSTM(64))\n",
    "    model.add(Dropout(0.2))\n",
    "    # Add Output Layer\n",
    "    model.add(Dense(total_words, activation='softmax'))\n",
    "    \n",
    "    return model"
   ]
  },
  {
   "cell_type": "code",
   "execution_count": 19,
   "metadata": {
    "id": "vSaLv2iQQ8EZ"
   },
   "outputs": [],
   "source": [
    "#let's define a sparse categorical crossentropy to start!\n",
    "def loss(labels, logits):\n",
    "    return tf.keras.losses.sparse_categorical_crossentropy(\n",
    "      y_true=labels,\n",
    "      y_pred=logits,\n",
    "      from_logits=True\n",
    "    )"
   ]
  },
  {
   "cell_type": "code",
   "execution_count": 20,
   "metadata": {
    "id": "BOEfirzPwiIf"
   },
   "outputs": [],
   "source": [
    "#let's define a sparse categorical crossentropy to start!\n",
    "def loss2(labels, logits):\n",
    "  print(labels)\n",
    "  labels = int(labels)\n",
    "  index = item_index[labels]\n",
    "  return 1\n",
    "  logits2 = np.array(logits)\n",
    "  return 1\n",
    "  res = list(sorted(enumerate(test_list)))[-100:]\n",
    "  for i in range(100):\n",
    "    if(index == res[i][0]): return 1\n",
    "  return 1"
   ]
  },
  {
   "cell_type": "markdown",
   "metadata": {
    "id": "kunRhnE9-p98"
   },
   "source": [
    "**Metrics**"
   ]
  },
  {
   "cell_type": "code",
   "execution_count": 21,
   "metadata": {
    "id": "SnfBlhr8-rJ3"
   },
   "outputs": [],
   "source": [
    "#let's define a sparse categorical crossentropy to start!\n",
    "from tensorflow.keras.utils import to_categorical\n",
    "def top_5(y_true, y_pred):\n",
    "    return  tf.keras.metrics.sparse_top_k_categorical_accuracy(\n",
    "    y_true, y_pred, k=5\n",
    ")\n",
    "def top_50(y_true, y_pred):\n",
    "    return  tf.keras.metrics.sparse_top_k_categorical_accuracy(\n",
    "    y_true, y_pred, k=50\n",
    ")\n",
    "def top_100(y_true, y_pred):\n",
    "    return  tf.keras.metrics.sparse_top_k_categorical_accuracy(\n",
    "    y_true, y_pred, k=100\n",
    ")"
   ]
  },
  {
   "cell_type": "markdown",
   "metadata": {
    "id": "mUSVKOVq-1rt"
   },
   "source": [
    "**Model Compilation**"
   ]
  },
  {
   "cell_type": "code",
   "execution_count": 22,
   "metadata": {
    "colab": {
     "base_uri": "https://localhost:8080/"
    },
    "id": "8kE0LVrtRc9q",
    "outputId": "19b461e6-ec73-4013-8114-e197f08cd949"
   },
   "outputs": [
    {
     "name": "stdout",
     "output_type": "stream",
     "text": [
      "INFO:tensorflow:Deallocate tpu buffers before initializing tpu system.\n"
     ]
    },
    {
     "name": "stderr",
     "output_type": "stream",
     "text": [
      "INFO:tensorflow:Deallocate tpu buffers before initializing tpu system.\n"
     ]
    },
    {
     "name": "stdout",
     "output_type": "stream",
     "text": [
      "INFO:tensorflow:Initializing the TPU system: grpc://10.25.77.202:8470\n"
     ]
    },
    {
     "name": "stderr",
     "output_type": "stream",
     "text": [
      "INFO:tensorflow:Initializing the TPU system: grpc://10.25.77.202:8470\n"
     ]
    },
    {
     "name": "stdout",
     "output_type": "stream",
     "text": [
      "INFO:tensorflow:Finished initializing TPU system.\n"
     ]
    },
    {
     "name": "stderr",
     "output_type": "stream",
     "text": [
      "INFO:tensorflow:Finished initializing TPU system.\n",
      "WARNING:absl:`tf.distribute.experimental.TPUStrategy` is deprecated, please use  the non experimental symbol `tf.distribute.TPUStrategy` instead.\n"
     ]
    },
    {
     "name": "stdout",
     "output_type": "stream",
     "text": [
      "All devices:  [LogicalDevice(name='/job:worker/replica:0/task:0/device:TPU:0', device_type='TPU'), LogicalDevice(name='/job:worker/replica:0/task:0/device:TPU:1', device_type='TPU'), LogicalDevice(name='/job:worker/replica:0/task:0/device:TPU:2', device_type='TPU'), LogicalDevice(name='/job:worker/replica:0/task:0/device:TPU:3', device_type='TPU'), LogicalDevice(name='/job:worker/replica:0/task:0/device:TPU:4', device_type='TPU'), LogicalDevice(name='/job:worker/replica:0/task:0/device:TPU:5', device_type='TPU'), LogicalDevice(name='/job:worker/replica:0/task:0/device:TPU:6', device_type='TPU'), LogicalDevice(name='/job:worker/replica:0/task:0/device:TPU:7', device_type='TPU')]\n",
      "INFO:tensorflow:Found TPU system:\n"
     ]
    },
    {
     "name": "stderr",
     "output_type": "stream",
     "text": [
      "INFO:tensorflow:Found TPU system:\n"
     ]
    },
    {
     "name": "stdout",
     "output_type": "stream",
     "text": [
      "INFO:tensorflow:*** Num TPU Cores: 8\n"
     ]
    },
    {
     "name": "stderr",
     "output_type": "stream",
     "text": [
      "INFO:tensorflow:*** Num TPU Cores: 8\n"
     ]
    },
    {
     "name": "stdout",
     "output_type": "stream",
     "text": [
      "INFO:tensorflow:*** Num TPU Workers: 1\n"
     ]
    },
    {
     "name": "stderr",
     "output_type": "stream",
     "text": [
      "INFO:tensorflow:*** Num TPU Workers: 1\n"
     ]
    },
    {
     "name": "stdout",
     "output_type": "stream",
     "text": [
      "INFO:tensorflow:*** Num TPU Cores Per Worker: 8\n"
     ]
    },
    {
     "name": "stderr",
     "output_type": "stream",
     "text": [
      "INFO:tensorflow:*** Num TPU Cores Per Worker: 8\n"
     ]
    },
    {
     "name": "stdout",
     "output_type": "stream",
     "text": [
      "INFO:tensorflow:*** Available Device: _DeviceAttributes(/job:localhost/replica:0/task:0/device:CPU:0, CPU, 0, 0)\n"
     ]
    },
    {
     "name": "stderr",
     "output_type": "stream",
     "text": [
      "INFO:tensorflow:*** Available Device: _DeviceAttributes(/job:localhost/replica:0/task:0/device:CPU:0, CPU, 0, 0)\n"
     ]
    },
    {
     "name": "stdout",
     "output_type": "stream",
     "text": [
      "INFO:tensorflow:*** Available Device: _DeviceAttributes(/job:worker/replica:0/task:0/device:CPU:0, CPU, 0, 0)\n"
     ]
    },
    {
     "name": "stderr",
     "output_type": "stream",
     "text": [
      "INFO:tensorflow:*** Available Device: _DeviceAttributes(/job:worker/replica:0/task:0/device:CPU:0, CPU, 0, 0)\n"
     ]
    },
    {
     "name": "stdout",
     "output_type": "stream",
     "text": [
      "INFO:tensorflow:*** Available Device: _DeviceAttributes(/job:worker/replica:0/task:0/device:TPU:0, TPU, 0, 0)\n"
     ]
    },
    {
     "name": "stderr",
     "output_type": "stream",
     "text": [
      "INFO:tensorflow:*** Available Device: _DeviceAttributes(/job:worker/replica:0/task:0/device:TPU:0, TPU, 0, 0)\n"
     ]
    },
    {
     "name": "stdout",
     "output_type": "stream",
     "text": [
      "INFO:tensorflow:*** Available Device: _DeviceAttributes(/job:worker/replica:0/task:0/device:TPU:1, TPU, 0, 0)\n"
     ]
    },
    {
     "name": "stderr",
     "output_type": "stream",
     "text": [
      "INFO:tensorflow:*** Available Device: _DeviceAttributes(/job:worker/replica:0/task:0/device:TPU:1, TPU, 0, 0)\n"
     ]
    },
    {
     "name": "stdout",
     "output_type": "stream",
     "text": [
      "INFO:tensorflow:*** Available Device: _DeviceAttributes(/job:worker/replica:0/task:0/device:TPU:2, TPU, 0, 0)\n"
     ]
    },
    {
     "name": "stderr",
     "output_type": "stream",
     "text": [
      "INFO:tensorflow:*** Available Device: _DeviceAttributes(/job:worker/replica:0/task:0/device:TPU:2, TPU, 0, 0)\n"
     ]
    },
    {
     "name": "stdout",
     "output_type": "stream",
     "text": [
      "INFO:tensorflow:*** Available Device: _DeviceAttributes(/job:worker/replica:0/task:0/device:TPU:3, TPU, 0, 0)\n"
     ]
    },
    {
     "name": "stderr",
     "output_type": "stream",
     "text": [
      "INFO:tensorflow:*** Available Device: _DeviceAttributes(/job:worker/replica:0/task:0/device:TPU:3, TPU, 0, 0)\n"
     ]
    },
    {
     "name": "stdout",
     "output_type": "stream",
     "text": [
      "INFO:tensorflow:*** Available Device: _DeviceAttributes(/job:worker/replica:0/task:0/device:TPU:4, TPU, 0, 0)\n"
     ]
    },
    {
     "name": "stderr",
     "output_type": "stream",
     "text": [
      "INFO:tensorflow:*** Available Device: _DeviceAttributes(/job:worker/replica:0/task:0/device:TPU:4, TPU, 0, 0)\n"
     ]
    },
    {
     "name": "stdout",
     "output_type": "stream",
     "text": [
      "INFO:tensorflow:*** Available Device: _DeviceAttributes(/job:worker/replica:0/task:0/device:TPU:5, TPU, 0, 0)\n"
     ]
    },
    {
     "name": "stderr",
     "output_type": "stream",
     "text": [
      "INFO:tensorflow:*** Available Device: _DeviceAttributes(/job:worker/replica:0/task:0/device:TPU:5, TPU, 0, 0)\n"
     ]
    },
    {
     "name": "stdout",
     "output_type": "stream",
     "text": [
      "INFO:tensorflow:*** Available Device: _DeviceAttributes(/job:worker/replica:0/task:0/device:TPU:6, TPU, 0, 0)\n"
     ]
    },
    {
     "name": "stderr",
     "output_type": "stream",
     "text": [
      "INFO:tensorflow:*** Available Device: _DeviceAttributes(/job:worker/replica:0/task:0/device:TPU:6, TPU, 0, 0)\n"
     ]
    },
    {
     "name": "stdout",
     "output_type": "stream",
     "text": [
      "INFO:tensorflow:*** Available Device: _DeviceAttributes(/job:worker/replica:0/task:0/device:TPU:7, TPU, 0, 0)\n"
     ]
    },
    {
     "name": "stderr",
     "output_type": "stream",
     "text": [
      "INFO:tensorflow:*** Available Device: _DeviceAttributes(/job:worker/replica:0/task:0/device:TPU:7, TPU, 0, 0)\n"
     ]
    },
    {
     "name": "stdout",
     "output_type": "stream",
     "text": [
      "INFO:tensorflow:*** Available Device: _DeviceAttributes(/job:worker/replica:0/task:0/device:TPU_SYSTEM:0, TPU_SYSTEM, 0, 0)\n"
     ]
    },
    {
     "name": "stderr",
     "output_type": "stream",
     "text": [
      "INFO:tensorflow:*** Available Device: _DeviceAttributes(/job:worker/replica:0/task:0/device:TPU_SYSTEM:0, TPU_SYSTEM, 0, 0)\n"
     ]
    },
    {
     "name": "stdout",
     "output_type": "stream",
     "text": [
      "INFO:tensorflow:*** Available Device: _DeviceAttributes(/job:worker/replica:0/task:0/device:XLA_CPU:0, XLA_CPU, 0, 0)\n"
     ]
    },
    {
     "name": "stderr",
     "output_type": "stream",
     "text": [
      "INFO:tensorflow:*** Available Device: _DeviceAttributes(/job:worker/replica:0/task:0/device:XLA_CPU:0, XLA_CPU, 0, 0)\n"
     ]
    }
   ],
   "source": [
    "tf.keras.backend.clear_session()\n",
    "\n",
    "resolver = tf.distribute.cluster_resolver.TPUClusterResolver(tpu='grpc://' + os.environ['COLAB_TPU_ADDR'])\n",
    "tf.config.experimental_connect_to_cluster(resolver)\n",
    "# This is the TPU initialization code that has to be at the beginning.\n",
    "tf.tpu.experimental.initialize_tpu_system(resolver)\n",
    "print(\"All devices: \", tf.config.list_logical_devices('TPU'))\n",
    "\n",
    "strategy = tf.distribute.experimental.TPUStrategy(resolver)"
   ]
  },
  {
   "cell_type": "code",
   "execution_count": 25,
   "metadata": {
    "colab": {
     "base_uri": "https://localhost:8080/"
    },
    "id": "-bUUBRSkwT_i",
    "outputId": "da6660ff-90d8-4bbc-c815-5169c35e8ced"
   },
   "outputs": [
    {
     "name": "stdout",
     "output_type": "stream",
     "text": [
      "Epoch 1/100\n"
     ]
    },
    {
     "name": "stderr",
     "output_type": "stream",
     "text": [
      "/usr/local/lib/python3.7/dist-packages/tensorflow/python/util/dispatch.py:1082: UserWarning: \"`sparse_categorical_crossentropy` received `from_logits=True`, but the `output` argument was produced by a sigmoid or softmax activation and thus does not represent logits. Was this intended?\"\n",
      "  return dispatch_target(*args, **kwargs)\n"
     ]
    },
    {
     "name": "stdout",
     "output_type": "stream",
     "text": [
      "7735/7735 [==============================] - 81s 10ms/step - loss: 8.4942 - acc: 0.0119 - top_5: 0.0333 - top_100: 0.1842 - val_loss: 7.7714 - val_acc: 0.0202 - val_top_5: 0.0630 - val_top_100: 0.2692\n",
      "Epoch 2/100\n",
      "7735/7735 [==============================] - 48s 6ms/step - loss: 7.5532 - acc: 0.0250 - top_5: 0.0742 - top_100: 0.3133 - val_loss: 7.2443 - val_acc: 0.0342 - val_top_5: 0.1007 - val_top_100: 0.3738\n",
      "Epoch 3/100\n",
      "7735/7735 [==============================] - 48s 6ms/step - loss: 7.1933 - acc: 0.0344 - top_5: 0.1000 - top_100: 0.3793 - val_loss: 7.0277 - val_acc: 0.0442 - val_top_5: 0.1232 - val_top_100: 0.4193\n",
      "Epoch 4/100\n",
      "7735/7735 [==============================] - 49s 6ms/step - loss: 7.0047 - acc: 0.0405 - top_5: 0.1166 - top_100: 0.4151 - val_loss: 6.9010 - val_acc: 0.0501 - val_top_5: 0.1361 - val_top_100: 0.4418\n",
      "Epoch 5/100\n",
      "7735/7735 [==============================] - 48s 6ms/step - loss: 6.8762 - acc: 0.0453 - top_5: 0.1278 - top_100: 0.4392 - val_loss: 6.8216 - val_acc: 0.0547 - val_top_5: 0.1491 - val_top_100: 0.4540\n",
      "Epoch 6/100\n",
      "7735/7735 [==============================] - 49s 6ms/step - loss: 6.7816 - acc: 0.0488 - top_5: 0.1362 - top_100: 0.4567 - val_loss: 6.7702 - val_acc: 0.0590 - val_top_5: 0.1544 - val_top_100: 0.4659\n",
      "Epoch 7/100\n",
      "7735/7735 [==============================] - 49s 6ms/step - loss: 6.7051 - acc: 0.0520 - top_5: 0.1429 - top_100: 0.4704 - val_loss: 6.7363 - val_acc: 0.0618 - val_top_5: 0.1603 - val_top_100: 0.4684\n",
      "Epoch 8/100\n",
      "7735/7735 [==============================] - 47s 6ms/step - loss: 6.6404 - acc: 0.0545 - top_5: 0.1484 - top_100: 0.4821 - val_loss: 6.7155 - val_acc: 0.0615 - val_top_5: 0.1640 - val_top_100: 0.4778\n",
      "Epoch 9/100\n",
      "7735/7735 [==============================] - 48s 6ms/step - loss: 6.5821 - acc: 0.0566 - top_5: 0.1537 - top_100: 0.4928 - val_loss: 6.6999 - val_acc: 0.0669 - val_top_5: 0.1656 - val_top_100: 0.4821\n",
      "Epoch 10/100\n",
      "7735/7735 [==============================] - 47s 6ms/step - loss: 6.5317 - acc: 0.0586 - top_5: 0.1583 - top_100: 0.5025 - val_loss: 6.6920 - val_acc: 0.0638 - val_top_5: 0.1669 - val_top_100: 0.4859\n",
      "Epoch 11/100\n",
      "7735/7735 [==============================] - 47s 6ms/step - loss: 6.4856 - acc: 0.0602 - top_5: 0.1626 - top_100: 0.5109 - val_loss: 6.6923 - val_acc: 0.0646 - val_top_5: 0.1709 - val_top_100: 0.4859\n",
      "Epoch 12/100\n",
      "7735/7735 [==============================] - 47s 6ms/step - loss: 6.4416 - acc: 0.0623 - top_5: 0.1661 - top_100: 0.5189 - val_loss: 6.6888 - val_acc: 0.0657 - val_top_5: 0.1671 - val_top_100: 0.4919\n",
      "Epoch 13/100\n",
      "7735/7735 [==============================] - 48s 6ms/step - loss: 6.4019 - acc: 0.0636 - top_5: 0.1702 - top_100: 0.5262 - val_loss: 6.7003 - val_acc: 0.0671 - val_top_5: 0.1709 - val_top_100: 0.4881\n",
      "Epoch 14/100\n",
      "7735/7735 [==============================] - 49s 6ms/step - loss: 6.3623 - acc: 0.0655 - top_5: 0.1740 - top_100: 0.5331 - val_loss: 6.6896 - val_acc: 0.0695 - val_top_5: 0.1728 - val_top_100: 0.4912\n",
      "Epoch 15/100\n",
      "7735/7735 [==============================] - 47s 6ms/step - loss: 6.3250 - acc: 0.0670 - top_5: 0.1777 - top_100: 0.5393 - val_loss: 6.6938 - val_acc: 0.0674 - val_top_5: 0.1732 - val_top_100: 0.4930\n",
      "Epoch 16/100\n",
      "7735/7735 [==============================] - 48s 6ms/step - loss: 6.2913 - acc: 0.0683 - top_5: 0.1807 - top_100: 0.5458 - val_loss: 6.7118 - val_acc: 0.0670 - val_top_5: 0.1749 - val_top_100: 0.4897\n",
      "Epoch 17/100\n",
      "7735/7735 [==============================] - 48s 6ms/step - loss: 6.2599 - acc: 0.0697 - top_5: 0.1835 - top_100: 0.5516 - val_loss: 6.7164 - val_acc: 0.0714 - val_top_5: 0.1703 - val_top_100: 0.4897\n",
      "Epoch 18/100\n",
      "7735/7735 [==============================] - 48s 6ms/step - loss: 6.2275 - acc: 0.0709 - top_5: 0.1866 - top_100: 0.5577 - val_loss: 6.7218 - val_acc: 0.0710 - val_top_5: 0.1735 - val_top_100: 0.4901\n",
      "Epoch 19/100\n",
      "7735/7735 [==============================] - 48s 6ms/step - loss: 6.1957 - acc: 0.0722 - top_5: 0.1902 - top_100: 0.5632 - val_loss: 6.7280 - val_acc: 0.0703 - val_top_5: 0.1750 - val_top_100: 0.4927\n",
      "Epoch 20/100\n",
      "7735/7735 [==============================] - 48s 6ms/step - loss: 6.1672 - acc: 0.0739 - top_5: 0.1928 - top_100: 0.5681 - val_loss: 6.7464 - val_acc: 0.0669 - val_top_5: 0.1745 - val_top_100: 0.4889\n",
      "Epoch 21/100\n",
      "7735/7735 [==============================] - 48s 6ms/step - loss: 6.1391 - acc: 0.0747 - top_5: 0.1953 - top_100: 0.5732 - val_loss: 6.7613 - val_acc: 0.0716 - val_top_5: 0.1773 - val_top_100: 0.4889\n",
      "Epoch 22/100\n",
      "7735/7735 [==============================] - 48s 6ms/step - loss: 6.1116 - acc: 0.0757 - top_5: 0.1981 - top_100: 0.5779 - val_loss: 6.7692 - val_acc: 0.0699 - val_top_5: 0.1769 - val_top_100: 0.4876\n",
      "Epoch 23/100\n",
      "7735/7735 [==============================] - 47s 6ms/step - loss: 6.0875 - acc: 0.0771 - top_5: 0.2010 - top_100: 0.5819 - val_loss: 6.7663 - val_acc: 0.0707 - val_top_5: 0.1747 - val_top_100: 0.4898\n",
      "Epoch 24/100\n",
      "7735/7735 [==============================] - 48s 6ms/step - loss: 6.0639 - acc: 0.0778 - top_5: 0.2034 - top_100: 0.5861 - val_loss: 6.7983 - val_acc: 0.0726 - val_top_5: 0.1755 - val_top_100: 0.4846\n",
      "Epoch 25/100\n",
      "7735/7735 [==============================] - 48s 6ms/step - loss: 6.0407 - acc: 0.0789 - top_5: 0.2059 - top_100: 0.5904 - val_loss: 6.8071 - val_acc: 0.0688 - val_top_5: 0.1750 - val_top_100: 0.4874\n",
      "Epoch 26/100\n",
      "7735/7735 [==============================] - 48s 6ms/step - loss: 6.0184 - acc: 0.0802 - top_5: 0.2083 - top_100: 0.5942 - val_loss: 6.8182 - val_acc: 0.0716 - val_top_5: 0.1753 - val_top_100: 0.4832\n",
      "Epoch 27/100\n",
      "7735/7735 [==============================] - 49s 6ms/step - loss: 5.9969 - acc: 0.0809 - top_5: 0.2108 - top_100: 0.5980 - val_loss: 6.8166 - val_acc: 0.0740 - val_top_5: 0.1772 - val_top_100: 0.4864\n",
      "Epoch 28/100\n",
      "7735/7735 [==============================] - 48s 6ms/step - loss: 5.9763 - acc: 0.0824 - top_5: 0.2131 - top_100: 0.6011 - val_loss: 6.8322 - val_acc: 0.0724 - val_top_5: 0.1760 - val_top_100: 0.4821\n",
      "Epoch 29/100\n",
      "7735/7735 [==============================] - 49s 6ms/step - loss: 5.9607 - acc: 0.0831 - top_5: 0.2148 - top_100: 0.6039 - val_loss: 6.8501 - val_acc: 0.0742 - val_top_5: 0.1788 - val_top_100: 0.4813\n",
      "Epoch 30/100\n",
      "7735/7735 [==============================] - 48s 6ms/step - loss: 5.9405 - acc: 0.0839 - top_5: 0.2172 - top_100: 0.6074 - val_loss: 6.8665 - val_acc: 0.0708 - val_top_5: 0.1785 - val_top_100: 0.4854\n",
      "Epoch 31/100\n",
      "7735/7735 [==============================] - 48s 6ms/step - loss: 5.9230 - acc: 0.0848 - top_5: 0.2189 - top_100: 0.6103 - val_loss: 6.8837 - val_acc: 0.0731 - val_top_5: 0.1757 - val_top_100: 0.4830\n",
      "Epoch 32/100\n",
      "7735/7735 [==============================] - 48s 6ms/step - loss: 5.9071 - acc: 0.0859 - top_5: 0.2207 - top_100: 0.6127 - val_loss: 6.8915 - val_acc: 0.0717 - val_top_5: 0.1743 - val_top_100: 0.4812\n",
      "Epoch 33/100\n",
      "7735/7735 [==============================] - 49s 6ms/step - loss: 5.8933 - acc: 0.0865 - top_5: 0.2221 - top_100: 0.6155 - val_loss: 6.9145 - val_acc: 0.0723 - val_top_5: 0.1772 - val_top_100: 0.4758\n",
      "Epoch 34/100\n",
      "7735/7735 [==============================] - 47s 6ms/step - loss: 5.8754 - acc: 0.0876 - top_5: 0.2242 - top_100: 0.6184 - val_loss: 6.8986 - val_acc: 0.0709 - val_top_5: 0.1803 - val_top_100: 0.4800\n"
     ]
    }
   ],
   "source": [
    "with strategy.scope():\n",
    "  model = create_model(6, number_items)\n",
    "  adam_optimizer = tf.keras.optimizers.Adam(learning_rate=0.001)\n",
    "  model.compile(\n",
    "      optimizer=adam_optimizer,\n",
    "      loss=loss,\n",
    "      metrics= [\"acc\",top_5,top_100],\n",
    "      steps_per_execution=64\n",
    "  )\n",
    "model.fit(X_training,y_training,epochs=100, batch_size=128, validation_split = 0.01, verbose=1,\n",
    "          callbacks  = [EarlyStopping(monitor='val_acc', patience=5),\n",
    "             ModelCheckpoint(filepath='best_model.h5', monitor='val_acc', save_best_only=True)]\n",
    "            )\n",
    "model.save_weights('/tmp/best.h5', overwrite=True)"
   ]
  },
  {
   "cell_type": "markdown",
   "metadata": {
    "id": "NLAc8ZGmyvtw"
   },
   "source": [
    "# Obtaining Predictions:"
   ]
  },
  {
   "cell_type": "code",
   "execution_count": null,
   "metadata": {
    "id": "uNw-9X067qa2"
   },
   "outputs": [],
   "source": [
    "model = tf.keras.models.load_model('best_model.h5', compile=False)\n",
    "\n",
    "#let's define a sparse categorical crossentropy to start!\n",
    "def loss(labels, logits):\n",
    "    return tf.keras.losses.sparse_categorical_crossentropy(\n",
    "      y_true=labels,\n",
    "      y_pred=logits,\n",
    "      from_logits=True\n",
    "    )\n",
    "\n",
    "# summarize model.\n",
    "model.summary()\n",
    "adam_optimizer = tf.keras.optimizers.Adam(learning_rate=0.001)\n",
    "model.compile(\n",
    "      optimizer=adam_optimizer,\n",
    "      loss=loss,\n",
    "      metrics= [\"acc\",top_5,top_100],\n",
    "      steps_per_execution=32\n",
    "  )"
   ]
  },
  {
   "cell_type": "code",
   "execution_count": 320,
   "metadata": {
    "id": "dKjDJD_ez3fg"
   },
   "outputs": [],
   "source": [
    "leaderboard = pd.read_csv(\"test_leaderboard_sessions.csv\")"
   ]
  },
  {
   "cell_type": "code",
   "execution_count": 321,
   "metadata": {
    "id": "VravqdCIEBrN"
   },
   "outputs": [],
   "source": [
    "def sessions_list_testing(sessions):\n",
    "    antique_session = sessions.iat[0,0]\n",
    "    list_sessions = []\n",
    "    actual_session = []\n",
    "    for i in tqdm(range(len(sessions))):\n",
    "        new_session = sessions.iat[i,0]\n",
    "        item = sessions.iat[i,1]\n",
    "        if(new_session != antique_session):\n",
    "            list_sessions.append(actual_session)\n",
    "            actual_session = []\n",
    "            antique_session = new_session\n",
    "        actual_session.append(item)\n",
    "    list_sessions.append(actual_session)\n",
    "    return list_sessions"
   ]
  },
  {
   "cell_type": "code",
   "execution_count": 322,
   "metadata": {
    "colab": {
     "base_uri": "https://localhost:8080/"
    },
    "id": "xkzqeIqyA_Yh",
    "outputId": "d064049b-a01c-4a0a-b3f6-d6bd5a374af0"
   },
   "outputs": [
    {
     "name": "stderr",
     "output_type": "stream",
     "text": [
      "100%|██████████| 229354/229354 [00:18<00:00, 12603.99it/s]\n"
     ]
    }
   ],
   "source": [
    "session_item_testing = sessions_list_testing(leaderboard)"
   ]
  },
  {
   "cell_type": "code",
   "execution_count": 324,
   "metadata": {
    "colab": {
     "base_uri": "https://localhost:8080/"
    },
    "id": "fI9tWmKRBQSe",
    "outputId": "7d97ecd3-f33a-4f1c-c1f4-aad0617abde5"
   },
   "outputs": [
    {
     "name": "stderr",
     "output_type": "stream",
     "text": [
      "50000it [00:00, 101768.27it/s]\n"
     ]
    }
   ],
   "source": [
    "def testing_sequences(session_item2):\n",
    "    train_sequence = np.zeros((len(session_item2),5))\n",
    "    trobat = False\n",
    "    for i,x in tqdm(enumerate(session_item2)):\n",
    "        length = len(x)\n",
    "        llista = x.copy()\n",
    "        if(length < 5):\n",
    "            for j in range(5-length):\n",
    "                llista.insert(0,0)\n",
    "        if(length > 5):\n",
    "            for j in range(length-5):\n",
    "                llista.pop(0)\n",
    "        train_sequence[i][0] = llista[0]\n",
    "        train_sequence[i][1] = llista[1]\n",
    "        train_sequence[i][2] = llista[2]\n",
    "        train_sequence[i][3] = llista[3]\n",
    "        train_sequence[i][4] = llista[4]\n",
    "    return train_sequence\n",
    "\n",
    "sequence_testing = testing_sequences(session_item_testing)"
   ]
  },
  {
   "cell_type": "code",
   "execution_count": 325,
   "metadata": {
    "id": "UlItwp2ZBgyj"
   },
   "outputs": [],
   "source": [
    "X_testing = np.array(sequence_testing)\n",
    "X_testing = X_testing.astype(int)"
   ]
  },
  {
   "cell_type": "code",
   "execution_count": 326,
   "metadata": {
    "id": "ls5xb1CB3aRv"
   },
   "outputs": [],
   "source": [
    "def testing_dataset(X2):\n",
    "    #first X.\n",
    "    X_test = np.zeros((X2.shape[0],X2.shape[1]))    \n",
    "    for i in range(X2.shape[0]):\n",
    "        for j in range(X2.shape[1]):\n",
    "            X_test[i,j] = item_index[X2[i,j]]\n",
    "\n",
    "    return X_test\n",
    "X_leaderboard = testing_dataset(X_testing)  \n",
    "X_leaderboard = X_leaderboard.astype(int)"
   ]
  },
  {
   "cell_type": "markdown",
   "metadata": {
    "id": "5qjrb0vVNPwm"
   },
   "source": [
    "**Creating The prediction Fully with LSTM:**"
   ]
  },
  {
   "cell_type": "code",
   "execution_count": 327,
   "metadata": {
    "id": "cBLxI5vtNPIf"
   },
   "outputs": [],
   "source": [
    "def generate_solution(X_test,leaderboard2, split = 100):\n",
    "    solution = [[]]\n",
    "    sessions_unique = leaderboard.session_id.unique()\n",
    "    for i in tqdm(range(int(50000/split))):\n",
    "      prediction = model.predict(X_test[split*i:split*(i+1)])\n",
    "      for j in range(split):\n",
    "        prediction_actual = prediction[j]\n",
    "        indexes = np.argpartition(prediction_actual, -100)[-100:]\n",
    "        best_100 = indexes[np.argsort(-prediction_actual[indexes])]\n",
    "        for k in range(100):\n",
    "          solution.append([int(sessions_unique[j+i*split]),index_item[int(best_100[k])],k+1])\n",
    "\n",
    "    return solution\n"
   ]
  },
  {
   "cell_type": "code",
   "execution_count": 328,
   "metadata": {
    "colab": {
     "base_uri": "https://localhost:8080/"
    },
    "id": "md4bIfZcPN9x",
    "outputId": "5886910d-16cc-4717-d2c8-d05e052c1c15"
   },
   "outputs": [
    {
     "name": "stderr",
     "output_type": "stream",
     "text": [
      "100%|██████████| 500/500 [01:36<00:00,  5.16it/s]\n"
     ]
    },
    {
     "data": {
      "text/plain": [
       "[]"
      ]
     },
     "execution_count": 328,
     "metadata": {},
     "output_type": "execute_result"
    }
   ],
   "source": [
    "final_solutions = generate_solution(X_leaderboard,leaderboard)\n",
    "final_solutions.pop(0)"
   ]
  },
  {
   "cell_type": "code",
   "execution_count": 329,
   "metadata": {
    "id": "hNJ0BCGrjLVq"
   },
   "outputs": [],
   "source": [
    "solutions = pd.DataFrame(final_solutions, columns = ['session_id','item_id', 'rank']).reset_index(drop = True)\n",
    "solutions_csv = solutions.to_csv\n",
    "solutions.to_csv(r'Simple_LSTM_Solution.csv',index = False)"
   ]
  },
  {
   "cell_type": "code",
   "execution_count": 332,
   "metadata": {
    "colab": {
     "base_uri": "https://localhost:8080/",
     "height": 1000
    },
    "id": "rEhAOg5sj6bz",
    "outputId": "977c51cc-2003-4e00-e50b-f058320c440a"
   },
   "outputs": [
    {
     "data": {
      "text/html": [
       "\n",
       "  <div id=\"df-42d1c157-e99c-4ee7-b220-f3a45a57fc21\">\n",
       "    <div class=\"colab-df-container\">\n",
       "      <div>\n",
       "<style scoped>\n",
       "    .dataframe tbody tr th:only-of-type {\n",
       "        vertical-align: middle;\n",
       "    }\n",
       "\n",
       "    .dataframe tbody tr th {\n",
       "        vertical-align: top;\n",
       "    }\n",
       "\n",
       "    .dataframe thead th {\n",
       "        text-align: right;\n",
       "    }\n",
       "</style>\n",
       "<table border=\"1\" class=\"dataframe\">\n",
       "  <thead>\n",
       "    <tr style=\"text-align: right;\">\n",
       "      <th></th>\n",
       "      <th>session_id</th>\n",
       "      <th>item_id</th>\n",
       "      <th>rank</th>\n",
       "    </tr>\n",
       "  </thead>\n",
       "  <tbody>\n",
       "    <tr>\n",
       "      <th>100</th>\n",
       "      <td>200</td>\n",
       "      <td>4130</td>\n",
       "      <td>1</td>\n",
       "    </tr>\n",
       "    <tr>\n",
       "      <th>101</th>\n",
       "      <td>200</td>\n",
       "      <td>1368</td>\n",
       "      <td>2</td>\n",
       "    </tr>\n",
       "    <tr>\n",
       "      <th>102</th>\n",
       "      <td>200</td>\n",
       "      <td>10163</td>\n",
       "      <td>3</td>\n",
       "    </tr>\n",
       "    <tr>\n",
       "      <th>103</th>\n",
       "      <td>200</td>\n",
       "      <td>20629</td>\n",
       "      <td>4</td>\n",
       "    </tr>\n",
       "    <tr>\n",
       "      <th>104</th>\n",
       "      <td>200</td>\n",
       "      <td>22747</td>\n",
       "      <td>5</td>\n",
       "    </tr>\n",
       "    <tr>\n",
       "      <th>105</th>\n",
       "      <td>200</td>\n",
       "      <td>4028</td>\n",
       "      <td>6</td>\n",
       "    </tr>\n",
       "    <tr>\n",
       "      <th>106</th>\n",
       "      <td>200</td>\n",
       "      <td>19150</td>\n",
       "      <td>7</td>\n",
       "    </tr>\n",
       "    <tr>\n",
       "      <th>107</th>\n",
       "      <td>200</td>\n",
       "      <td>17089</td>\n",
       "      <td>8</td>\n",
       "    </tr>\n",
       "    <tr>\n",
       "      <th>108</th>\n",
       "      <td>200</td>\n",
       "      <td>19310</td>\n",
       "      <td>9</td>\n",
       "    </tr>\n",
       "    <tr>\n",
       "      <th>109</th>\n",
       "      <td>200</td>\n",
       "      <td>18156</td>\n",
       "      <td>10</td>\n",
       "    </tr>\n",
       "    <tr>\n",
       "      <th>110</th>\n",
       "      <td>200</td>\n",
       "      <td>27613</td>\n",
       "      <td>11</td>\n",
       "    </tr>\n",
       "    <tr>\n",
       "      <th>111</th>\n",
       "      <td>200</td>\n",
       "      <td>8060</td>\n",
       "      <td>12</td>\n",
       "    </tr>\n",
       "    <tr>\n",
       "      <th>112</th>\n",
       "      <td>200</td>\n",
       "      <td>2098</td>\n",
       "      <td>13</td>\n",
       "    </tr>\n",
       "    <tr>\n",
       "      <th>113</th>\n",
       "      <td>200</td>\n",
       "      <td>15501</td>\n",
       "      <td>14</td>\n",
       "    </tr>\n",
       "    <tr>\n",
       "      <th>114</th>\n",
       "      <td>200</td>\n",
       "      <td>4758</td>\n",
       "      <td>15</td>\n",
       "    </tr>\n",
       "    <tr>\n",
       "      <th>115</th>\n",
       "      <td>200</td>\n",
       "      <td>20471</td>\n",
       "      <td>16</td>\n",
       "    </tr>\n",
       "    <tr>\n",
       "      <th>116</th>\n",
       "      <td>200</td>\n",
       "      <td>18657</td>\n",
       "      <td>17</td>\n",
       "    </tr>\n",
       "    <tr>\n",
       "      <th>117</th>\n",
       "      <td>200</td>\n",
       "      <td>19882</td>\n",
       "      <td>18</td>\n",
       "    </tr>\n",
       "    <tr>\n",
       "      <th>118</th>\n",
       "      <td>200</td>\n",
       "      <td>17239</td>\n",
       "      <td>19</td>\n",
       "    </tr>\n",
       "    <tr>\n",
       "      <th>119</th>\n",
       "      <td>200</td>\n",
       "      <td>25273</td>\n",
       "      <td>20</td>\n",
       "    </tr>\n",
       "    <tr>\n",
       "      <th>120</th>\n",
       "      <td>200</td>\n",
       "      <td>5056</td>\n",
       "      <td>21</td>\n",
       "    </tr>\n",
       "    <tr>\n",
       "      <th>121</th>\n",
       "      <td>200</td>\n",
       "      <td>9522</td>\n",
       "      <td>22</td>\n",
       "    </tr>\n",
       "    <tr>\n",
       "      <th>122</th>\n",
       "      <td>200</td>\n",
       "      <td>22704</td>\n",
       "      <td>23</td>\n",
       "    </tr>\n",
       "    <tr>\n",
       "      <th>123</th>\n",
       "      <td>200</td>\n",
       "      <td>9184</td>\n",
       "      <td>24</td>\n",
       "    </tr>\n",
       "    <tr>\n",
       "      <th>124</th>\n",
       "      <td>200</td>\n",
       "      <td>23502</td>\n",
       "      <td>25</td>\n",
       "    </tr>\n",
       "    <tr>\n",
       "      <th>125</th>\n",
       "      <td>200</td>\n",
       "      <td>2915</td>\n",
       "      <td>26</td>\n",
       "    </tr>\n",
       "    <tr>\n",
       "      <th>126</th>\n",
       "      <td>200</td>\n",
       "      <td>22695</td>\n",
       "      <td>27</td>\n",
       "    </tr>\n",
       "    <tr>\n",
       "      <th>127</th>\n",
       "      <td>200</td>\n",
       "      <td>5933</td>\n",
       "      <td>28</td>\n",
       "    </tr>\n",
       "    <tr>\n",
       "      <th>128</th>\n",
       "      <td>200</td>\n",
       "      <td>26012</td>\n",
       "      <td>29</td>\n",
       "    </tr>\n",
       "    <tr>\n",
       "      <th>129</th>\n",
       "      <td>200</td>\n",
       "      <td>21919</td>\n",
       "      <td>30</td>\n",
       "    </tr>\n",
       "    <tr>\n",
       "      <th>130</th>\n",
       "      <td>200</td>\n",
       "      <td>375</td>\n",
       "      <td>31</td>\n",
       "    </tr>\n",
       "    <tr>\n",
       "      <th>131</th>\n",
       "      <td>200</td>\n",
       "      <td>6786</td>\n",
       "      <td>32</td>\n",
       "    </tr>\n",
       "    <tr>\n",
       "      <th>132</th>\n",
       "      <td>200</td>\n",
       "      <td>9936</td>\n",
       "      <td>33</td>\n",
       "    </tr>\n",
       "    <tr>\n",
       "      <th>133</th>\n",
       "      <td>200</td>\n",
       "      <td>1018</td>\n",
       "      <td>34</td>\n",
       "    </tr>\n",
       "    <tr>\n",
       "      <th>134</th>\n",
       "      <td>200</td>\n",
       "      <td>24921</td>\n",
       "      <td>35</td>\n",
       "    </tr>\n",
       "    <tr>\n",
       "      <th>135</th>\n",
       "      <td>200</td>\n",
       "      <td>23764</td>\n",
       "      <td>36</td>\n",
       "    </tr>\n",
       "    <tr>\n",
       "      <th>136</th>\n",
       "      <td>200</td>\n",
       "      <td>19912</td>\n",
       "      <td>37</td>\n",
       "    </tr>\n",
       "    <tr>\n",
       "      <th>137</th>\n",
       "      <td>200</td>\n",
       "      <td>14381</td>\n",
       "      <td>38</td>\n",
       "    </tr>\n",
       "    <tr>\n",
       "      <th>138</th>\n",
       "      <td>200</td>\n",
       "      <td>20208</td>\n",
       "      <td>39</td>\n",
       "    </tr>\n",
       "    <tr>\n",
       "      <th>139</th>\n",
       "      <td>200</td>\n",
       "      <td>23774</td>\n",
       "      <td>40</td>\n",
       "    </tr>\n",
       "    <tr>\n",
       "      <th>140</th>\n",
       "      <td>200</td>\n",
       "      <td>19847</td>\n",
       "      <td>41</td>\n",
       "    </tr>\n",
       "    <tr>\n",
       "      <th>141</th>\n",
       "      <td>200</td>\n",
       "      <td>21420</td>\n",
       "      <td>42</td>\n",
       "    </tr>\n",
       "    <tr>\n",
       "      <th>142</th>\n",
       "      <td>200</td>\n",
       "      <td>16218</td>\n",
       "      <td>43</td>\n",
       "    </tr>\n",
       "    <tr>\n",
       "      <th>143</th>\n",
       "      <td>200</td>\n",
       "      <td>12373</td>\n",
       "      <td>44</td>\n",
       "    </tr>\n",
       "    <tr>\n",
       "      <th>144</th>\n",
       "      <td>200</td>\n",
       "      <td>11135</td>\n",
       "      <td>45</td>\n",
       "    </tr>\n",
       "    <tr>\n",
       "      <th>145</th>\n",
       "      <td>200</td>\n",
       "      <td>19895</td>\n",
       "      <td>46</td>\n",
       "    </tr>\n",
       "    <tr>\n",
       "      <th>146</th>\n",
       "      <td>200</td>\n",
       "      <td>23088</td>\n",
       "      <td>47</td>\n",
       "    </tr>\n",
       "    <tr>\n",
       "      <th>147</th>\n",
       "      <td>200</td>\n",
       "      <td>23252</td>\n",
       "      <td>48</td>\n",
       "    </tr>\n",
       "    <tr>\n",
       "      <th>148</th>\n",
       "      <td>200</td>\n",
       "      <td>16922</td>\n",
       "      <td>49</td>\n",
       "    </tr>\n",
       "    <tr>\n",
       "      <th>149</th>\n",
       "      <td>200</td>\n",
       "      <td>973</td>\n",
       "      <td>50</td>\n",
       "    </tr>\n",
       "  </tbody>\n",
       "</table>\n",
       "</div>\n",
       "      <button class=\"colab-df-convert\" onclick=\"convertToInteractive('df-42d1c157-e99c-4ee7-b220-f3a45a57fc21')\"\n",
       "              title=\"Convert this dataframe to an interactive table.\"\n",
       "              style=\"display:none;\">\n",
       "        \n",
       "  <svg xmlns=\"http://www.w3.org/2000/svg\" height=\"24px\"viewBox=\"0 0 24 24\"\n",
       "       width=\"24px\">\n",
       "    <path d=\"M0 0h24v24H0V0z\" fill=\"none\"/>\n",
       "    <path d=\"M18.56 5.44l.94 2.06.94-2.06 2.06-.94-2.06-.94-.94-2.06-.94 2.06-2.06.94zm-11 1L8.5 8.5l.94-2.06 2.06-.94-2.06-.94L8.5 2.5l-.94 2.06-2.06.94zm10 10l.94 2.06.94-2.06 2.06-.94-2.06-.94-.94-2.06-.94 2.06-2.06.94z\"/><path d=\"M17.41 7.96l-1.37-1.37c-.4-.4-.92-.59-1.43-.59-.52 0-1.04.2-1.43.59L10.3 9.45l-7.72 7.72c-.78.78-.78 2.05 0 2.83L4 21.41c.39.39.9.59 1.41.59.51 0 1.02-.2 1.41-.59l7.78-7.78 2.81-2.81c.8-.78.8-2.07 0-2.86zM5.41 20L4 18.59l7.72-7.72 1.47 1.35L5.41 20z\"/>\n",
       "  </svg>\n",
       "      </button>\n",
       "      \n",
       "  <style>\n",
       "    .colab-df-container {\n",
       "      display:flex;\n",
       "      flex-wrap:wrap;\n",
       "      gap: 12px;\n",
       "    }\n",
       "\n",
       "    .colab-df-convert {\n",
       "      background-color: #E8F0FE;\n",
       "      border: none;\n",
       "      border-radius: 50%;\n",
       "      cursor: pointer;\n",
       "      display: none;\n",
       "      fill: #1967D2;\n",
       "      height: 32px;\n",
       "      padding: 0 0 0 0;\n",
       "      width: 32px;\n",
       "    }\n",
       "\n",
       "    .colab-df-convert:hover {\n",
       "      background-color: #E2EBFA;\n",
       "      box-shadow: 0px 1px 2px rgba(60, 64, 67, 0.3), 0px 1px 3px 1px rgba(60, 64, 67, 0.15);\n",
       "      fill: #174EA6;\n",
       "    }\n",
       "\n",
       "    [theme=dark] .colab-df-convert {\n",
       "      background-color: #3B4455;\n",
       "      fill: #D2E3FC;\n",
       "    }\n",
       "\n",
       "    [theme=dark] .colab-df-convert:hover {\n",
       "      background-color: #434B5C;\n",
       "      box-shadow: 0px 1px 3px 1px rgba(0, 0, 0, 0.15);\n",
       "      filter: drop-shadow(0px 1px 2px rgba(0, 0, 0, 0.3));\n",
       "      fill: #FFFFFF;\n",
       "    }\n",
       "  </style>\n",
       "\n",
       "      <script>\n",
       "        const buttonEl =\n",
       "          document.querySelector('#df-42d1c157-e99c-4ee7-b220-f3a45a57fc21 button.colab-df-convert');\n",
       "        buttonEl.style.display =\n",
       "          google.colab.kernel.accessAllowed ? 'block' : 'none';\n",
       "\n",
       "        async function convertToInteractive(key) {\n",
       "          const element = document.querySelector('#df-42d1c157-e99c-4ee7-b220-f3a45a57fc21');\n",
       "          const dataTable =\n",
       "            await google.colab.kernel.invokeFunction('convertToInteractive',\n",
       "                                                     [key], {});\n",
       "          if (!dataTable) return;\n",
       "\n",
       "          const docLinkHtml = 'Like what you see? Visit the ' +\n",
       "            '<a target=\"_blank\" href=https://colab.research.google.com/notebooks/data_table.ipynb>data table notebook</a>'\n",
       "            + ' to learn more about interactive tables.';\n",
       "          element.innerHTML = '';\n",
       "          dataTable['output_type'] = 'display_data';\n",
       "          await google.colab.output.renderOutput(dataTable, element);\n",
       "          const docLink = document.createElement('div');\n",
       "          docLink.innerHTML = docLinkHtml;\n",
       "          element.appendChild(docLink);\n",
       "        }\n",
       "      </script>\n",
       "    </div>\n",
       "  </div>\n",
       "  "
      ],
      "text/plain": [
       "     session_id  item_id  rank\n",
       "100         200     4130     1\n",
       "101         200     1368     2\n",
       "102         200    10163     3\n",
       "103         200    20629     4\n",
       "104         200    22747     5\n",
       "105         200     4028     6\n",
       "106         200    19150     7\n",
       "107         200    17089     8\n",
       "108         200    19310     9\n",
       "109         200    18156    10\n",
       "110         200    27613    11\n",
       "111         200     8060    12\n",
       "112         200     2098    13\n",
       "113         200    15501    14\n",
       "114         200     4758    15\n",
       "115         200    20471    16\n",
       "116         200    18657    17\n",
       "117         200    19882    18\n",
       "118         200    17239    19\n",
       "119         200    25273    20\n",
       "120         200     5056    21\n",
       "121         200     9522    22\n",
       "122         200    22704    23\n",
       "123         200     9184    24\n",
       "124         200    23502    25\n",
       "125         200     2915    26\n",
       "126         200    22695    27\n",
       "127         200     5933    28\n",
       "128         200    26012    29\n",
       "129         200    21919    30\n",
       "130         200      375    31\n",
       "131         200     6786    32\n",
       "132         200     9936    33\n",
       "133         200     1018    34\n",
       "134         200    24921    35\n",
       "135         200    23764    36\n",
       "136         200    19912    37\n",
       "137         200    14381    38\n",
       "138         200    20208    39\n",
       "139         200    23774    40\n",
       "140         200    19847    41\n",
       "141         200    21420    42\n",
       "142         200    16218    43\n",
       "143         200    12373    44\n",
       "144         200    11135    45\n",
       "145         200    19895    46\n",
       "146         200    23088    47\n",
       "147         200    23252    48\n",
       "148         200    16922    49\n",
       "149         200      973    50"
      ]
     },
     "execution_count": 332,
     "metadata": {},
     "output_type": "execute_result"
    }
   ],
   "source": [
    "solutions[100:150]"
   ]
  },
  {
   "cell_type": "code",
   "execution_count": null,
   "metadata": {
    "id": "XqH1lTp0zVVp"
   },
   "outputs": [],
   "source": []
  }
 ],
 "metadata": {
  "accelerator": "TPU",
  "colab": {
   "collapsed_sections": [],
   "name": "LSTM_1_Entrendada.ipynb",
   "provenance": []
  },
  "kernelspec": {
   "display_name": "Python 3 (ipykernel)",
   "language": "python",
   "name": "python3"
  },
  "language_info": {
   "codemirror_mode": {
    "name": "ipython",
    "version": 3
   },
   "file_extension": ".py",
   "mimetype": "text/x-python",
   "name": "python",
   "nbconvert_exporter": "python",
   "pygments_lexer": "ipython3",
   "version": "3.8.13"
  }
 },
 "nbformat": 4,
 "nbformat_minor": 1
}
