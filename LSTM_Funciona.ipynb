{
  "nbformat": 4,
  "nbformat_minor": 0,
  "metadata": {
    "colab": {
      "name": "Untitled9.ipynb",
      "provenance": [],
      "collapsed_sections": []
    },
    "kernelspec": {
      "name": "python3",
      "display_name": "Python 3"
    },
    "language_info": {
      "name": "python"
    },
    "accelerator": "GPU"
  },
  "cells": [
    {
      "cell_type": "code",
      "execution_count": 1,
      "metadata": {
        "id": "lUWr8gKNQLt3"
      },
      "outputs": [],
      "source": [
        "import pandas as pd\n",
        "import numpy as np\n",
        "import datetime\n",
        "from tqdm import tqdm\n",
        "import random\n",
        "\n",
        "from keras.models import Sequential\n",
        "from keras.layers import Dense\n",
        "from keras.layers import LSTM\n",
        "from numpy import array\n",
        "from keras.models import load_model\n",
        "\n",
        "import tensorflow as tf\n",
        "import matplotlib.pyplot as plt\n",
        "import numpy as np\n",
        "import platform\n",
        "import time\n",
        "import pathlib\n",
        "import os"
      ]
    },
    {
      "cell_type": "code",
      "source": [
        "#read all the data:\n",
        "items = pd.read_csv(\"item_features.csv\")\n",
        "purchase =  pd.read_csv(\"train_purchases.csv\")\n",
        "sessions =  pd.read_csv(\"train_sessions.csv\")"
      ],
      "metadata": {
        "id": "MUJRpzkMQMNq"
      },
      "execution_count": 2,
      "outputs": []
    },
    {
      "cell_type": "code",
      "source": [
        "import time\n",
        "purchase['date'] = pd.to_datetime(purchase['date'])\n",
        "sessions['date'] = pd.to_datetime(sessions['date'])\n",
        "max_day = purchase['date'].max() #max date 31/05/2021 \n",
        "min_day = max_day -datetime.timedelta(31)\n",
        "cond = purchase['date'] >= min_day\n",
        "new_purchases = purchase[cond]\n",
        "top_seller = new_purchases['item_id'].value_counts()[0:100].index.to_list()"
      ],
      "metadata": {
        "id": "_Z-5Yes-QOgv"
      },
      "execution_count": 3,
      "outputs": []
    },
    {
      "cell_type": "code",
      "source": [
        "max_day = sessions['date'].max() #max date 31/05/2021 \n",
        "testing_date = max_day -datetime.timedelta(31)\n",
        "cond_test = sessions['date'] >= testing_date\n",
        "cond_train = sessions['date'] < testing_date\n",
        "cond_test_purchase = purchase.date >= testing_date\n",
        "cond_train_purchase = purchase.date < testing_date\n",
        "sessions_train = sessions[cond_train]\n",
        "sessions_test = sessions[cond_test]\n",
        "purchase_train = purchase[cond_train_purchase]\n",
        "purchase_test = purchase[cond_test_purchase]"
      ],
      "metadata": {
        "id": "ZbaEJpPMQgvq"
      },
      "execution_count": 4,
      "outputs": []
    },
    {
      "cell_type": "code",
      "source": [
        "def sessions_list(sessions,purchase):\n",
        "    antique_session = sessions.iat[0,0]\n",
        "    list_sessions = []\n",
        "    actual_session = []\n",
        "    purchase_session = 0\n",
        "    for i in tqdm(range(len(sessions))):\n",
        "        new_session = sessions.iat[i,0]\n",
        "        item = sessions.iat[i,1]\n",
        "        if(new_session != antique_session):\n",
        "            actual_session.append(purchase.iat[purchase_session,1])\n",
        "            purchase_session += 1\n",
        "            list_sessions.append(actual_session)\n",
        "            actual_session = []\n",
        "            antique_session = new_session\n",
        "        actual_session.append(item)\n",
        "    list_sessions.append(actual_session)\n",
        "    return list_sessions"
      ],
      "metadata": {
        "id": "4yn-tIE4QjQk"
      },
      "execution_count": 5,
      "outputs": []
    },
    {
      "cell_type": "code",
      "source": [
        "session_item = sessions_list(sessions,purchase)"
      ],
      "metadata": {
        "colab": {
          "base_uri": "https://localhost:8080/"
        },
        "id": "huvCSDNFQk_L",
        "outputId": "964f9b92-527c-4748-f9f9-79b24b32b655"
      },
      "execution_count": 6,
      "outputs": [
        {
          "output_type": "stream",
          "name": "stderr",
          "text": [
            "100%|██████████| 4743820/4743820 [03:45<00:00, 21063.26it/s]\n"
          ]
        }
      ]
    },
    {
      "cell_type": "code",
      "source": [
        "def training_sequences(session_item2):\n",
        "    train_sequence = np.zeros((len(session_item),6))\n",
        "    trobat = False\n",
        "    for i,x in tqdm(enumerate(session_item2)):\n",
        "        length = len(x)\n",
        "        llista = x.copy()\n",
        "        if(length-1 < 5):\n",
        "            for j in range(5-length+1):\n",
        "                llista.insert(0,0)\n",
        "        if(length-1 > 5):\n",
        "            for j in range(length-6):\n",
        "                llista.pop(0)\n",
        "        llista.pop(-1)                                    \n",
        "        train_sequence[i][0] = llista[0]\n",
        "        train_sequence[i][1] = llista[1]\n",
        "        train_sequence[i][2] = llista[2]\n",
        "        train_sequence[i][3] = llista[3]\n",
        "        train_sequence[i][4] = llista[4]\n",
        "        train_sequence[i][5] = x[len(x)-1]\n",
        "    return train_sequence\n",
        "\n",
        "sequence_training = training_sequences(session_item)"
      ],
      "metadata": {
        "colab": {
          "base_uri": "https://localhost:8080/"
        },
        "id": "Fg1LxXAiQl92",
        "outputId": "5dc5f9a7-ae8f-4b30-bb0b-824f00e06d9f"
      },
      "execution_count": 7,
      "outputs": [
        {
          "output_type": "stream",
          "name": "stderr",
          "text": [
            "1000000it [00:03, 305268.88it/s]\n"
          ]
        }
      ]
    },
    {
      "cell_type": "code",
      "source": [
        "X = np.array(sequence_training)[:,:5] #sequence to predict from\n",
        "y = np.array(sequence_training)[:,5:] #next item in the sequence\n",
        "X = X.astype(int)\n",
        "y = y.astype(int)\n",
        "training = np.array(sequence_training)"
      ],
      "metadata": {
        "id": "7xlbltcCQppz"
      },
      "execution_count": 8,
      "outputs": []
    },
    {
      "cell_type": "markdown",
      "source": [
        "# LSTM:"
      ],
      "metadata": {
        "id": "bz-kLc56QzyP"
      }
    },
    {
      "cell_type": "code",
      "source": [
        "from keras.layers import Embedding, LSTM, Dense, Dropout\n",
        "from keras.preprocessing.text import Tokenizer\n",
        "from keras.callbacks import EarlyStopping\n",
        "from keras.models import Sequential\n",
        "import keras.utils as ku"
      ],
      "metadata": {
        "id": "zJniifs2Qsoy"
      },
      "execution_count": 9,
      "outputs": []
    },
    {
      "cell_type": "code",
      "source": [
        "number_items = len(items.item_id.unique())\n",
        "number_items += 1\n",
        "number_items"
      ],
      "metadata": {
        "colab": {
          "base_uri": "https://localhost:8080/"
        },
        "id": "QQcv2QizQxm-",
        "outputId": "f2777bbb-53f7-436a-ceca-20e5aeba3533"
      },
      "execution_count": 10,
      "outputs": [
        {
          "output_type": "execute_result",
          "data": {
            "text/plain": [
              "23692"
            ]
          },
          "metadata": {},
          "execution_count": 10
        }
      ]
    },
    {
      "cell_type": "code",
      "source": [
        "item_index = {}\n",
        "index_item = {}\n",
        "item_index[0] = 0\n",
        "index_item[0] = 0\n",
        "for i,x in enumerate(items.item_id.unique()):\n",
        "    index_item[i+1] = x\n",
        "    item_index[x] = i+1"
      ],
      "metadata": {
        "id": "L7bxZNRLQyuO"
      },
      "execution_count": 11,
      "outputs": []
    },
    {
      "cell_type": "code",
      "source": [
        "def training_dataset(X2,y2):\n",
        "    #first X.\n",
        "    X_training = np.zeros((X2.shape[0],X2.shape[1]))\n",
        "    y_training = np.zeros(y2.shape[0])\n",
        "    \n",
        "    for i in range(X2.shape[0]):\n",
        "        for j in range(X2.shape[1]):\n",
        "            X_training[i,j] = item_index[X2[i,j]]\n",
        "    \n",
        "    for i in range(y2.shape[0]):\n",
        "        y_training[i] = item_index[y2[i][0]]\n",
        "            \n",
        "    return X_training, y_training\n",
        "X_training, y_training = training_dataset(X,y)  \n",
        "X_training = X_training.astype(int)\n",
        "y_training = y_training.astype(int)"
      ],
      "metadata": {
        "id": "0HTXjD8cQ37R"
      },
      "execution_count": 12,
      "outputs": []
    },
    {
      "cell_type": "code",
      "source": [
        "def create_model(max_sequence_len, total_words):\n",
        "    input_len = max_sequence_len - 1\n",
        "    model = Sequential()\n",
        "    \n",
        "    # Add Input Embedding Layer\n",
        "    model.add(Embedding(total_words, 10, input_length=input_len))\n",
        "    \n",
        "    # Add Hidden Layer 1 - LSTM Layer\n",
        "    model.add(LSTM(100))\n",
        "    model.add(Dropout(0.1))\n",
        "    \n",
        "    # Add Output Layer\n",
        "    model.add(Dense(total_words, activation='softmax'))\n",
        "    \n",
        "    return model"
      ],
      "metadata": {
        "id": "i32c-lTKQ5lS"
      },
      "execution_count": 33,
      "outputs": []
    },
    {
      "cell_type": "code",
      "source": [
        "model = create_model(6, number_items)\n",
        "model.summary()"
      ],
      "metadata": {
        "colab": {
          "base_uri": "https://localhost:8080/"
        },
        "id": "9wE7JYBlQ68t",
        "outputId": "79b55fe5-79a5-4eb8-ba6a-2c2062735781"
      },
      "execution_count": 34,
      "outputs": [
        {
          "output_type": "stream",
          "name": "stdout",
          "text": [
            "Model: \"sequential_1\"\n",
            "_________________________________________________________________\n",
            " Layer (type)                Output Shape              Param #   \n",
            "=================================================================\n",
            " embedding_1 (Embedding)     (None, 5, 10)             236920    \n",
            "                                                                 \n",
            " lstm_1 (LSTM)               (None, 100)               44400     \n",
            "                                                                 \n",
            " dropout_1 (Dropout)         (None, 100)               0         \n",
            "                                                                 \n",
            " dense_1 (Dense)             (None, 23692)             2392892   \n",
            "                                                                 \n",
            "=================================================================\n",
            "Total params: 2,674,212\n",
            "Trainable params: 2,674,212\n",
            "Non-trainable params: 0\n",
            "_________________________________________________________________\n"
          ]
        }
      ]
    },
    {
      "cell_type": "code",
      "source": [
        "#let's define a sparse categorical crossentropy to start!\n",
        "def loss(labels, logits):\n",
        "    return tf.keras.losses.sparse_categorical_crossentropy(\n",
        "      y_true=labels,\n",
        "      y_pred=logits,\n",
        "      from_logits=True\n",
        "    )"
      ],
      "metadata": {
        "id": "vSaLv2iQQ8EZ"
      },
      "execution_count": 35,
      "outputs": []
    },
    {
      "cell_type": "code",
      "source": [
        "#let's define a sparse categorical crossentropy to start!\n",
        "def loss2(labels, logits):\n",
        "  print(labels)\n",
        "  labels = int(labels)\n",
        "  index = item_index[labels]\n",
        "  return 1\n",
        "  logits2 = np.array(logits)\n",
        "  return 1\n",
        "  res = list(sorted(enumerate(test_list)))[-100:]\n",
        "  for i in range(100):\n",
        "    if(index == res[i][0]): return 1\n",
        "  return 1"
      ],
      "metadata": {
        "id": "BOEfirzPwiIf"
      },
      "execution_count": 58,
      "outputs": []
    },
    {
      "cell_type": "code",
      "source": [
        "adam_optimizer = tf.keras.optimizers.Adam(learning_rate=0.001)\n",
        "model.compile(\n",
        "    optimizer=adam_optimizer,\n",
        "    loss=loss\n",
        ")"
      ],
      "metadata": {
        "id": "KNdGEn37Q9ON"
      },
      "execution_count": 60,
      "outputs": []
    },
    {
      "cell_type": "code",
      "source": [
        "model.fit(X_training,y_training,epochs=20, verbose=1)"
      ],
      "metadata": {
        "colab": {
          "base_uri": "https://localhost:8080/",
          "height": 450
        },
        "id": "HqDTWobUQ-kJ",
        "outputId": "15302150-9a2b-4cf8-f06b-aff563338a87"
      },
      "execution_count": 59,
      "outputs": [
        {
          "output_type": "stream",
          "name": "stdout",
          "text": [
            "Epoch 1/20\n"
          ]
        },
        {
          "output_type": "error",
          "ename": "TypeError",
          "evalue": "ignored",
          "traceback": [
            "\u001b[0;31m---------------------------------------------------------------------------\u001b[0m",
            "\u001b[0;31mTypeError\u001b[0m                                 Traceback (most recent call last)",
            "\u001b[0;32m<ipython-input-59-792529f6bfa3>\u001b[0m in \u001b[0;36m<module>\u001b[0;34m()\u001b[0m\n\u001b[0;32m----> 1\u001b[0;31m \u001b[0mmodel\u001b[0m\u001b[0;34m.\u001b[0m\u001b[0mfit\u001b[0m\u001b[0;34m(\u001b[0m\u001b[0mX_training\u001b[0m\u001b[0;34m,\u001b[0m\u001b[0my_training\u001b[0m\u001b[0;34m,\u001b[0m\u001b[0mepochs\u001b[0m\u001b[0;34m=\u001b[0m\u001b[0;36m20\u001b[0m\u001b[0;34m,\u001b[0m \u001b[0mverbose\u001b[0m\u001b[0;34m=\u001b[0m\u001b[0;36m1\u001b[0m\u001b[0;34m)\u001b[0m\u001b[0;34m\u001b[0m\u001b[0;34m\u001b[0m\u001b[0m\n\u001b[0m",
            "\u001b[0;32m/usr/local/lib/python3.7/dist-packages/keras/utils/traceback_utils.py\u001b[0m in \u001b[0;36merror_handler\u001b[0;34m(*args, **kwargs)\u001b[0m\n\u001b[1;32m     65\u001b[0m     \u001b[0;32mexcept\u001b[0m \u001b[0mException\u001b[0m \u001b[0;32mas\u001b[0m \u001b[0me\u001b[0m\u001b[0;34m:\u001b[0m  \u001b[0;31m# pylint: disable=broad-except\u001b[0m\u001b[0;34m\u001b[0m\u001b[0;34m\u001b[0m\u001b[0m\n\u001b[1;32m     66\u001b[0m       \u001b[0mfiltered_tb\u001b[0m \u001b[0;34m=\u001b[0m \u001b[0m_process_traceback_frames\u001b[0m\u001b[0;34m(\u001b[0m\u001b[0me\u001b[0m\u001b[0;34m.\u001b[0m\u001b[0m__traceback__\u001b[0m\u001b[0;34m)\u001b[0m\u001b[0;34m\u001b[0m\u001b[0;34m\u001b[0m\u001b[0m\n\u001b[0;32m---> 67\u001b[0;31m       \u001b[0;32mraise\u001b[0m \u001b[0me\u001b[0m\u001b[0;34m.\u001b[0m\u001b[0mwith_traceback\u001b[0m\u001b[0;34m(\u001b[0m\u001b[0mfiltered_tb\u001b[0m\u001b[0;34m)\u001b[0m \u001b[0;32mfrom\u001b[0m \u001b[0;32mNone\u001b[0m\u001b[0;34m\u001b[0m\u001b[0;34m\u001b[0m\u001b[0m\n\u001b[0m\u001b[1;32m     68\u001b[0m     \u001b[0;32mfinally\u001b[0m\u001b[0;34m:\u001b[0m\u001b[0;34m\u001b[0m\u001b[0;34m\u001b[0m\u001b[0m\n\u001b[1;32m     69\u001b[0m       \u001b[0;32mdel\u001b[0m \u001b[0mfiltered_tb\u001b[0m\u001b[0;34m\u001b[0m\u001b[0;34m\u001b[0m\u001b[0m\n",
            "\u001b[0;32m/usr/local/lib/python3.7/dist-packages/tensorflow/python/framework/func_graph.py\u001b[0m in \u001b[0;36mautograph_handler\u001b[0;34m(*args, **kwargs)\u001b[0m\n\u001b[1;32m   1145\u001b[0m           \u001b[0;32mexcept\u001b[0m \u001b[0mException\u001b[0m \u001b[0;32mas\u001b[0m \u001b[0me\u001b[0m\u001b[0;34m:\u001b[0m  \u001b[0;31m# pylint:disable=broad-except\u001b[0m\u001b[0;34m\u001b[0m\u001b[0;34m\u001b[0m\u001b[0m\n\u001b[1;32m   1146\u001b[0m             \u001b[0;32mif\u001b[0m \u001b[0mhasattr\u001b[0m\u001b[0;34m(\u001b[0m\u001b[0me\u001b[0m\u001b[0;34m,\u001b[0m \u001b[0;34m\"ag_error_metadata\"\u001b[0m\u001b[0;34m)\u001b[0m\u001b[0;34m:\u001b[0m\u001b[0;34m\u001b[0m\u001b[0;34m\u001b[0m\u001b[0m\n\u001b[0;32m-> 1147\u001b[0;31m               \u001b[0;32mraise\u001b[0m \u001b[0me\u001b[0m\u001b[0;34m.\u001b[0m\u001b[0mag_error_metadata\u001b[0m\u001b[0;34m.\u001b[0m\u001b[0mto_exception\u001b[0m\u001b[0;34m(\u001b[0m\u001b[0me\u001b[0m\u001b[0;34m)\u001b[0m\u001b[0;34m\u001b[0m\u001b[0;34m\u001b[0m\u001b[0m\n\u001b[0m\u001b[1;32m   1148\u001b[0m             \u001b[0;32melse\u001b[0m\u001b[0;34m:\u001b[0m\u001b[0;34m\u001b[0m\u001b[0;34m\u001b[0m\u001b[0m\n\u001b[1;32m   1149\u001b[0m               \u001b[0;32mraise\u001b[0m\u001b[0;34m\u001b[0m\u001b[0;34m\u001b[0m\u001b[0m\n",
            "\u001b[0;31mTypeError\u001b[0m: in user code:\n\n    File \"/usr/local/lib/python3.7/dist-packages/keras/engine/training.py\", line 1021, in train_function  *\n        return step_function(self, iterator)\n    File \"<ipython-input-55-2f575581967b>\", line 4, in loss2  *\n        index = item_index[labels]\n\n    TypeError: Tensor is unhashable. Instead, use tensor.ref() as the key.\n"
          ]
        }
      ]
    },
    {
      "cell_type": "code",
      "source": [
        "from operator import itemgetter\n",
        "\n",
        "test_list = [1,2,3,4,5,6]\n",
        "K = 2\n",
        "res = list(sorted(enumerate(test_list)))[-K:]\n",
        "res"
      ],
      "metadata": {
        "id": "8kE0LVrtRc9q",
        "colab": {
          "base_uri": "https://localhost:8080/"
        },
        "outputId": "a17691b8-94c2-4da3-fb20-114dd33c950c"
      },
      "execution_count": 44,
      "outputs": [
        {
          "output_type": "execute_result",
          "data": {
            "text/plain": [
              "[(4, 5), (5, 6)]"
            ]
          },
          "metadata": {},
          "execution_count": 44
        }
      ]
    },
    {
      "cell_type": "code",
      "source": [
        "vec = [1,2,3,4,5]\n",
        "sorted(np.vstack((range(5),vec)))"
      ],
      "metadata": {
        "colab": {
          "base_uri": "https://localhost:8080/",
          "height": 183
        },
        "id": "-bUUBRSkwT_i",
        "outputId": "f9e662d2-7ca4-4640-cf77-387a57b48b49"
      },
      "execution_count": null,
      "outputs": [
        {
          "output_type": "error",
          "ename": "ValueError",
          "evalue": "ignored",
          "traceback": [
            "\u001b[0;31m---------------------------------------------------------------------------\u001b[0m",
            "\u001b[0;31mValueError\u001b[0m                                Traceback (most recent call last)",
            "\u001b[0;32m<ipython-input-96-20f79c71ea98>\u001b[0m in \u001b[0;36m<module>\u001b[0;34m()\u001b[0m\n\u001b[1;32m      1\u001b[0m \u001b[0mvec\u001b[0m \u001b[0;34m=\u001b[0m \u001b[0;34m[\u001b[0m\u001b[0;36m1\u001b[0m\u001b[0;34m,\u001b[0m\u001b[0;36m2\u001b[0m\u001b[0;34m,\u001b[0m\u001b[0;36m3\u001b[0m\u001b[0;34m,\u001b[0m\u001b[0;36m4\u001b[0m\u001b[0;34m,\u001b[0m\u001b[0;36m5\u001b[0m\u001b[0;34m]\u001b[0m\u001b[0;34m\u001b[0m\u001b[0;34m\u001b[0m\u001b[0m\n\u001b[0;32m----> 2\u001b[0;31m \u001b[0msorted\u001b[0m\u001b[0;34m(\u001b[0m\u001b[0mnp\u001b[0m\u001b[0;34m.\u001b[0m\u001b[0mvstack\u001b[0m\u001b[0;34m(\u001b[0m\u001b[0;34m(\u001b[0m\u001b[0mrange\u001b[0m\u001b[0;34m(\u001b[0m\u001b[0;36m5\u001b[0m\u001b[0;34m)\u001b[0m\u001b[0;34m,\u001b[0m\u001b[0mvec\u001b[0m\u001b[0;34m)\u001b[0m\u001b[0;34m)\u001b[0m\u001b[0;34m)\u001b[0m\u001b[0;34m\u001b[0m\u001b[0;34m\u001b[0m\u001b[0m\n\u001b[0m",
            "\u001b[0;31mValueError\u001b[0m: The truth value of an array with more than one element is ambiguous. Use a.any() or a.all()"
          ]
        }
      ]
    },
    {
      "cell_type": "code",
      "source": [
        "model.predict(X_training[0].reshape(1,5))"
      ],
      "metadata": {
        "colab": {
          "base_uri": "https://localhost:8080/"
        },
        "id": "o1Ow-nDGwXnn",
        "outputId": "b5166f1f-30ed-4df4-e4e5-c31da56ca559"
      },
      "execution_count": 32,
      "outputs": [
        {
          "output_type": "execute_result",
          "data": {
            "text/plain": [
              "array([[1.15590915e-07, 1.15554101e-07, 5.46083829e-05, ...,\n",
              "        5.73711841e-05, 1.14773769e-07, 2.73790715e-06]], dtype=float32)"
            ]
          },
          "metadata": {},
          "execution_count": 32
        }
      ]
    },
    {
      "cell_type": "code",
      "source": [
        "X_training[0]"
      ],
      "metadata": {
        "id": "Z3_C3O7xwcbN",
        "colab": {
          "base_uri": "https://localhost:8080/"
        },
        "outputId": "74574eae-a74c-468d-9565-2f192d9ad02b"
      },
      "execution_count": 25,
      "outputs": [
        {
          "output_type": "execute_result",
          "data": {
            "text/plain": [
              "array([   0,    0,    0, 8123, 8123])"
            ]
          },
          "metadata": {},
          "execution_count": 25
        }
      ]
    },
    {
      "cell_type": "code",
      "source": [
        ""
      ],
      "metadata": {
        "id": "KInrvv8jBGTc"
      },
      "execution_count": null,
      "outputs": []
    }
  ]
}