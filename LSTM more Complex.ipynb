{
  "nbformat": 4,
  "nbformat_minor": 0,
  "metadata": {
    "colab": {
      "name": "Untitled9.ipynb",
      "provenance": [],
      "collapsed_sections": []
    },
    "kernelspec": {
      "name": "python3",
      "display_name": "Python 3"
    },
    "language_info": {
      "name": "python"
    },
    "accelerator": "GPU"
  },
  "cells": [
    {
      "cell_type": "code",
      "execution_count": 1,
      "metadata": {
        "id": "lUWr8gKNQLt3"
      },
      "outputs": [],
      "source": [
        "import pandas as pd\n",
        "import numpy as np\n",
        "import datetime\n",
        "from tqdm import tqdm\n",
        "import random\n",
        "\n",
        "from keras.models import Sequential\n",
        "from keras.layers import Dense\n",
        "from keras.layers import LSTM\n",
        "from numpy import array\n",
        "from keras.models import load_model\n",
        "\n",
        "import tensorflow as tf\n",
        "import matplotlib.pyplot as plt\n",
        "import numpy as np\n",
        "import platform\n",
        "import time\n",
        "import pathlib\n",
        "import os"
      ]
    },
    {
      "cell_type": "code",
      "source": [
        "#read all the data:\n",
        "items = pd.read_csv(\"item_features.csv\")\n",
        "purchase =  pd.read_csv(\"train_purchases.csv\")\n",
        "sessions =  pd.read_csv(\"train_sessions.csv\")"
      ],
      "metadata": {
        "id": "MUJRpzkMQMNq"
      },
      "execution_count": 2,
      "outputs": []
    },
    {
      "cell_type": "code",
      "source": [
        "import time\n",
        "purchase['date'] = pd.to_datetime(purchase['date'])\n",
        "sessions['date'] = pd.to_datetime(sessions['date'])\n",
        "max_day = purchase['date'].max() #max date 31/05/2021 \n",
        "min_day = max_day -datetime.timedelta(31)\n",
        "cond = purchase['date'] >= min_day\n",
        "new_purchases = purchase[cond]\n",
        "top_seller = new_purchases['item_id'].value_counts()[0:100].index.to_list()"
      ],
      "metadata": {
        "id": "_Z-5Yes-QOgv"
      },
      "execution_count": 3,
      "outputs": []
    },
    {
      "cell_type": "code",
      "source": [
        "max_day = sessions['date'].max() #max date 31/05/2021 \n",
        "testing_date = max_day -datetime.timedelta(31)\n",
        "cond_test = sessions['date'] >= testing_date\n",
        "cond_train = sessions['date'] < testing_date\n",
        "cond_test_purchase = purchase.date >= testing_date\n",
        "cond_train_purchase = purchase.date < testing_date\n",
        "sessions_train = sessions[cond_train]\n",
        "sessions_test = sessions[cond_test]\n",
        "purchase_train = purchase[cond_train_purchase]\n",
        "purchase_test = purchase[cond_test_purchase]"
      ],
      "metadata": {
        "id": "ZbaEJpPMQgvq"
      },
      "execution_count": 4,
      "outputs": []
    },
    {
      "cell_type": "code",
      "source": [
        "def sessions_list(sessions,purchase):\n",
        "    antique_session = sessions.iat[0,0]\n",
        "    list_sessions = []\n",
        "    actual_session = []\n",
        "    purchase_session = 0\n",
        "    for i in tqdm(range(len(sessions))):\n",
        "        new_session = sessions.iat[i,0]\n",
        "        item = sessions.iat[i,1]\n",
        "        if(new_session != antique_session):\n",
        "            actual_session.append(purchase.iat[purchase_session,1])\n",
        "            purchase_session += 1\n",
        "            list_sessions.append(actual_session)\n",
        "            actual_session = []\n",
        "            antique_session = new_session\n",
        "        actual_session.append(item)\n",
        "    list_sessions.append(actual_session)\n",
        "    return list_sessions"
      ],
      "metadata": {
        "id": "4yn-tIE4QjQk"
      },
      "execution_count": 5,
      "outputs": []
    },
    {
      "cell_type": "code",
      "source": [
        "session_item = sessions_list(sessions,purchase)"
      ],
      "metadata": {
        "colab": {
          "base_uri": "https://localhost:8080/"
        },
        "id": "huvCSDNFQk_L",
        "outputId": "24164a74-d3bc-4769-dd95-bfe1707a3acc"
      },
      "execution_count": 6,
      "outputs": [
        {
          "output_type": "stream",
          "name": "stderr",
          "text": [
            "100%|██████████| 4743820/4743820 [03:35<00:00, 22045.06it/s]\n"
          ]
        }
      ]
    },
    {
      "cell_type": "code",
      "source": [
        "def training_sequences(session_item2):\n",
        "    train_sequence = np.zeros((len(session_item),6))\n",
        "    trobat = False\n",
        "    for i,x in tqdm(enumerate(session_item2)):\n",
        "        length = len(x)\n",
        "        llista = x.copy()\n",
        "        if(length-1 < 5):\n",
        "            for j in range(5-length+1):\n",
        "                llista.insert(0,0)\n",
        "        if(length-1 > 5):\n",
        "            for j in range(length-6):\n",
        "                llista.pop(0)\n",
        "        llista.pop(-1)                                    \n",
        "        train_sequence[i][0] = llista[0]\n",
        "        train_sequence[i][1] = llista[1]\n",
        "        train_sequence[i][2] = llista[2]\n",
        "        train_sequence[i][3] = llista[3]\n",
        "        train_sequence[i][4] = llista[4]\n",
        "        train_sequence[i][5] = x[len(x)-1]\n",
        "    return train_sequence\n",
        "\n",
        "sequence_training = training_sequences(session_item)"
      ],
      "metadata": {
        "colab": {
          "base_uri": "https://localhost:8080/"
        },
        "id": "Fg1LxXAiQl92",
        "outputId": "475c3a67-3b3f-4b8f-f123-1803ff9c7e33"
      },
      "execution_count": 7,
      "outputs": [
        {
          "output_type": "stream",
          "name": "stderr",
          "text": [
            "1000000it [00:03, 304007.57it/s]\n"
          ]
        }
      ]
    },
    {
      "cell_type": "code",
      "source": [
        "X = np.array(sequence_training)[:,:5] #sequence to predict from\n",
        "y = np.array(sequence_training)[:,5:] #next item in the sequence\n",
        "X = X.astype(int)\n",
        "y = y.astype(int)\n",
        "training = np.array(sequence_training)"
      ],
      "metadata": {
        "id": "7xlbltcCQppz"
      },
      "execution_count": 8,
      "outputs": []
    },
    {
      "cell_type": "markdown",
      "source": [
        "# LSTM:"
      ],
      "metadata": {
        "id": "bz-kLc56QzyP"
      }
    },
    {
      "cell_type": "code",
      "source": [
        "from keras.layers import Embedding, LSTM, Dense, Dropout\n",
        "from keras.preprocessing.text import Tokenizer\n",
        "from keras.callbacks import EarlyStopping\n",
        "from keras.models import Sequential\n",
        "import keras.utils as ku"
      ],
      "metadata": {
        "id": "zJniifs2Qsoy"
      },
      "execution_count": 9,
      "outputs": []
    },
    {
      "cell_type": "code",
      "source": [
        "number_items = len(items.item_id.unique())\n",
        "number_items += 1\n",
        "number_items"
      ],
      "metadata": {
        "colab": {
          "base_uri": "https://localhost:8080/"
        },
        "id": "QQcv2QizQxm-",
        "outputId": "7cdf39ca-9d6d-42bc-a018-8f40737fa01a"
      },
      "execution_count": 10,
      "outputs": [
        {
          "output_type": "execute_result",
          "data": {
            "text/plain": [
              "23692"
            ]
          },
          "metadata": {},
          "execution_count": 10
        }
      ]
    },
    {
      "cell_type": "code",
      "source": [
        "item_index = {}\n",
        "index_item = {}\n",
        "item_index[0] = 0\n",
        "index_item[0] = 0\n",
        "for i,x in enumerate(items.item_id.unique()):\n",
        "    index_item[i+1] = x\n",
        "    item_index[x] = i+1"
      ],
      "metadata": {
        "id": "L7bxZNRLQyuO"
      },
      "execution_count": 11,
      "outputs": []
    },
    {
      "cell_type": "code",
      "source": [
        "def training_dataset(X2,y2):\n",
        "    #first X.\n",
        "    X_training = np.zeros((X2.shape[0],X2.shape[1]))\n",
        "    y_training = np.zeros(y2.shape[0])\n",
        "    \n",
        "    for i in range(X2.shape[0]):\n",
        "        for j in range(X2.shape[1]):\n",
        "            X_training[i,j] = item_index[X2[i,j]]\n",
        "    \n",
        "    for i in range(y2.shape[0]):\n",
        "        y_training[i] = item_index[y2[i][0]]\n",
        "            \n",
        "    return X_training, y_training\n",
        "X_training, y_training = training_dataset(X,y)  \n",
        "X_training = X_training.astype(int)\n",
        "y_training = y_training.astype(int)"
      ],
      "metadata": {
        "id": "0HTXjD8cQ37R"
      },
      "execution_count": 12,
      "outputs": []
    },
    {
      "cell_type": "code",
      "source": [
        "def create_model(max_sequence_len, total_words):\n",
        "    input_len = max_sequence_len - 1\n",
        "    model = Sequential()\n",
        "    \n",
        "    # Add Input Embedding Layer\n",
        "    model.add(Embedding(total_words, 10, input_length=input_len))\n",
        "    \n",
        "    # Add Hidden Layer 1 - LSTM Layer\n",
        "    model.add(LSTM(256, return_sequences=True))\n",
        "    model.add(Dropout(0.2))\n",
        "    model.add(LSTM(128))\n",
        "    model.add(Dropout(0.2))\n",
        "    # Add Output Layer\n",
        "    model.add(Dense(total_words, activation='softmax'))\n",
        "    \n",
        "    return model"
      ],
      "metadata": {
        "id": "i32c-lTKQ5lS"
      },
      "execution_count": 31,
      "outputs": []
    },
    {
      "cell_type": "code",
      "source": [
        "model = create_model(6, number_items)\n",
        "model.summary()"
      ],
      "metadata": {
        "colab": {
          "base_uri": "https://localhost:8080/"
        },
        "id": "9wE7JYBlQ68t",
        "outputId": "e1b79427-d611-4ed0-be40-f2dd5491146a"
      },
      "execution_count": 32,
      "outputs": [
        {
          "output_type": "stream",
          "name": "stdout",
          "text": [
            "Model: \"sequential_2\"\n",
            "_________________________________________________________________\n",
            " Layer (type)                Output Shape              Param #   \n",
            "=================================================================\n",
            " embedding_2 (Embedding)     (None, 5, 10)             236920    \n",
            "                                                                 \n",
            " lstm_2 (LSTM)               (None, 5, 256)            273408    \n",
            "                                                                 \n",
            " dropout_2 (Dropout)         (None, 5, 256)            0         \n",
            "                                                                 \n",
            " lstm_3 (LSTM)               (None, 128)               197120    \n",
            "                                                                 \n",
            " dropout_3 (Dropout)         (None, 128)               0         \n",
            "                                                                 \n",
            " dense_2 (Dense)             (None, 23692)             3056268   \n",
            "                                                                 \n",
            "=================================================================\n",
            "Total params: 3,763,716\n",
            "Trainable params: 3,763,716\n",
            "Non-trainable params: 0\n",
            "_________________________________________________________________\n"
          ]
        }
      ]
    },
    {
      "cell_type": "code",
      "source": [
        "#let's define a sparse categorical crossentropy to start!\n",
        "def loss(labels, logits):\n",
        "    return tf.keras.losses.sparse_categorical_crossentropy(\n",
        "      y_true=labels,\n",
        "      y_pred=logits,\n",
        "      from_logits=True\n",
        "    )"
      ],
      "metadata": {
        "id": "vSaLv2iQQ8EZ"
      },
      "execution_count": 33,
      "outputs": []
    },
    {
      "cell_type": "code",
      "source": [
        "#let's define a sparse categorical crossentropy to start!\n",
        "def loss2(labels, logits):\n",
        "  print(labels)\n",
        "  labels = int(labels)\n",
        "  index = item_index[labels]\n",
        "  return 1\n",
        "  logits2 = np.array(logits)\n",
        "  return 1\n",
        "  res = list(sorted(enumerate(test_list)))[-100:]\n",
        "  for i in range(100):\n",
        "    if(index == res[i][0]): return 1\n",
        "  return 1"
      ],
      "metadata": {
        "id": "BOEfirzPwiIf"
      },
      "execution_count": 34,
      "outputs": []
    },
    {
      "cell_type": "markdown",
      "source": [
        "**Metrics**"
      ],
      "metadata": {
        "id": "kunRhnE9-p98"
      }
    },
    {
      "cell_type": "code",
      "source": [
        "#let's define a sparse categorical crossentropy to start!\n",
        "from tensorflow.keras.utils import to_categorical\n",
        "def top_5(y_true, y_pred):\n",
        "    return  tf.keras.metrics.sparse_top_k_categorical_accuracy(\n",
        "    y_true, y_pred, k=5\n",
        ")\n",
        "def top_50(y_true, y_pred):\n",
        "    return  tf.keras.metrics.sparse_top_k_categorical_accuracy(\n",
        "    y_true, y_pred, k=50\n",
        ")\n",
        "def top_100(y_true, y_pred):\n",
        "    return  tf.keras.metrics.sparse_top_k_categorical_accuracy(\n",
        "    y_true, y_pred, k=100\n",
        ")"
      ],
      "metadata": {
        "id": "SnfBlhr8-rJ3"
      },
      "execution_count": 35,
      "outputs": []
    },
    {
      "cell_type": "markdown",
      "source": [
        "**Model Compilation**"
      ],
      "metadata": {
        "id": "mUSVKOVq-1rt"
      }
    },
    {
      "cell_type": "code",
      "source": [
        "adam_optimizer = tf.keras.optimizers.Adam(learning_rate=0.001)\n",
        "model.compile(\n",
        "    optimizer=adam_optimizer,\n",
        "    loss=loss,\n",
        "    metrics= [\"acc\",top_5,top_100]\n",
        ")"
      ],
      "metadata": {
        "id": "8kE0LVrtRc9q"
      },
      "execution_count": 36,
      "outputs": []
    },
    {
      "cell_type": "code",
      "source": [
        "model.fit(X_training,y_training,epochs=100, validation_split = 0.01, verbose=1)"
      ],
      "metadata": {
        "colab": {
          "base_uri": "https://localhost:8080/",
          "height": 1000
        },
        "id": "-bUUBRSkwT_i",
        "outputId": "8d4311e2-d84f-4857-866d-64228d8cb97b"
      },
      "execution_count": null,
      "outputs": [
        {
          "output_type": "stream",
          "name": "stdout",
          "text": [
            "Epoch 1/100\n"
          ]
        },
        {
          "output_type": "stream",
          "name": "stderr",
          "text": [
            "/usr/local/lib/python3.7/dist-packages/tensorflow/python/util/dispatch.py:1082: UserWarning: \"`sparse_categorical_crossentropy` received `from_logits=True`, but the `output` argument was produced by a sigmoid or softmax activation and thus does not represent logits. Was this intended?\"\n",
            "  return dispatch_target(*args, **kwargs)\n"
          ]
        },
        {
          "output_type": "stream",
          "name": "stdout",
          "text": [
            "30938/30938 [==============================] - 289s 9ms/step - loss: 8.2260 - acc: 0.0204 - top_5: 0.0560 - top_100: 0.2336 - val_loss: 7.5026 - val_acc: 0.0381 - val_top_5: 0.1022 - val_top_100: 0.3421\n",
            "Epoch 2/100\n",
            "30938/30938 [==============================] - 278s 9ms/step - loss: 7.4210 - acc: 0.0414 - top_5: 0.1098 - top_100: 0.3670 - val_loss: 7.1136 - val_acc: 0.0549 - val_top_5: 0.1390 - val_top_100: 0.4150\n",
            "Epoch 3/100\n",
            "30938/30938 [==============================] - 275s 9ms/step - loss: 7.1287 - acc: 0.0520 - top_5: 0.1348 - top_100: 0.4184 - val_loss: 6.9141 - val_acc: 0.0658 - val_top_5: 0.1597 - val_top_100: 0.4493\n",
            "Epoch 4/100\n",
            "30938/30938 [==============================] - 272s 9ms/step - loss: 6.9473 - acc: 0.0589 - top_5: 0.1493 - top_100: 0.4469 - val_loss: 6.8210 - val_acc: 0.0703 - val_top_5: 0.1700 - val_top_100: 0.4622\n",
            "Epoch 5/100\n",
            "30938/30938 [==============================] - 272s 9ms/step - loss: 6.8369 - acc: 0.0634 - top_5: 0.1590 - top_100: 0.4643 - val_loss: 6.7541 - val_acc: 0.0696 - val_top_5: 0.1731 - val_top_100: 0.4796\n",
            "Epoch 6/100\n",
            "30938/30938 [==============================] - 270s 9ms/step - loss: 6.7568 - acc: 0.0668 - top_5: 0.1655 - top_100: 0.4772 - val_loss: 6.7180 - val_acc: 0.0768 - val_top_5: 0.1793 - val_top_100: 0.4876\n",
            "Epoch 7/100\n",
            "30938/30938 [==============================] - 271s 9ms/step - loss: 6.6996 - acc: 0.0698 - top_5: 0.1708 - top_100: 0.4855 - val_loss: 6.6942 - val_acc: 0.0791 - val_top_5: 0.1817 - val_top_100: 0.4896\n",
            "Epoch 8/100\n",
            "30938/30938 [==============================] - 271s 9ms/step - loss: 6.6542 - acc: 0.0721 - top_5: 0.1747 - top_100: 0.4929 - val_loss: 6.6694 - val_acc: 0.0811 - val_top_5: 0.1874 - val_top_100: 0.4961\n",
            "Epoch 9/100\n",
            "30938/30938 [==============================] - 271s 9ms/step - loss: 6.6174 - acc: 0.0737 - top_5: 0.1784 - top_100: 0.4990 - val_loss: 6.6589 - val_acc: 0.0803 - val_top_5: 0.1915 - val_top_100: 0.4986\n",
            "Epoch 10/100\n",
            "30938/30938 [==============================] - 270s 9ms/step - loss: 6.5886 - acc: 0.0755 - top_5: 0.1813 - top_100: 0.5039 - val_loss: 6.6496 - val_acc: 0.0804 - val_top_5: 0.1924 - val_top_100: 0.5019\n",
            "Epoch 11/100\n",
            "30938/30938 [==============================] - 269s 9ms/step - loss: 6.5629 - acc: 0.0769 - top_5: 0.1840 - top_100: 0.5077 - val_loss: 6.6378 - val_acc: 0.0824 - val_top_5: 0.1909 - val_top_100: 0.5065\n",
            "Epoch 12/100\n",
            "30938/30938 [==============================] - 270s 9ms/step - loss: 6.5432 - acc: 0.0780 - top_5: 0.1859 - top_100: 0.5109 - val_loss: 6.6425 - val_acc: 0.0830 - val_top_5: 0.1934 - val_top_100: 0.5069\n",
            "Epoch 13/100\n",
            "30938/30938 [==============================] - 268s 9ms/step - loss: 6.5227 - acc: 0.0795 - top_5: 0.1882 - top_100: 0.5143 - val_loss: 6.6503 - val_acc: 0.0833 - val_top_5: 0.1931 - val_top_100: 0.5070\n",
            "Epoch 14/100\n",
            "30938/30938 [==============================] - 269s 9ms/step - loss: 6.5093 - acc: 0.0799 - top_5: 0.1898 - top_100: 0.5172 - val_loss: 6.6429 - val_acc: 0.0825 - val_top_5: 0.1960 - val_top_100: 0.5081\n",
            "Epoch 15/100\n",
            "30938/30938 [==============================] - 269s 9ms/step - loss: 6.5011 - acc: 0.0811 - top_5: 0.1913 - top_100: 0.5182 - val_loss: 6.6349 - val_acc: 0.0827 - val_top_5: 0.1975 - val_top_100: 0.5091\n",
            "Epoch 16/100\n",
            "30938/30938 [==============================] - 270s 9ms/step - loss: 6.4915 - acc: 0.0815 - top_5: 0.1921 - top_100: 0.5196 - val_loss: 6.6433 - val_acc: 0.0843 - val_top_5: 0.1949 - val_top_100: 0.5130\n",
            "Epoch 17/100\n",
            "30938/30938 [==============================] - 270s 9ms/step - loss: 6.4776 - acc: 0.0823 - top_5: 0.1935 - top_100: 0.5217 - val_loss: 6.6422 - val_acc: 0.0858 - val_top_5: 0.1948 - val_top_100: 0.5124\n",
            "Epoch 18/100\n",
            "30938/30938 [==============================] - 270s 9ms/step - loss: 6.4705 - acc: 0.0830 - top_5: 0.1943 - top_100: 0.5232 - val_loss: 6.6452 - val_acc: 0.0860 - val_top_5: 0.1970 - val_top_100: 0.5072\n",
            "Epoch 19/100\n",
            "30938/30938 [==============================] - 270s 9ms/step - loss: 6.4654 - acc: 0.0832 - top_5: 0.1956 - top_100: 0.5234 - val_loss: 6.6610 - val_acc: 0.0862 - val_top_5: 0.1983 - val_top_100: 0.5069\n",
            "Epoch 20/100\n",
            "30938/30938 [==============================] - 269s 9ms/step - loss: 6.4598 - acc: 0.0841 - top_5: 0.1966 - top_100: 0.5248 - val_loss: 6.6656 - val_acc: 0.0879 - val_top_5: 0.1983 - val_top_100: 0.5087\n",
            "Epoch 21/100\n",
            "30938/30938 [==============================] - 270s 9ms/step - loss: 6.4587 - acc: 0.0842 - top_5: 0.1967 - top_100: 0.5254 - val_loss: 6.6760 - val_acc: 0.0871 - val_top_5: 0.1986 - val_top_100: 0.5095\n",
            "Epoch 22/100\n",
            "30938/30938 [==============================] - 270s 9ms/step - loss: 6.4559 - acc: 0.0847 - top_5: 0.1974 - top_100: 0.5256 - val_loss: 6.6703 - val_acc: 0.0865 - val_top_5: 0.1956 - val_top_100: 0.5098\n",
            "Epoch 23/100\n",
            "30938/30938 [==============================] - 272s 9ms/step - loss: 6.4521 - acc: 0.0849 - top_5: 0.1982 - top_100: 0.5266 - val_loss: 6.6762 - val_acc: 0.0867 - val_top_5: 0.1961 - val_top_100: 0.5091\n",
            "Epoch 24/100\n",
            "30938/30938 [==============================] - 271s 9ms/step - loss: 6.4487 - acc: 0.0854 - top_5: 0.1987 - top_100: 0.5272 - val_loss: 6.6912 - val_acc: 0.0896 - val_top_5: 0.1995 - val_top_100: 0.5058\n",
            "Epoch 25/100\n",
            "30938/30938 [==============================] - 270s 9ms/step - loss: 6.4510 - acc: 0.0857 - top_5: 0.1995 - top_100: 0.5275 - val_loss: 6.6870 - val_acc: 0.0899 - val_top_5: 0.2007 - val_top_100: 0.5087\n",
            "Epoch 26/100\n",
            "30938/30938 [==============================] - 271s 9ms/step - loss: 6.4566 - acc: 0.0858 - top_5: 0.1995 - top_100: 0.5270 - val_loss: 6.7025 - val_acc: 0.0866 - val_top_5: 0.1959 - val_top_100: 0.5074\n",
            "Epoch 27/100\n",
            "30938/30938 [==============================] - 271s 9ms/step - loss: 6.4611 - acc: 0.0860 - top_5: 0.1996 - top_100: 0.5264 - val_loss: 6.7070 - val_acc: 0.0910 - val_top_5: 0.1982 - val_top_100: 0.5084\n",
            "Epoch 28/100\n",
            "30938/30938 [==============================] - 271s 9ms/step - loss: 6.4666 - acc: 0.0862 - top_5: 0.1998 - top_100: 0.5257 - val_loss: 6.7162 - val_acc: 0.0899 - val_top_5: 0.2018 - val_top_100: 0.5066\n",
            "Epoch 29/100\n",
            "30938/30938 [==============================] - 271s 9ms/step - loss: 6.4663 - acc: 0.0863 - top_5: 0.2002 - top_100: 0.5257 - val_loss: 6.7266 - val_acc: 0.0867 - val_top_5: 0.2005 - val_top_100: 0.5018\n",
            "Epoch 30/100\n",
            "30938/30938 [==============================] - 270s 9ms/step - loss: 6.4699 - acc: 0.0860 - top_5: 0.2003 - top_100: 0.5254 - val_loss: 6.7264 - val_acc: 0.0881 - val_top_5: 0.1994 - val_top_100: 0.5045\n",
            "Epoch 31/100\n",
            "30938/30938 [==============================] - 271s 9ms/step - loss: 6.4694 - acc: 0.0864 - top_5: 0.2007 - top_100: 0.5255 - val_loss: 6.7204 - val_acc: 0.0832 - val_top_5: 0.1997 - val_top_100: 0.5054\n",
            "Epoch 32/100\n",
            "30938/30938 [==============================] - 272s 9ms/step - loss: 6.4601 - acc: 0.0865 - top_5: 0.2010 - top_100: 0.5265 - val_loss: 6.7205 - val_acc: 0.0851 - val_top_5: 0.1995 - val_top_100: 0.5041\n",
            "Epoch 33/100\n",
            "30938/30938 [==============================] - 272s 9ms/step - loss: 6.4491 - acc: 0.0872 - top_5: 0.2014 - top_100: 0.5276 - val_loss: 6.7094 - val_acc: 0.0883 - val_top_5: 0.1999 - val_top_100: 0.5033\n",
            "Epoch 34/100\n",
            "30938/30938 [==============================] - 272s 9ms/step - loss: 6.4388 - acc: 0.0871 - top_5: 0.2023 - top_100: 0.5291 - val_loss: 6.7034 - val_acc: 0.0890 - val_top_5: 0.1982 - val_top_100: 0.5045\n",
            "Epoch 35/100\n",
            "30938/30938 [==============================] - 272s 9ms/step - loss: 6.4339 - acc: 0.0877 - top_5: 0.2027 - top_100: 0.5298 - val_loss: 6.7080 - val_acc: 0.0867 - val_top_5: 0.1998 - val_top_100: 0.5064\n",
            "Epoch 36/100\n",
            "30938/30938 [==============================] - 272s 9ms/step - loss: 6.4258 - acc: 0.0876 - top_5: 0.2033 - top_100: 0.5302 - val_loss: 6.7111 - val_acc: 0.0888 - val_top_5: 0.1999 - val_top_100: 0.5060\n",
            "Epoch 37/100\n",
            "30938/30938 [==============================] - 272s 9ms/step - loss: 6.4267 - acc: 0.0876 - top_5: 0.2034 - top_100: 0.5307 - val_loss: 6.7050 - val_acc: 0.0878 - val_top_5: 0.2007 - val_top_100: 0.5008\n",
            "Epoch 38/100\n",
            "30938/30938 [==============================] - 272s 9ms/step - loss: 6.4244 - acc: 0.0879 - top_5: 0.2034 - top_100: 0.5307 - val_loss: 6.7153 - val_acc: 0.0876 - val_top_5: 0.1973 - val_top_100: 0.5046\n",
            "Epoch 39/100\n",
            "30938/30938 [==============================] - 271s 9ms/step - loss: 6.4234 - acc: 0.0886 - top_5: 0.2044 - top_100: 0.5314 - val_loss: 6.7146 - val_acc: 0.0900 - val_top_5: 0.2000 - val_top_100: 0.5072\n",
            "Epoch 40/100\n",
            "30938/30938 [==============================] - 274s 9ms/step - loss: 6.4236 - acc: 0.0886 - top_5: 0.2046 - top_100: 0.5318 - val_loss: 6.7270 - val_acc: 0.0891 - val_top_5: 0.2004 - val_top_100: 0.5008\n",
            "Epoch 41/100\n",
            "30938/30938 [==============================] - 271s 9ms/step - loss: 6.4242 - acc: 0.0884 - top_5: 0.2048 - top_100: 0.5328 - val_loss: 6.7256 - val_acc: 0.0892 - val_top_5: 0.1979 - val_top_100: 0.5040\n",
            "Epoch 42/100\n",
            "30938/30938 [==============================] - 271s 9ms/step - loss: 6.4217 - acc: 0.0886 - top_5: 0.2051 - top_100: 0.5335 - val_loss: 6.7360 - val_acc: 0.0862 - val_top_5: 0.1992 - val_top_100: 0.5031\n",
            "Epoch 43/100\n",
            "24028/30938 [======================>.......] - ETA: 1:00 - loss: 6.3900 - acc: 0.0895 - top_5: 0.2072 - top_100: 0.5380"
          ]
        },
        {
          "output_type": "error",
          "ename": "KeyboardInterrupt",
          "evalue": "ignored",
          "traceback": [
            "\u001b[0;31m---------------------------------------------------------------------------\u001b[0m",
            "\u001b[0;31mKeyboardInterrupt\u001b[0m                         Traceback (most recent call last)",
            "\u001b[0;32m<ipython-input-37-b356a40e7b55>\u001b[0m in \u001b[0;36m<module>\u001b[0;34m()\u001b[0m\n\u001b[0;32m----> 1\u001b[0;31m \u001b[0mmodel\u001b[0m\u001b[0;34m.\u001b[0m\u001b[0mfit\u001b[0m\u001b[0;34m(\u001b[0m\u001b[0mX_training\u001b[0m\u001b[0;34m,\u001b[0m\u001b[0my_training\u001b[0m\u001b[0;34m,\u001b[0m\u001b[0mepochs\u001b[0m\u001b[0;34m=\u001b[0m\u001b[0;36m100\u001b[0m\u001b[0;34m,\u001b[0m \u001b[0mvalidation_split\u001b[0m \u001b[0;34m=\u001b[0m \u001b[0;36m0.01\u001b[0m\u001b[0;34m,\u001b[0m \u001b[0mverbose\u001b[0m\u001b[0;34m=\u001b[0m\u001b[0;36m1\u001b[0m\u001b[0;34m)\u001b[0m\u001b[0;34m\u001b[0m\u001b[0;34m\u001b[0m\u001b[0m\n\u001b[0m",
            "\u001b[0;32m/usr/local/lib/python3.7/dist-packages/keras/utils/traceback_utils.py\u001b[0m in \u001b[0;36merror_handler\u001b[0;34m(*args, **kwargs)\u001b[0m\n\u001b[1;32m     62\u001b[0m     \u001b[0mfiltered_tb\u001b[0m \u001b[0;34m=\u001b[0m \u001b[0;32mNone\u001b[0m\u001b[0;34m\u001b[0m\u001b[0;34m\u001b[0m\u001b[0m\n\u001b[1;32m     63\u001b[0m     \u001b[0;32mtry\u001b[0m\u001b[0;34m:\u001b[0m\u001b[0;34m\u001b[0m\u001b[0;34m\u001b[0m\u001b[0m\n\u001b[0;32m---> 64\u001b[0;31m       \u001b[0;32mreturn\u001b[0m \u001b[0mfn\u001b[0m\u001b[0;34m(\u001b[0m\u001b[0;34m*\u001b[0m\u001b[0margs\u001b[0m\u001b[0;34m,\u001b[0m \u001b[0;34m**\u001b[0m\u001b[0mkwargs\u001b[0m\u001b[0;34m)\u001b[0m\u001b[0;34m\u001b[0m\u001b[0;34m\u001b[0m\u001b[0m\n\u001b[0m\u001b[1;32m     65\u001b[0m     \u001b[0;32mexcept\u001b[0m \u001b[0mException\u001b[0m \u001b[0;32mas\u001b[0m \u001b[0me\u001b[0m\u001b[0;34m:\u001b[0m  \u001b[0;31m# pylint: disable=broad-except\u001b[0m\u001b[0;34m\u001b[0m\u001b[0;34m\u001b[0m\u001b[0m\n\u001b[1;32m     66\u001b[0m       \u001b[0mfiltered_tb\u001b[0m \u001b[0;34m=\u001b[0m \u001b[0m_process_traceback_frames\u001b[0m\u001b[0;34m(\u001b[0m\u001b[0me\u001b[0m\u001b[0;34m.\u001b[0m\u001b[0m__traceback__\u001b[0m\u001b[0;34m)\u001b[0m\u001b[0;34m\u001b[0m\u001b[0;34m\u001b[0m\u001b[0m\n",
            "\u001b[0;32m/usr/local/lib/python3.7/dist-packages/keras/engine/training.py\u001b[0m in \u001b[0;36mfit\u001b[0;34m(self, x, y, batch_size, epochs, verbose, callbacks, validation_split, validation_data, shuffle, class_weight, sample_weight, initial_epoch, steps_per_epoch, validation_steps, validation_batch_size, validation_freq, max_queue_size, workers, use_multiprocessing)\u001b[0m\n\u001b[1;32m   1387\u001b[0m               \u001b[0mlogs\u001b[0m \u001b[0;34m=\u001b[0m \u001b[0mtmp_logs\u001b[0m  \u001b[0;31m# No error, now safe to assign to logs.\u001b[0m\u001b[0;34m\u001b[0m\u001b[0;34m\u001b[0m\u001b[0m\n\u001b[1;32m   1388\u001b[0m               \u001b[0mend_step\u001b[0m \u001b[0;34m=\u001b[0m \u001b[0mstep\u001b[0m \u001b[0;34m+\u001b[0m \u001b[0mdata_handler\u001b[0m\u001b[0;34m.\u001b[0m\u001b[0mstep_increment\u001b[0m\u001b[0;34m\u001b[0m\u001b[0;34m\u001b[0m\u001b[0m\n\u001b[0;32m-> 1389\u001b[0;31m               \u001b[0mcallbacks\u001b[0m\u001b[0;34m.\u001b[0m\u001b[0mon_train_batch_end\u001b[0m\u001b[0;34m(\u001b[0m\u001b[0mend_step\u001b[0m\u001b[0;34m,\u001b[0m \u001b[0mlogs\u001b[0m\u001b[0;34m)\u001b[0m\u001b[0;34m\u001b[0m\u001b[0;34m\u001b[0m\u001b[0m\n\u001b[0m\u001b[1;32m   1390\u001b[0m               \u001b[0;32mif\u001b[0m \u001b[0mself\u001b[0m\u001b[0;34m.\u001b[0m\u001b[0mstop_training\u001b[0m\u001b[0;34m:\u001b[0m\u001b[0;34m\u001b[0m\u001b[0;34m\u001b[0m\u001b[0m\n\u001b[1;32m   1391\u001b[0m                 \u001b[0;32mbreak\u001b[0m\u001b[0;34m\u001b[0m\u001b[0;34m\u001b[0m\u001b[0m\n",
            "\u001b[0;32m/usr/local/lib/python3.7/dist-packages/keras/callbacks.py\u001b[0m in \u001b[0;36mon_train_batch_end\u001b[0;34m(self, batch, logs)\u001b[0m\n\u001b[1;32m    436\u001b[0m     \"\"\"\n\u001b[1;32m    437\u001b[0m     \u001b[0;32mif\u001b[0m \u001b[0mself\u001b[0m\u001b[0;34m.\u001b[0m\u001b[0m_should_call_train_batch_hooks\u001b[0m\u001b[0;34m:\u001b[0m\u001b[0;34m\u001b[0m\u001b[0;34m\u001b[0m\u001b[0m\n\u001b[0;32m--> 438\u001b[0;31m       \u001b[0mself\u001b[0m\u001b[0;34m.\u001b[0m\u001b[0m_call_batch_hook\u001b[0m\u001b[0;34m(\u001b[0m\u001b[0mModeKeys\u001b[0m\u001b[0;34m.\u001b[0m\u001b[0mTRAIN\u001b[0m\u001b[0;34m,\u001b[0m \u001b[0;34m'end'\u001b[0m\u001b[0;34m,\u001b[0m \u001b[0mbatch\u001b[0m\u001b[0;34m,\u001b[0m \u001b[0mlogs\u001b[0m\u001b[0;34m=\u001b[0m\u001b[0mlogs\u001b[0m\u001b[0;34m)\u001b[0m\u001b[0;34m\u001b[0m\u001b[0;34m\u001b[0m\u001b[0m\n\u001b[0m\u001b[1;32m    439\u001b[0m \u001b[0;34m\u001b[0m\u001b[0m\n\u001b[1;32m    440\u001b[0m   \u001b[0;32mdef\u001b[0m \u001b[0mon_test_batch_begin\u001b[0m\u001b[0;34m(\u001b[0m\u001b[0mself\u001b[0m\u001b[0;34m,\u001b[0m \u001b[0mbatch\u001b[0m\u001b[0;34m,\u001b[0m \u001b[0mlogs\u001b[0m\u001b[0;34m=\u001b[0m\u001b[0;32mNone\u001b[0m\u001b[0;34m)\u001b[0m\u001b[0;34m:\u001b[0m\u001b[0;34m\u001b[0m\u001b[0;34m\u001b[0m\u001b[0m\n",
            "\u001b[0;32m/usr/local/lib/python3.7/dist-packages/keras/callbacks.py\u001b[0m in \u001b[0;36m_call_batch_hook\u001b[0;34m(self, mode, hook, batch, logs)\u001b[0m\n\u001b[1;32m    295\u001b[0m       \u001b[0mself\u001b[0m\u001b[0;34m.\u001b[0m\u001b[0m_call_batch_begin_hook\u001b[0m\u001b[0;34m(\u001b[0m\u001b[0mmode\u001b[0m\u001b[0;34m,\u001b[0m \u001b[0mbatch\u001b[0m\u001b[0;34m,\u001b[0m \u001b[0mlogs\u001b[0m\u001b[0;34m)\u001b[0m\u001b[0;34m\u001b[0m\u001b[0;34m\u001b[0m\u001b[0m\n\u001b[1;32m    296\u001b[0m     \u001b[0;32melif\u001b[0m \u001b[0mhook\u001b[0m \u001b[0;34m==\u001b[0m \u001b[0;34m'end'\u001b[0m\u001b[0;34m:\u001b[0m\u001b[0;34m\u001b[0m\u001b[0;34m\u001b[0m\u001b[0m\n\u001b[0;32m--> 297\u001b[0;31m       \u001b[0mself\u001b[0m\u001b[0;34m.\u001b[0m\u001b[0m_call_batch_end_hook\u001b[0m\u001b[0;34m(\u001b[0m\u001b[0mmode\u001b[0m\u001b[0;34m,\u001b[0m \u001b[0mbatch\u001b[0m\u001b[0;34m,\u001b[0m \u001b[0mlogs\u001b[0m\u001b[0;34m)\u001b[0m\u001b[0;34m\u001b[0m\u001b[0;34m\u001b[0m\u001b[0m\n\u001b[0m\u001b[1;32m    298\u001b[0m     \u001b[0;32melse\u001b[0m\u001b[0;34m:\u001b[0m\u001b[0;34m\u001b[0m\u001b[0;34m\u001b[0m\u001b[0m\n\u001b[1;32m    299\u001b[0m       raise ValueError(\n",
            "\u001b[0;32m/usr/local/lib/python3.7/dist-packages/keras/callbacks.py\u001b[0m in \u001b[0;36m_call_batch_end_hook\u001b[0;34m(self, mode, batch, logs)\u001b[0m\n\u001b[1;32m    316\u001b[0m       \u001b[0mself\u001b[0m\u001b[0;34m.\u001b[0m\u001b[0m_batch_times\u001b[0m\u001b[0;34m.\u001b[0m\u001b[0mappend\u001b[0m\u001b[0;34m(\u001b[0m\u001b[0mbatch_time\u001b[0m\u001b[0;34m)\u001b[0m\u001b[0;34m\u001b[0m\u001b[0;34m\u001b[0m\u001b[0m\n\u001b[1;32m    317\u001b[0m \u001b[0;34m\u001b[0m\u001b[0m\n\u001b[0;32m--> 318\u001b[0;31m     \u001b[0mself\u001b[0m\u001b[0;34m.\u001b[0m\u001b[0m_call_batch_hook_helper\u001b[0m\u001b[0;34m(\u001b[0m\u001b[0mhook_name\u001b[0m\u001b[0;34m,\u001b[0m \u001b[0mbatch\u001b[0m\u001b[0;34m,\u001b[0m \u001b[0mlogs\u001b[0m\u001b[0;34m)\u001b[0m\u001b[0;34m\u001b[0m\u001b[0;34m\u001b[0m\u001b[0m\n\u001b[0m\u001b[1;32m    319\u001b[0m \u001b[0;34m\u001b[0m\u001b[0m\n\u001b[1;32m    320\u001b[0m     \u001b[0;32mif\u001b[0m \u001b[0mlen\u001b[0m\u001b[0;34m(\u001b[0m\u001b[0mself\u001b[0m\u001b[0;34m.\u001b[0m\u001b[0m_batch_times\u001b[0m\u001b[0;34m)\u001b[0m \u001b[0;34m>=\u001b[0m \u001b[0mself\u001b[0m\u001b[0;34m.\u001b[0m\u001b[0m_num_batches_for_timing_check\u001b[0m\u001b[0;34m:\u001b[0m\u001b[0;34m\u001b[0m\u001b[0;34m\u001b[0m\u001b[0m\n",
            "\u001b[0;32m/usr/local/lib/python3.7/dist-packages/keras/callbacks.py\u001b[0m in \u001b[0;36m_call_batch_hook_helper\u001b[0;34m(self, hook_name, batch, logs)\u001b[0m\n\u001b[1;32m    354\u001b[0m     \u001b[0;32mfor\u001b[0m \u001b[0mcallback\u001b[0m \u001b[0;32min\u001b[0m \u001b[0mself\u001b[0m\u001b[0;34m.\u001b[0m\u001b[0mcallbacks\u001b[0m\u001b[0;34m:\u001b[0m\u001b[0;34m\u001b[0m\u001b[0;34m\u001b[0m\u001b[0m\n\u001b[1;32m    355\u001b[0m       \u001b[0mhook\u001b[0m \u001b[0;34m=\u001b[0m \u001b[0mgetattr\u001b[0m\u001b[0;34m(\u001b[0m\u001b[0mcallback\u001b[0m\u001b[0;34m,\u001b[0m \u001b[0mhook_name\u001b[0m\u001b[0;34m)\u001b[0m\u001b[0;34m\u001b[0m\u001b[0;34m\u001b[0m\u001b[0m\n\u001b[0;32m--> 356\u001b[0;31m       \u001b[0mhook\u001b[0m\u001b[0;34m(\u001b[0m\u001b[0mbatch\u001b[0m\u001b[0;34m,\u001b[0m \u001b[0mlogs\u001b[0m\u001b[0;34m)\u001b[0m\u001b[0;34m\u001b[0m\u001b[0;34m\u001b[0m\u001b[0m\n\u001b[0m\u001b[1;32m    357\u001b[0m \u001b[0;34m\u001b[0m\u001b[0m\n\u001b[1;32m    358\u001b[0m     \u001b[0;32mif\u001b[0m \u001b[0mself\u001b[0m\u001b[0;34m.\u001b[0m\u001b[0m_check_timing\u001b[0m\u001b[0;34m:\u001b[0m\u001b[0;34m\u001b[0m\u001b[0;34m\u001b[0m\u001b[0m\n",
            "\u001b[0;32m/usr/local/lib/python3.7/dist-packages/keras/callbacks.py\u001b[0m in \u001b[0;36mon_train_batch_end\u001b[0;34m(self, batch, logs)\u001b[0m\n\u001b[1;32m   1032\u001b[0m \u001b[0;34m\u001b[0m\u001b[0m\n\u001b[1;32m   1033\u001b[0m   \u001b[0;32mdef\u001b[0m \u001b[0mon_train_batch_end\u001b[0m\u001b[0;34m(\u001b[0m\u001b[0mself\u001b[0m\u001b[0;34m,\u001b[0m \u001b[0mbatch\u001b[0m\u001b[0;34m,\u001b[0m \u001b[0mlogs\u001b[0m\u001b[0;34m=\u001b[0m\u001b[0;32mNone\u001b[0m\u001b[0;34m)\u001b[0m\u001b[0;34m:\u001b[0m\u001b[0;34m\u001b[0m\u001b[0;34m\u001b[0m\u001b[0m\n\u001b[0;32m-> 1034\u001b[0;31m     \u001b[0mself\u001b[0m\u001b[0;34m.\u001b[0m\u001b[0m_batch_update_progbar\u001b[0m\u001b[0;34m(\u001b[0m\u001b[0mbatch\u001b[0m\u001b[0;34m,\u001b[0m \u001b[0mlogs\u001b[0m\u001b[0;34m)\u001b[0m\u001b[0;34m\u001b[0m\u001b[0;34m\u001b[0m\u001b[0m\n\u001b[0m\u001b[1;32m   1035\u001b[0m \u001b[0;34m\u001b[0m\u001b[0m\n\u001b[1;32m   1036\u001b[0m   \u001b[0;32mdef\u001b[0m \u001b[0mon_test_batch_end\u001b[0m\u001b[0;34m(\u001b[0m\u001b[0mself\u001b[0m\u001b[0;34m,\u001b[0m \u001b[0mbatch\u001b[0m\u001b[0;34m,\u001b[0m \u001b[0mlogs\u001b[0m\u001b[0;34m=\u001b[0m\u001b[0;32mNone\u001b[0m\u001b[0;34m)\u001b[0m\u001b[0;34m:\u001b[0m\u001b[0;34m\u001b[0m\u001b[0;34m\u001b[0m\u001b[0m\n",
            "\u001b[0;32m/usr/local/lib/python3.7/dist-packages/keras/callbacks.py\u001b[0m in \u001b[0;36m_batch_update_progbar\u001b[0;34m(self, batch, logs)\u001b[0m\n\u001b[1;32m   1104\u001b[0m     \u001b[0;32mif\u001b[0m \u001b[0mself\u001b[0m\u001b[0;34m.\u001b[0m\u001b[0mverbose\u001b[0m \u001b[0;34m==\u001b[0m \u001b[0;36m1\u001b[0m\u001b[0;34m:\u001b[0m\u001b[0;34m\u001b[0m\u001b[0;34m\u001b[0m\u001b[0m\n\u001b[1;32m   1105\u001b[0m       \u001b[0;31m# Only block async when verbose = 1.\u001b[0m\u001b[0;34m\u001b[0m\u001b[0;34m\u001b[0m\u001b[0;34m\u001b[0m\u001b[0m\n\u001b[0;32m-> 1106\u001b[0;31m       \u001b[0mlogs\u001b[0m \u001b[0;34m=\u001b[0m \u001b[0mtf_utils\u001b[0m\u001b[0;34m.\u001b[0m\u001b[0msync_to_numpy_or_python_type\u001b[0m\u001b[0;34m(\u001b[0m\u001b[0mlogs\u001b[0m\u001b[0;34m)\u001b[0m\u001b[0;34m\u001b[0m\u001b[0;34m\u001b[0m\u001b[0m\n\u001b[0m\u001b[1;32m   1107\u001b[0m       \u001b[0mself\u001b[0m\u001b[0;34m.\u001b[0m\u001b[0mprogbar\u001b[0m\u001b[0;34m.\u001b[0m\u001b[0mupdate\u001b[0m\u001b[0;34m(\u001b[0m\u001b[0mself\u001b[0m\u001b[0;34m.\u001b[0m\u001b[0mseen\u001b[0m\u001b[0;34m,\u001b[0m \u001b[0mlist\u001b[0m\u001b[0;34m(\u001b[0m\u001b[0mlogs\u001b[0m\u001b[0;34m.\u001b[0m\u001b[0mitems\u001b[0m\u001b[0;34m(\u001b[0m\u001b[0;34m)\u001b[0m\u001b[0;34m)\u001b[0m\u001b[0;34m,\u001b[0m \u001b[0mfinalize\u001b[0m\u001b[0;34m=\u001b[0m\u001b[0;32mFalse\u001b[0m\u001b[0;34m)\u001b[0m\u001b[0;34m\u001b[0m\u001b[0;34m\u001b[0m\u001b[0m\n\u001b[1;32m   1108\u001b[0m \u001b[0;34m\u001b[0m\u001b[0m\n",
            "\u001b[0;32m/usr/local/lib/python3.7/dist-packages/keras/utils/tf_utils.py\u001b[0m in \u001b[0;36msync_to_numpy_or_python_type\u001b[0;34m(tensors)\u001b[0m\n\u001b[1;32m    561\u001b[0m     \u001b[0;32mreturn\u001b[0m \u001b[0mt\u001b[0m\u001b[0;34m.\u001b[0m\u001b[0mitem\u001b[0m\u001b[0;34m(\u001b[0m\u001b[0;34m)\u001b[0m \u001b[0;32mif\u001b[0m \u001b[0mnp\u001b[0m\u001b[0;34m.\u001b[0m\u001b[0mndim\u001b[0m\u001b[0;34m(\u001b[0m\u001b[0mt\u001b[0m\u001b[0;34m)\u001b[0m \u001b[0;34m==\u001b[0m \u001b[0;36m0\u001b[0m \u001b[0;32melse\u001b[0m \u001b[0mt\u001b[0m\u001b[0;34m\u001b[0m\u001b[0;34m\u001b[0m\u001b[0m\n\u001b[1;32m    562\u001b[0m \u001b[0;34m\u001b[0m\u001b[0m\n\u001b[0;32m--> 563\u001b[0;31m   \u001b[0;32mreturn\u001b[0m \u001b[0mtf\u001b[0m\u001b[0;34m.\u001b[0m\u001b[0mnest\u001b[0m\u001b[0;34m.\u001b[0m\u001b[0mmap_structure\u001b[0m\u001b[0;34m(\u001b[0m\u001b[0m_to_single_numpy_or_python_type\u001b[0m\u001b[0;34m,\u001b[0m \u001b[0mtensors\u001b[0m\u001b[0;34m)\u001b[0m\u001b[0;34m\u001b[0m\u001b[0;34m\u001b[0m\u001b[0m\n\u001b[0m\u001b[1;32m    564\u001b[0m \u001b[0;34m\u001b[0m\u001b[0m\n\u001b[1;32m    565\u001b[0m \u001b[0;34m\u001b[0m\u001b[0m\n",
            "\u001b[0;32m/usr/local/lib/python3.7/dist-packages/tensorflow/python/util/nest.py\u001b[0m in \u001b[0;36mmap_structure\u001b[0;34m(func, *structure, **kwargs)\u001b[0m\n\u001b[1;32m    912\u001b[0m \u001b[0;34m\u001b[0m\u001b[0m\n\u001b[1;32m    913\u001b[0m   return pack_sequence_as(\n\u001b[0;32m--> 914\u001b[0;31m       \u001b[0mstructure\u001b[0m\u001b[0;34m[\u001b[0m\u001b[0;36m0\u001b[0m\u001b[0;34m]\u001b[0m\u001b[0;34m,\u001b[0m \u001b[0;34m[\u001b[0m\u001b[0mfunc\u001b[0m\u001b[0;34m(\u001b[0m\u001b[0;34m*\u001b[0m\u001b[0mx\u001b[0m\u001b[0;34m)\u001b[0m \u001b[0;32mfor\u001b[0m \u001b[0mx\u001b[0m \u001b[0;32min\u001b[0m \u001b[0mentries\u001b[0m\u001b[0;34m]\u001b[0m\u001b[0;34m,\u001b[0m\u001b[0;34m\u001b[0m\u001b[0;34m\u001b[0m\u001b[0m\n\u001b[0m\u001b[1;32m    915\u001b[0m       expand_composites=expand_composites)\n\u001b[1;32m    916\u001b[0m \u001b[0;34m\u001b[0m\u001b[0m\n",
            "\u001b[0;32m/usr/local/lib/python3.7/dist-packages/tensorflow/python/util/nest.py\u001b[0m in \u001b[0;36m<listcomp>\u001b[0;34m(.0)\u001b[0m\n\u001b[1;32m    912\u001b[0m \u001b[0;34m\u001b[0m\u001b[0m\n\u001b[1;32m    913\u001b[0m   return pack_sequence_as(\n\u001b[0;32m--> 914\u001b[0;31m       \u001b[0mstructure\u001b[0m\u001b[0;34m[\u001b[0m\u001b[0;36m0\u001b[0m\u001b[0;34m]\u001b[0m\u001b[0;34m,\u001b[0m \u001b[0;34m[\u001b[0m\u001b[0mfunc\u001b[0m\u001b[0;34m(\u001b[0m\u001b[0;34m*\u001b[0m\u001b[0mx\u001b[0m\u001b[0;34m)\u001b[0m \u001b[0;32mfor\u001b[0m \u001b[0mx\u001b[0m \u001b[0;32min\u001b[0m \u001b[0mentries\u001b[0m\u001b[0;34m]\u001b[0m\u001b[0;34m,\u001b[0m\u001b[0;34m\u001b[0m\u001b[0;34m\u001b[0m\u001b[0m\n\u001b[0m\u001b[1;32m    915\u001b[0m       expand_composites=expand_composites)\n\u001b[1;32m    916\u001b[0m \u001b[0;34m\u001b[0m\u001b[0m\n",
            "\u001b[0;32m/usr/local/lib/python3.7/dist-packages/keras/utils/tf_utils.py\u001b[0m in \u001b[0;36m_to_single_numpy_or_python_type\u001b[0;34m(t)\u001b[0m\n\u001b[1;32m    555\u001b[0m     \u001b[0;31m# Don't turn ragged or sparse tensors to NumPy.\u001b[0m\u001b[0;34m\u001b[0m\u001b[0;34m\u001b[0m\u001b[0;34m\u001b[0m\u001b[0m\n\u001b[1;32m    556\u001b[0m     \u001b[0;32mif\u001b[0m \u001b[0misinstance\u001b[0m\u001b[0;34m(\u001b[0m\u001b[0mt\u001b[0m\u001b[0;34m,\u001b[0m \u001b[0mtf\u001b[0m\u001b[0;34m.\u001b[0m\u001b[0mTensor\u001b[0m\u001b[0;34m)\u001b[0m\u001b[0;34m:\u001b[0m\u001b[0;34m\u001b[0m\u001b[0;34m\u001b[0m\u001b[0m\n\u001b[0;32m--> 557\u001b[0;31m       \u001b[0mt\u001b[0m \u001b[0;34m=\u001b[0m \u001b[0mt\u001b[0m\u001b[0;34m.\u001b[0m\u001b[0mnumpy\u001b[0m\u001b[0;34m(\u001b[0m\u001b[0;34m)\u001b[0m\u001b[0;34m\u001b[0m\u001b[0;34m\u001b[0m\u001b[0m\n\u001b[0m\u001b[1;32m    558\u001b[0m     \u001b[0;31m# Strings, ragged and sparse tensors don't have .item(). Return them as-is.\u001b[0m\u001b[0;34m\u001b[0m\u001b[0;34m\u001b[0m\u001b[0;34m\u001b[0m\u001b[0m\n\u001b[1;32m    559\u001b[0m     \u001b[0;32mif\u001b[0m \u001b[0;32mnot\u001b[0m \u001b[0misinstance\u001b[0m\u001b[0;34m(\u001b[0m\u001b[0mt\u001b[0m\u001b[0;34m,\u001b[0m \u001b[0;34m(\u001b[0m\u001b[0mnp\u001b[0m\u001b[0;34m.\u001b[0m\u001b[0mndarray\u001b[0m\u001b[0;34m,\u001b[0m \u001b[0mnp\u001b[0m\u001b[0;34m.\u001b[0m\u001b[0mgeneric\u001b[0m\u001b[0;34m)\u001b[0m\u001b[0;34m)\u001b[0m\u001b[0;34m:\u001b[0m\u001b[0;34m\u001b[0m\u001b[0;34m\u001b[0m\u001b[0m\n",
            "\u001b[0;32m/usr/local/lib/python3.7/dist-packages/tensorflow/python/framework/ops.py\u001b[0m in \u001b[0;36mnumpy\u001b[0;34m(self)\u001b[0m\n\u001b[1;32m   1221\u001b[0m     \"\"\"\n\u001b[1;32m   1222\u001b[0m     \u001b[0;31m# TODO(slebedev): Consider avoiding a copy for non-CPU or remote tensors.\u001b[0m\u001b[0;34m\u001b[0m\u001b[0;34m\u001b[0m\u001b[0;34m\u001b[0m\u001b[0m\n\u001b[0;32m-> 1223\u001b[0;31m     \u001b[0mmaybe_arr\u001b[0m \u001b[0;34m=\u001b[0m \u001b[0mself\u001b[0m\u001b[0;34m.\u001b[0m\u001b[0m_numpy\u001b[0m\u001b[0;34m(\u001b[0m\u001b[0;34m)\u001b[0m  \u001b[0;31m# pylint: disable=protected-access\u001b[0m\u001b[0;34m\u001b[0m\u001b[0;34m\u001b[0m\u001b[0m\n\u001b[0m\u001b[1;32m   1224\u001b[0m     \u001b[0;32mreturn\u001b[0m \u001b[0mmaybe_arr\u001b[0m\u001b[0;34m.\u001b[0m\u001b[0mcopy\u001b[0m\u001b[0;34m(\u001b[0m\u001b[0;34m)\u001b[0m \u001b[0;32mif\u001b[0m \u001b[0misinstance\u001b[0m\u001b[0;34m(\u001b[0m\u001b[0mmaybe_arr\u001b[0m\u001b[0;34m,\u001b[0m \u001b[0mnp\u001b[0m\u001b[0;34m.\u001b[0m\u001b[0mndarray\u001b[0m\u001b[0;34m)\u001b[0m \u001b[0;32melse\u001b[0m \u001b[0mmaybe_arr\u001b[0m\u001b[0;34m\u001b[0m\u001b[0;34m\u001b[0m\u001b[0m\n\u001b[1;32m   1225\u001b[0m \u001b[0;34m\u001b[0m\u001b[0m\n",
            "\u001b[0;32m/usr/local/lib/python3.7/dist-packages/tensorflow/python/framework/ops.py\u001b[0m in \u001b[0;36m_numpy\u001b[0;34m(self)\u001b[0m\n\u001b[1;32m   1187\u001b[0m   \u001b[0;32mdef\u001b[0m \u001b[0m_numpy\u001b[0m\u001b[0;34m(\u001b[0m\u001b[0mself\u001b[0m\u001b[0;34m)\u001b[0m\u001b[0;34m:\u001b[0m\u001b[0;34m\u001b[0m\u001b[0;34m\u001b[0m\u001b[0m\n\u001b[1;32m   1188\u001b[0m     \u001b[0;32mtry\u001b[0m\u001b[0;34m:\u001b[0m\u001b[0;34m\u001b[0m\u001b[0;34m\u001b[0m\u001b[0m\n\u001b[0;32m-> 1189\u001b[0;31m       \u001b[0;32mreturn\u001b[0m \u001b[0mself\u001b[0m\u001b[0;34m.\u001b[0m\u001b[0m_numpy_internal\u001b[0m\u001b[0;34m(\u001b[0m\u001b[0;34m)\u001b[0m\u001b[0;34m\u001b[0m\u001b[0;34m\u001b[0m\u001b[0m\n\u001b[0m\u001b[1;32m   1190\u001b[0m     \u001b[0;32mexcept\u001b[0m \u001b[0mcore\u001b[0m\u001b[0;34m.\u001b[0m\u001b[0m_NotOkStatusException\u001b[0m \u001b[0;32mas\u001b[0m \u001b[0me\u001b[0m\u001b[0;34m:\u001b[0m  \u001b[0;31m# pylint: disable=protected-access\u001b[0m\u001b[0;34m\u001b[0m\u001b[0;34m\u001b[0m\u001b[0m\n\u001b[1;32m   1191\u001b[0m       \u001b[0;32mraise\u001b[0m \u001b[0mcore\u001b[0m\u001b[0;34m.\u001b[0m\u001b[0m_status_to_exception\u001b[0m\u001b[0;34m(\u001b[0m\u001b[0me\u001b[0m\u001b[0;34m)\u001b[0m \u001b[0;32mfrom\u001b[0m \u001b[0;32mNone\u001b[0m  \u001b[0;31m# pylint: disable=protected-access\u001b[0m\u001b[0;34m\u001b[0m\u001b[0;34m\u001b[0m\u001b[0m\n",
            "\u001b[0;31mKeyboardInterrupt\u001b[0m: "
          ]
        }
      ]
    },
    {
      "cell_type": "code",
      "source": [
        ""
      ],
      "metadata": {
        "id": "VravqdCIEBrN"
      },
      "execution_count": null,
      "outputs": []
    }
  ]
}