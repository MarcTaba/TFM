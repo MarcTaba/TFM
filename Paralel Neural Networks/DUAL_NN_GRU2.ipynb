{
 "cells": [
  {
   "cell_type": "markdown",
   "metadata": {
    "id": "lUWr8gKNQLt3"
   },
   "source": [
    "# Dual Network with GRU:"
   ]
  },
  {
   "cell_type": "code",
   "execution_count": null,
   "metadata": {},
   "outputs": [],
   "source": [
    "import pandas as pd\n",
    "import numpy as np\n",
    "import datetime\n",
    "from tqdm import tqdm\n",
    "import random\n",
    "\n",
    "from keras.models import Sequential\n",
    "from keras.layers import Dense\n",
    "from keras.layers import LSTM\n",
    "from numpy import array\n",
    "from keras.models import load_model\n",
    "\n",
    "from keras.layers import Layer\n",
    "import keras.backend as K\n",
    "\n",
    "import tensorflow as tf\n",
    "import matplotlib.pyplot as plt\n",
    "import numpy as np\n",
    "import platform\n",
    "import time\n",
    "import pathlib\n",
    "import os\n",
    "from keras.callbacks import ModelCheckpoint\n",
    "\n",
    "from pandas import read_csv\n",
    "import numpy as np\n",
    "from keras import Model\n",
    "from keras.layers import Layer\n",
    "import keras.backend as K\n",
    "from keras.layers import Input, Dense, SimpleRNN\n",
    "from sklearn.preprocessing import MinMaxScaler\n",
    "from keras.models import Sequential\n",
    "from keras.metrics import mean_squared_error"
   ]
  },
  {
   "cell_type": "code",
   "execution_count": 2,
   "metadata": {
    "id": "MUJRpzkMQMNq"
   },
   "outputs": [],
   "source": [
    "#read all the data:\n",
    "items = pd.read_csv(\"/content/item_features.csv\")\n",
    "purchase =  pd.read_csv(\"/content/train_purchases.csv\")\n",
    "sessions =  pd.read_csv(\"/content/train_sessions.csv\")"
   ]
  },
  {
   "cell_type": "code",
   "execution_count": 3,
   "metadata": {
    "id": "_Z-5Yes-QOgv"
   },
   "outputs": [],
   "source": [
    "import time\n",
    "purchase['date'] = pd.to_datetime(purchase['date'])\n",
    "sessions['date'] = pd.to_datetime(sessions['date'])\n",
    "max_day = purchase['date'].max() #max date 31/05/2021 \n",
    "min_day = max_day -datetime.timedelta(31)\n",
    "cond = purchase['date'] >= min_day\n",
    "new_purchases = purchase[cond]\n",
    "top_seller = new_purchases['item_id'].value_counts()[0:100].index.to_list()"
   ]
  },
  {
   "cell_type": "code",
   "execution_count": 4,
   "metadata": {
    "id": "ZbaEJpPMQgvq"
   },
   "outputs": [],
   "source": [
    "max_day = sessions['date'].max() #max date 31/05/2021 \n",
    "testing_date = max_day -datetime.timedelta(31)\n",
    "cond_test = sessions['date'] >= testing_date\n",
    "cond_train = sessions['date'] < testing_date\n",
    "cond_test_purchase = purchase.date >= testing_date\n",
    "cond_train_purchase = purchase.date < testing_date\n",
    "sessions_train = sessions[cond_train]\n",
    "sessions_test = sessions[cond_test]\n",
    "purchase_train = purchase[cond_train_purchase]\n",
    "purchase_test = purchase[cond_test_purchase]"
   ]
  },
  {
   "cell_type": "code",
   "execution_count": 5,
   "metadata": {
    "id": "4yn-tIE4QjQk"
   },
   "outputs": [],
   "source": [
    "def sessions_list(sessions,purchase):\n",
    "    antique_session = sessions.iat[0,0]\n",
    "    list_sessions = []\n",
    "    actual_session = []\n",
    "    purchase_session = 0\n",
    "    for i in tqdm(range(len(sessions))):\n",
    "        new_session = sessions.iat[i,0]\n",
    "        item = sessions.iat[i,1]\n",
    "        if(new_session != antique_session):\n",
    "            actual_session.append(purchase.iat[purchase_session,1])\n",
    "            purchase_session += 1\n",
    "            list_sessions.append(actual_session)\n",
    "            actual_session = []\n",
    "            antique_session = new_session\n",
    "        actual_session.append(item)\n",
    "    list_sessions.append(actual_session)\n",
    "    return list_sessions"
   ]
  },
  {
   "cell_type": "code",
   "execution_count": 6,
   "metadata": {
    "colab": {
     "base_uri": "https://localhost:8080/"
    },
    "id": "huvCSDNFQk_L",
    "outputId": "e5d07397-003a-45bf-9da7-fac3b3c29e66"
   },
   "outputs": [
    {
     "name": "stderr",
     "output_type": "stream",
     "text": [
      "100%|██████████| 4743820/4743820 [04:26<00:00, 17803.25it/s]\n"
     ]
    }
   ],
   "source": [
    "session_item = sessions_list(sessions,purchase)"
   ]
  },
  {
   "cell_type": "code",
   "execution_count": 7,
   "metadata": {
    "colab": {
     "base_uri": "https://localhost:8080/"
    },
    "id": "Fg1LxXAiQl92",
    "outputId": "cdbfb8b0-cf3b-48b8-d4c6-451d97bc002e"
   },
   "outputs": [
    {
     "name": "stderr",
     "output_type": "stream",
     "text": [
      "1000000it [00:04, 228806.39it/s]\n"
     ]
    }
   ],
   "source": [
    "def training_sequences(session_item2):\n",
    "    train_sequence = np.zeros((len(session_item2),6))\n",
    "    trobat = False\n",
    "    for i,x in tqdm(enumerate(session_item2)):\n",
    "        length = len(x)\n",
    "        llista = x.copy()\n",
    "        if(length-1 < 5):\n",
    "            for j in range(6-length):\n",
    "                llista.insert(0,0)\n",
    "        if(length-1 > 5):\n",
    "            for j in range(length-6):\n",
    "                llista.pop(0)\n",
    "        llista.pop(-1)                                    \n",
    "        train_sequence[i][0] = llista[0]\n",
    "        train_sequence[i][1] = llista[1]\n",
    "        train_sequence[i][2] = llista[2]\n",
    "        train_sequence[i][3] = llista[3]\n",
    "        train_sequence[i][4] = llista[4]\n",
    "        train_sequence[i][5] = x[len(x)-1]\n",
    "    return train_sequence\n",
    "\n",
    "sequence_training = training_sequences(session_item)"
   ]
  },
  {
   "cell_type": "code",
   "execution_count": 14,
   "metadata": {
    "id": "7xlbltcCQppz"
   },
   "outputs": [],
   "source": [
    "X = np.array(sequence_training)[:,:5] #sequence to predict from\n",
    "y = np.array(sequence_training)[:,5:] #next item in the sequence\n",
    "X = X.astype(int)\n",
    "y = y.astype(int)\n",
    "training = np.array(sequence_training)"
   ]
  },
  {
   "cell_type": "markdown",
   "metadata": {
    "id": "bz-kLc56QzyP"
   },
   "source": [
    "# Network:"
   ]
  },
  {
   "cell_type": "code",
   "execution_count": 16,
   "metadata": {
    "id": "zJniifs2Qsoy"
   },
   "outputs": [],
   "source": [
    "from keras.layers import Embedding, LSTM, Dense, Dropout, RNN, SimpleRNN, GRU, Attention, Conv1D, Conv2D\n",
    "from keras.layers import Flatten, Conv2D\n",
    "\n",
    "from keras.preprocessing.text import Tokenizer\n",
    "from keras.callbacks import EarlyStopping\n",
    "from keras.models import Sequential\n",
    "import keras.utils as ku"
   ]
  },
  {
   "cell_type": "code",
   "execution_count": 17,
   "metadata": {
    "colab": {
     "base_uri": "https://localhost:8080/"
    },
    "id": "QQcv2QizQxm-",
    "outputId": "9aaaaf8d-4833-443b-b8c4-400fc2700f29"
   },
   "outputs": [
    {
     "data": {
      "text/plain": [
       "23692"
      ]
     },
     "execution_count": 17,
     "metadata": {},
     "output_type": "execute_result"
    }
   ],
   "source": [
    "number_items = len(items.item_id.unique())\n",
    "number_items += 1\n",
    "number_items"
   ]
  },
  {
   "cell_type": "code",
   "execution_count": 18,
   "metadata": {
    "id": "L7bxZNRLQyuO"
   },
   "outputs": [],
   "source": [
    "item_index = {}\n",
    "index_item = {}\n",
    "item_index[0] = 0\n",
    "index_item[0] = 0\n",
    "for i,x in enumerate(items.item_id.unique()):\n",
    "    index_item[i+1] = x\n",
    "    item_index[x] = i+1"
   ]
  },
  {
   "cell_type": "code",
   "execution_count": 19,
   "metadata": {
    "id": "0HTXjD8cQ37R"
   },
   "outputs": [],
   "source": [
    "def training_dataset(X2,y2):\n",
    "    #first X.\n",
    "    X_training = np.zeros((X2.shape[0],X2.shape[1]))\n",
    "    y_training = np.zeros(y2.shape[0])\n",
    "    \n",
    "    for i in range(X2.shape[0]):\n",
    "        for j in range(X2.shape[1]):\n",
    "            X_training[i,j] = item_index[X2[i,j]]\n",
    "    \n",
    "    for i in range(y2.shape[0]):\n",
    "        y_training[i] = item_index[y2[i][0]]\n",
    "            \n",
    "    return X_training, y_training\n",
    "X_training, y_training = training_dataset(X,y)  \n",
    "X_training = X_training.astype(int)\n",
    "y_training = y_training.astype(int)"
   ]
  },
  {
   "cell_type": "markdown",
   "metadata": {
    "id": "m-Lz3qM-oeiR"
   },
   "source": [
    "**Relevant Features:**"
   ]
  },
  {
   "cell_type": "code",
   "execution_count": 20,
   "metadata": {
    "colab": {
     "base_uri": "https://localhost:8080/"
    },
    "id": "NZ9xTRlsOYXN",
    "outputId": "0b4b565a-eebc-486e-8eda-40e3376759e5"
   },
   "outputs": [
    {
     "name": "stderr",
     "output_type": "stream",
     "text": [
      "100%|██████████| 471751/471751 [02:15<00:00, 3489.62it/s]\n"
     ]
    }
   ],
   "source": [
    "def get_item_features():\n",
    "    items_features = {}\n",
    "    new_item = 2\n",
    "    features = []\n",
    "    for i in tqdm(range(len(items))):\n",
    "        if(items.iloc[i].item_id == new_item):\n",
    "            features.append(items.iloc[i].feature_category_id)\n",
    "            features.append(items.iloc[i].feature_value_id)\n",
    "        else:\n",
    "            items_features[new_item] = features\n",
    "            new_item = items.iloc[i].item_id\n",
    "            features = []\n",
    "            features.append(items.iloc[i].feature_category_id)\n",
    "            features.append(items.iloc[i].feature_value_id)\n",
    "    items_features[new_item] = features\n",
    "    return items_features\n",
    "item_features = get_item_features()"
   ]
  },
  {
   "cell_type": "code",
   "execution_count": 21,
   "metadata": {
    "colab": {
     "base_uri": "https://localhost:8080/"
    },
    "id": "oBH1vp54oeiS",
    "outputId": "8d6e4701-f1ca-48f9-8ab4-09c1997f9897"
   },
   "outputs": [
    {
     "name": "stderr",
     "output_type": "stream",
     "text": [
      "23691it [00:00, 52015.24it/s]\n",
      "100%|██████████| 1000000/1000000 [00:08<00:00, 116494.74it/s]\n"
     ]
    }
   ],
   "source": [
    "def get_item_features_simplified(item_features2,n_features = 66):\n",
    "    items_features = np.zeros((items.item_id.nunique()+1,n_features))\n",
    "    items_unique = items.item_id.unique()\n",
    "    items_features[0] = np.zeros(n_features)\n",
    "    for i,x in tqdm(enumerate(items_unique)):\n",
    "        features = item_features2[x]\n",
    "        items_features[i+1][0:len(features)] = features\n",
    "    feature_training = np.zeros((X_training.shape[0],n_features,X_training.shape[1]))\n",
    "    for i in tqdm(range(X_training.shape[0])):\n",
    "        for j in range(X_training.shape[1]):\n",
    "            feature_training[i,:,j] = items_features[X_training[i,j]]\n",
    "            \n",
    "    return feature_training\n",
    "item_features_training = get_item_features_simplified(item_features)"
   ]
  },
  {
   "cell_type": "markdown",
   "metadata": {
    "id": "q6T-xmeOoeiT"
   },
   "source": [
    "**LOSS**"
   ]
  },
  {
   "cell_type": "code",
   "execution_count": 22,
   "metadata": {
    "id": "vSaLv2iQQ8EZ"
   },
   "outputs": [],
   "source": [
    "#let's define a sparse categorical crossentropy to start!\n",
    "def loss(labels, logits):\n",
    "    return tf.keras.losses.sparse_categorical_crossentropy(\n",
    "      y_true=labels,\n",
    "      y_pred=logits,\n",
    "      from_logits=True\n",
    "    )"
   ]
  },
  {
   "cell_type": "markdown",
   "metadata": {
    "id": "kunRhnE9-p98"
   },
   "source": [
    "**Metrics**"
   ]
  },
  {
   "cell_type": "code",
   "execution_count": 23,
   "metadata": {
    "id": "SnfBlhr8-rJ3"
   },
   "outputs": [],
   "source": [
    "#let's define a sparse categorical crossentropy to start!\n",
    "from tensorflow.keras.utils import to_categorical\n",
    "def top_5(y_true, y_pred):\n",
    "    return  tf.keras.metrics.sparse_top_k_categorical_accuracy(\n",
    "    y_true, y_pred, k=5\n",
    ")\n",
    "def top_50(y_true, y_pred):\n",
    "    return  tf.keras.metrics.sparse_top_k_categorical_accuracy(\n",
    "    y_true, y_pred, k=50\n",
    ")\n",
    "def top_100(y_true, y_pred):\n",
    "    return  tf.keras.metrics.sparse_top_k_categorical_accuracy(\n",
    "    y_true, y_pred, k=100\n",
    ")"
   ]
  },
  {
   "cell_type": "markdown",
   "metadata": {
    "id": "mUSVKOVq-1rt"
   },
   "source": [
    "**TPU:**"
   ]
  },
  {
   "cell_type": "code",
   "execution_count": 24,
   "metadata": {
    "colab": {
     "base_uri": "https://localhost:8080/"
    },
    "id": "8kE0LVrtRc9q",
    "outputId": "0bdb8ab5-e919-4aed-ae63-9954b1f8a5a4"
   },
   "outputs": [
    {
     "name": "stdout",
     "output_type": "stream",
     "text": [
      "INFO:tensorflow:Deallocate tpu buffers before initializing tpu system.\n"
     ]
    },
    {
     "name": "stderr",
     "output_type": "stream",
     "text": [
      "INFO:tensorflow:Deallocate tpu buffers before initializing tpu system.\n"
     ]
    },
    {
     "name": "stdout",
     "output_type": "stream",
     "text": [
      "INFO:tensorflow:Initializing the TPU system: grpc://10.36.226.194:8470\n"
     ]
    },
    {
     "name": "stderr",
     "output_type": "stream",
     "text": [
      "INFO:tensorflow:Initializing the TPU system: grpc://10.36.226.194:8470\n"
     ]
    },
    {
     "name": "stdout",
     "output_type": "stream",
     "text": [
      "INFO:tensorflow:Finished initializing TPU system.\n"
     ]
    },
    {
     "name": "stderr",
     "output_type": "stream",
     "text": [
      "INFO:tensorflow:Finished initializing TPU system.\n",
      "WARNING:absl:`tf.distribute.experimental.TPUStrategy` is deprecated, please use  the non experimental symbol `tf.distribute.TPUStrategy` instead.\n"
     ]
    },
    {
     "name": "stdout",
     "output_type": "stream",
     "text": [
      "All devices:  [LogicalDevice(name='/job:worker/replica:0/task:0/device:TPU:0', device_type='TPU'), LogicalDevice(name='/job:worker/replica:0/task:0/device:TPU:1', device_type='TPU'), LogicalDevice(name='/job:worker/replica:0/task:0/device:TPU:2', device_type='TPU'), LogicalDevice(name='/job:worker/replica:0/task:0/device:TPU:3', device_type='TPU'), LogicalDevice(name='/job:worker/replica:0/task:0/device:TPU:4', device_type='TPU'), LogicalDevice(name='/job:worker/replica:0/task:0/device:TPU:5', device_type='TPU'), LogicalDevice(name='/job:worker/replica:0/task:0/device:TPU:6', device_type='TPU'), LogicalDevice(name='/job:worker/replica:0/task:0/device:TPU:7', device_type='TPU')]\n",
      "INFO:tensorflow:Found TPU system:\n"
     ]
    },
    {
     "name": "stderr",
     "output_type": "stream",
     "text": [
      "INFO:tensorflow:Found TPU system:\n"
     ]
    },
    {
     "name": "stdout",
     "output_type": "stream",
     "text": [
      "INFO:tensorflow:*** Num TPU Cores: 8\n"
     ]
    },
    {
     "name": "stderr",
     "output_type": "stream",
     "text": [
      "INFO:tensorflow:*** Num TPU Cores: 8\n"
     ]
    },
    {
     "name": "stdout",
     "output_type": "stream",
     "text": [
      "INFO:tensorflow:*** Num TPU Workers: 1\n"
     ]
    },
    {
     "name": "stderr",
     "output_type": "stream",
     "text": [
      "INFO:tensorflow:*** Num TPU Workers: 1\n"
     ]
    },
    {
     "name": "stdout",
     "output_type": "stream",
     "text": [
      "INFO:tensorflow:*** Num TPU Cores Per Worker: 8\n"
     ]
    },
    {
     "name": "stderr",
     "output_type": "stream",
     "text": [
      "INFO:tensorflow:*** Num TPU Cores Per Worker: 8\n"
     ]
    },
    {
     "name": "stdout",
     "output_type": "stream",
     "text": [
      "INFO:tensorflow:*** Available Device: _DeviceAttributes(/job:localhost/replica:0/task:0/device:CPU:0, CPU, 0, 0)\n"
     ]
    },
    {
     "name": "stderr",
     "output_type": "stream",
     "text": [
      "INFO:tensorflow:*** Available Device: _DeviceAttributes(/job:localhost/replica:0/task:0/device:CPU:0, CPU, 0, 0)\n"
     ]
    },
    {
     "name": "stdout",
     "output_type": "stream",
     "text": [
      "INFO:tensorflow:*** Available Device: _DeviceAttributes(/job:worker/replica:0/task:0/device:CPU:0, CPU, 0, 0)\n"
     ]
    },
    {
     "name": "stderr",
     "output_type": "stream",
     "text": [
      "INFO:tensorflow:*** Available Device: _DeviceAttributes(/job:worker/replica:0/task:0/device:CPU:0, CPU, 0, 0)\n"
     ]
    },
    {
     "name": "stdout",
     "output_type": "stream",
     "text": [
      "INFO:tensorflow:*** Available Device: _DeviceAttributes(/job:worker/replica:0/task:0/device:TPU:0, TPU, 0, 0)\n"
     ]
    },
    {
     "name": "stderr",
     "output_type": "stream",
     "text": [
      "INFO:tensorflow:*** Available Device: _DeviceAttributes(/job:worker/replica:0/task:0/device:TPU:0, TPU, 0, 0)\n"
     ]
    },
    {
     "name": "stdout",
     "output_type": "stream",
     "text": [
      "INFO:tensorflow:*** Available Device: _DeviceAttributes(/job:worker/replica:0/task:0/device:TPU:1, TPU, 0, 0)\n"
     ]
    },
    {
     "name": "stderr",
     "output_type": "stream",
     "text": [
      "INFO:tensorflow:*** Available Device: _DeviceAttributes(/job:worker/replica:0/task:0/device:TPU:1, TPU, 0, 0)\n"
     ]
    },
    {
     "name": "stdout",
     "output_type": "stream",
     "text": [
      "INFO:tensorflow:*** Available Device: _DeviceAttributes(/job:worker/replica:0/task:0/device:TPU:2, TPU, 0, 0)\n"
     ]
    },
    {
     "name": "stderr",
     "output_type": "stream",
     "text": [
      "INFO:tensorflow:*** Available Device: _DeviceAttributes(/job:worker/replica:0/task:0/device:TPU:2, TPU, 0, 0)\n"
     ]
    },
    {
     "name": "stdout",
     "output_type": "stream",
     "text": [
      "INFO:tensorflow:*** Available Device: _DeviceAttributes(/job:worker/replica:0/task:0/device:TPU:3, TPU, 0, 0)\n"
     ]
    },
    {
     "name": "stderr",
     "output_type": "stream",
     "text": [
      "INFO:tensorflow:*** Available Device: _DeviceAttributes(/job:worker/replica:0/task:0/device:TPU:3, TPU, 0, 0)\n"
     ]
    },
    {
     "name": "stdout",
     "output_type": "stream",
     "text": [
      "INFO:tensorflow:*** Available Device: _DeviceAttributes(/job:worker/replica:0/task:0/device:TPU:4, TPU, 0, 0)\n"
     ]
    },
    {
     "name": "stderr",
     "output_type": "stream",
     "text": [
      "INFO:tensorflow:*** Available Device: _DeviceAttributes(/job:worker/replica:0/task:0/device:TPU:4, TPU, 0, 0)\n"
     ]
    },
    {
     "name": "stdout",
     "output_type": "stream",
     "text": [
      "INFO:tensorflow:*** Available Device: _DeviceAttributes(/job:worker/replica:0/task:0/device:TPU:5, TPU, 0, 0)\n"
     ]
    },
    {
     "name": "stderr",
     "output_type": "stream",
     "text": [
      "INFO:tensorflow:*** Available Device: _DeviceAttributes(/job:worker/replica:0/task:0/device:TPU:5, TPU, 0, 0)\n"
     ]
    },
    {
     "name": "stdout",
     "output_type": "stream",
     "text": [
      "INFO:tensorflow:*** Available Device: _DeviceAttributes(/job:worker/replica:0/task:0/device:TPU:6, TPU, 0, 0)\n"
     ]
    },
    {
     "name": "stderr",
     "output_type": "stream",
     "text": [
      "INFO:tensorflow:*** Available Device: _DeviceAttributes(/job:worker/replica:0/task:0/device:TPU:6, TPU, 0, 0)\n"
     ]
    },
    {
     "name": "stdout",
     "output_type": "stream",
     "text": [
      "INFO:tensorflow:*** Available Device: _DeviceAttributes(/job:worker/replica:0/task:0/device:TPU:7, TPU, 0, 0)\n"
     ]
    },
    {
     "name": "stderr",
     "output_type": "stream",
     "text": [
      "INFO:tensorflow:*** Available Device: _DeviceAttributes(/job:worker/replica:0/task:0/device:TPU:7, TPU, 0, 0)\n"
     ]
    },
    {
     "name": "stdout",
     "output_type": "stream",
     "text": [
      "INFO:tensorflow:*** Available Device: _DeviceAttributes(/job:worker/replica:0/task:0/device:TPU_SYSTEM:0, TPU_SYSTEM, 0, 0)\n"
     ]
    },
    {
     "name": "stderr",
     "output_type": "stream",
     "text": [
      "INFO:tensorflow:*** Available Device: _DeviceAttributes(/job:worker/replica:0/task:0/device:TPU_SYSTEM:0, TPU_SYSTEM, 0, 0)\n"
     ]
    },
    {
     "name": "stdout",
     "output_type": "stream",
     "text": [
      "INFO:tensorflow:*** Available Device: _DeviceAttributes(/job:worker/replica:0/task:0/device:XLA_CPU:0, XLA_CPU, 0, 0)\n"
     ]
    },
    {
     "name": "stderr",
     "output_type": "stream",
     "text": [
      "INFO:tensorflow:*** Available Device: _DeviceAttributes(/job:worker/replica:0/task:0/device:XLA_CPU:0, XLA_CPU, 0, 0)\n"
     ]
    }
   ],
   "source": [
    "tf.keras.backend.clear_session()\n",
    "\n",
    "resolver = tf.distribute.cluster_resolver.TPUClusterResolver(tpu='grpc://' + os.environ['COLAB_TPU_ADDR'])\n",
    "tf.config.experimental_connect_to_cluster(resolver)\n",
    "# This is the TPU initialization code that has to be at the beginning.\n",
    "tf.tpu.experimental.initialize_tpu_system(resolver)\n",
    "print(\"All devices: \", tf.config.list_logical_devices('TPU'))\n",
    "\n",
    "strategy = tf.distribute.experimental.TPUStrategy(resolver)"
   ]
  },
  {
   "cell_type": "code",
   "execution_count": 25,
   "metadata": {
    "id": "ajDI4idvoeiV"
   },
   "outputs": [],
   "source": [
    "total_item = items.item_id.nunique()"
   ]
  },
  {
   "cell_type": "code",
   "execution_count": 26,
   "metadata": {
    "id": "tOlqFqzeoeiV"
   },
   "outputs": [],
   "source": [
    "def double_NN(input_shape1, input_shape2, activation = \"softmax\", hidden_units = 128, num_items = total_item+1, item_features = 2):\n",
    "    \n",
    "    x1 = tf.keras.Input((input_shape1))\n",
    "    \n",
    "    y1 = tf.keras.Input((input_shape2,input_shape1))\n",
    "    \n",
    "    # Add Input Embedding Layer\n",
    "    x2 = Embedding(num_items, 256, input_length=input_shape1)(x1)\n",
    "    \n",
    "    x3 = GRU(512, return_sequences=False, \n",
    "          activation = \"relu\",  dropout=0.2,\n",
    "    recurrent_dropout=0.1)(x2)\n",
    "\n",
    "    y2 = Conv1D(filters=512, kernel_size= 2, strides = 2, activation='relu')(y1)\n",
    "    \n",
    "    y3 = Conv1D(filters=1024, kernel_size= 4, strides = 1, activation='relu')(y2)\n",
    "\n",
    "\n",
    "    y4 = Flatten()(y3)\n",
    "    \n",
    "\n",
    "    x4 = Dense(512, trainable = True, activation = \"relu\")(x3)\n",
    "\n",
    "    z = tf.concat([x3, y4], axis = 1)\n",
    "\n",
    "    z = Flatten()(z)\n",
    "\n",
    "    z2 = Dense(1024, trainable=True, activation=\"relu\")(z)\n",
    "\n",
    "    z3 = Dropout(0.3)(z2)\n",
    "\n",
    "    outputs = Dense(num_items, trainable=True, activation=\"softmax\")(z3)\n",
    "    \n",
    "\n",
    "    model= Model(inputs = [x1,y1], outputs = outputs)\n",
    "    \n",
    "    adam_optimizer = tf.keras.optimizers.Adam(learning_rate=0.001)\n",
    "\n",
    "    model.compile(\n",
    "          optimizer=adam_optimizer,\n",
    "          loss=loss,\n",
    "          metrics= [\"acc\",top_5,top_100],\n",
    "          steps_per_execution=32)\n",
    "    \n",
    "    return model\n",
    "\n"
   ]
  },
  {
   "cell_type": "code",
   "execution_count": 27,
   "metadata": {
    "colab": {
     "base_uri": "https://localhost:8080/"
    },
    "id": "1UghgASgPgjX",
    "outputId": "5e997e0e-610f-4b50-ca62-300d39fa25a3"
   },
   "outputs": [
    {
     "name": "stdout",
     "output_type": "stream",
     "text": [
      "Model: \"model\"\n",
      "__________________________________________________________________________________________________\n",
      " Layer (type)                   Output Shape         Param #     Connected to                     \n",
      "==================================================================================================\n",
      " input_2 (InputLayer)           [(None, 66, 5)]      0           []                               \n",
      "                                                                                                  \n",
      " input_1 (InputLayer)           [(None, 5)]          0           []                               \n",
      "                                                                                                  \n",
      " conv1d (Conv1D)                (None, 33, 512)      5632        ['input_2[0][0]']                \n",
      "                                                                                                  \n",
      " embedding (Embedding)          (None, 5, 256)       6065152     ['input_1[0][0]']                \n",
      "                                                                                                  \n",
      " conv1d_1 (Conv1D)              (None, 30, 1024)     2098176     ['conv1d[0][0]']                 \n",
      "                                                                                                  \n",
      " gru (GRU)                      (None, 512)          1182720     ['embedding[0][0]']              \n",
      "                                                                                                  \n",
      " flatten (Flatten)              (None, 30720)        0           ['conv1d_1[0][0]']               \n",
      "                                                                                                  \n",
      " tf.concat (TFOpLambda)         (None, 31232)        0           ['gru[0][0]',                    \n",
      "                                                                  'flatten[0][0]']                \n",
      "                                                                                                  \n",
      " flatten_1 (Flatten)            (None, 31232)        0           ['tf.concat[0][0]']              \n",
      "                                                                                                  \n",
      " dense_1 (Dense)                (None, 1024)         31982592    ['flatten_1[0][0]']              \n",
      "                                                                                                  \n",
      " dropout (Dropout)              (None, 1024)         0           ['dense_1[0][0]']                \n",
      "                                                                                                  \n",
      " dense_2 (Dense)                (None, 23692)        24284300    ['dropout[0][0]']                \n",
      "                                                                                                  \n",
      "==================================================================================================\n",
      "Total params: 65,618,572\n",
      "Trainable params: 65,618,572\n",
      "Non-trainable params: 0\n",
      "__________________________________________________________________________________________________\n"
     ]
    }
   ],
   "source": [
    "model_d = double_NN(5,66)\n",
    "model_d.summary()"
   ]
  },
  {
   "cell_type": "code",
   "execution_count": 28,
   "metadata": {
    "colab": {
     "base_uri": "https://localhost:8080/"
    },
    "id": "5HE3WHWooeiW",
    "outputId": "24f5bec5-6aac-4430-b300-feeb4e89dccb"
   },
   "outputs": [
    {
     "name": "stdout",
     "output_type": "stream",
     "text": [
      "Model: \"model_1\"\n",
      "__________________________________________________________________________________________________\n",
      " Layer (type)                   Output Shape         Param #     Connected to                     \n",
      "==================================================================================================\n",
      " input_4 (InputLayer)           [(None, 66, 5)]      0           []                               \n",
      "                                                                                                  \n",
      " input_3 (InputLayer)           [(None, 5)]          0           []                               \n",
      "                                                                                                  \n",
      " conv1d_2 (Conv1D)              (None, 33, 512)      5632        ['input_4[0][0]']                \n",
      "                                                                                                  \n",
      " embedding_1 (Embedding)        (None, 5, 256)       6065152     ['input_3[0][0]']                \n",
      "                                                                                                  \n",
      " conv1d_3 (Conv1D)              (None, 30, 1024)     2098176     ['conv1d_2[0][0]']               \n",
      "                                                                                                  \n",
      " gru_1 (GRU)                    (None, 512)          1182720     ['embedding_1[0][0]']            \n",
      "                                                                                                  \n",
      " flatten_2 (Flatten)            (None, 30720)        0           ['conv1d_3[0][0]']               \n",
      "                                                                                                  \n",
      " tf.concat_1 (TFOpLambda)       (None, 31232)        0           ['gru_1[0][0]',                  \n",
      "                                                                  'flatten_2[0][0]']              \n",
      "                                                                                                  \n",
      " flatten_3 (Flatten)            (None, 31232)        0           ['tf.concat_1[0][0]']            \n",
      "                                                                                                  \n",
      " dense_4 (Dense)                (None, 1024)         31982592    ['flatten_3[0][0]']              \n",
      "                                                                                                  \n",
      " dropout_1 (Dropout)            (None, 1024)         0           ['dense_4[0][0]']                \n",
      "                                                                                                  \n",
      " dense_5 (Dense)                (None, 23692)        24284300    ['dropout_1[0][0]']              \n",
      "                                                                                                  \n",
      "==================================================================================================\n",
      "Total params: 65,618,572\n",
      "Trainable params: 65,618,572\n",
      "Non-trainable params: 0\n",
      "__________________________________________________________________________________________________\n",
      "Epoch 1/150\n"
     ]
    },
    {
     "name": "stderr",
     "output_type": "stream",
     "text": [
      "/usr/local/lib/python3.7/dist-packages/tensorflow/python/util/dispatch.py:1082: UserWarning: \"`sparse_categorical_crossentropy` received `from_logits=True`, but the `output` argument was produced by a sigmoid or softmax activation and thus does not represent logits. Was this intended?\"\n",
      "  return dispatch_target(*args, **kwargs)\n"
     ]
    },
    {
     "name": "stdout",
     "output_type": "stream",
     "text": [
      "3868/3868 [==============================] - 84s 22ms/step - loss: 7.9660 - acc: 0.0272 - top_5: 0.0731 - top_100: 0.2790 - val_loss: 7.1652 - val_acc: 0.0514 - val_top_5: 0.1240 - val_top_100: 0.3904\n",
      "Epoch 2/150\n",
      "3868/3868 [==============================] - 61s 16ms/step - loss: 6.9933 - acc: 0.0527 - top_5: 0.1327 - top_100: 0.4164 - val_loss: 6.8500 - val_acc: 0.0675 - val_top_5: 0.1597 - val_top_100: 0.4533\n",
      "Epoch 3/150\n",
      "3868/3868 [==============================] - 61s 16ms/step - loss: 6.6331 - acc: 0.0656 - top_5: 0.1604 - top_100: 0.4713 - val_loss: 6.7616 - val_acc: 0.0773 - val_top_5: 0.1792 - val_top_100: 0.4807\n",
      "Epoch 4/150\n",
      "3868/3868 [==============================] - 61s 16ms/step - loss: 6.3893 - acc: 0.0756 - top_5: 0.1788 - top_100: 0.5060 - val_loss: 6.7530 - val_acc: 0.0838 - val_top_5: 0.1903 - val_top_100: 0.4951\n",
      "Epoch 5/150\n",
      "3868/3868 [==============================] - 61s 16ms/step - loss: 6.1977 - acc: 0.0825 - top_5: 0.1933 - top_100: 0.5338 - val_loss: 6.7775 - val_acc: 0.0871 - val_top_5: 0.1955 - val_top_100: 0.4986\n",
      "Epoch 6/150\n",
      "3868/3868 [==============================] - 62s 16ms/step - loss: 6.0412 - acc: 0.0881 - top_5: 0.2051 - top_100: 0.5581 - val_loss: 6.8118 - val_acc: 0.0904 - val_top_5: 0.1949 - val_top_100: 0.5074\n",
      "Epoch 7/150\n",
      "3868/3868 [==============================] - 61s 16ms/step - loss: 5.9091 - acc: 0.0936 - top_5: 0.2158 - top_100: 0.5789 - val_loss: 6.9503 - val_acc: 0.0941 - val_top_5: 0.1981 - val_top_100: 0.5003\n",
      "Epoch 8/150\n",
      "3868/3868 [==============================] - 57s 15ms/step - loss: 5.7937 - acc: 0.0982 - top_5: 0.2258 - top_100: 0.5986 - val_loss: 7.0014 - val_acc: 0.0927 - val_top_5: 0.2049 - val_top_100: 0.5042\n",
      "Epoch 9/150\n",
      "3868/3868 [==============================] - 57s 15ms/step - loss: 5.6925 - acc: 0.1024 - top_5: 0.2344 - top_100: 0.6152 - val_loss: 7.0877 - val_acc: 0.0935 - val_top_5: 0.2038 - val_top_100: 0.5073\n",
      "Epoch 10/150\n",
      "3868/3868 [==============================] - 61s 16ms/step - loss: 5.6035 - acc: 0.1059 - top_5: 0.2421 - top_100: 0.6303 - val_loss: 7.2227 - val_acc: 0.0953 - val_top_5: 0.2039 - val_top_100: 0.4981\n",
      "Epoch 11/150\n",
      "3868/3868 [==============================] - 57s 15ms/step - loss: 5.5264 - acc: 0.1096 - top_5: 0.2499 - top_100: 0.6436 - val_loss: 7.2965 - val_acc: 0.0943 - val_top_5: 0.2041 - val_top_100: 0.4993\n",
      "Epoch 12/150\n",
      "3868/3868 [==============================] - 57s 15ms/step - loss: 5.4554 - acc: 0.1123 - top_5: 0.2566 - top_100: 0.6555 - val_loss: 7.3611 - val_acc: 0.0941 - val_top_5: 0.2037 - val_top_100: 0.4971\n",
      "Epoch 13/150\n",
      "3868/3868 [==============================] - 57s 15ms/step - loss: 5.3965 - acc: 0.1155 - top_5: 0.2623 - top_100: 0.6655 - val_loss: 7.4371 - val_acc: 0.0951 - val_top_5: 0.2013 - val_top_100: 0.4935\n",
      "Epoch 14/150\n",
      "3868/3868 [==============================] - 57s 15ms/step - loss: 5.3414 - acc: 0.1180 - top_5: 0.2679 - top_100: 0.6751 - val_loss: 7.5312 - val_acc: 0.0943 - val_top_5: 0.2038 - val_top_100: 0.4896\n",
      "Epoch 15/150\n",
      "3868/3868 [==============================] - 58s 15ms/step - loss: 5.2923 - acc: 0.1207 - top_5: 0.2728 - top_100: 0.6830 - val_loss: 7.5850 - val_acc: 0.0942 - val_top_5: 0.2012 - val_top_100: 0.4901\n",
      "Epoch 16/150\n",
      "3868/3868 [==============================] - 57s 15ms/step - loss: 5.2493 - acc: 0.1225 - top_5: 0.2771 - top_100: 0.6907 - val_loss: 7.6932 - val_acc: 0.0952 - val_top_5: 0.2042 - val_top_100: 0.4912\n",
      "Epoch 17/150\n",
      "3868/3868 [==============================] - 62s 16ms/step - loss: 5.2092 - acc: 0.1250 - top_5: 0.2816 - top_100: 0.6973 - val_loss: 7.8107 - val_acc: 0.0961 - val_top_5: 0.2040 - val_top_100: 0.4877\n",
      "Epoch 18/150\n",
      "3868/3868 [==============================] - 57s 15ms/step - loss: 5.1722 - acc: 0.1273 - top_5: 0.2853 - top_100: 0.7031 - val_loss: 7.7933 - val_acc: 0.0955 - val_top_5: 0.2028 - val_top_100: 0.4870\n",
      "Epoch 19/150\n",
      "3868/3868 [==============================] - 61s 16ms/step - loss: 5.1375 - acc: 0.1293 - top_5: 0.2893 - top_100: 0.7084 - val_loss: 7.8557 - val_acc: 0.0967 - val_top_5: 0.2039 - val_top_100: 0.4862\n",
      "Epoch 20/150\n",
      "3868/3868 [==============================] - 57s 15ms/step - loss: 5.1073 - acc: 0.1306 - top_5: 0.2928 - top_100: 0.7136 - val_loss: 7.8958 - val_acc: 0.0942 - val_top_5: 0.2032 - val_top_100: 0.4864\n",
      "Epoch 21/150\n",
      "3868/3868 [==============================] - 57s 15ms/step - loss: 5.0822 - acc: 0.1329 - top_5: 0.2956 - top_100: 0.7176 - val_loss: 8.0012 - val_acc: 0.0943 - val_top_5: 0.2008 - val_top_100: 0.4857\n",
      "Epoch 22/150\n",
      "3868/3868 [==============================] - 57s 15ms/step - loss: 5.0535 - acc: 0.1342 - top_5: 0.2991 - top_100: 0.7223 - val_loss: 8.0600 - val_acc: 0.0939 - val_top_5: 0.2022 - val_top_100: 0.4827\n",
      "Epoch 23/150\n",
      "3868/3868 [==============================] - 57s 15ms/step - loss: 5.0294 - acc: 0.1356 - top_5: 0.3015 - top_100: 0.7264 - val_loss: 8.0524 - val_acc: 0.0947 - val_top_5: 0.1998 - val_top_100: 0.4856\n",
      "Epoch 24/150\n",
      "3868/3868 [==============================] - 57s 15ms/step - loss: 5.0074 - acc: 0.1375 - top_5: 0.3040 - top_100: 0.7299 - val_loss: 8.1004 - val_acc: 0.0932 - val_top_5: 0.2013 - val_top_100: 0.4838\n",
      "Epoch 25/150\n",
      "3868/3868 [==============================] - 57s 15ms/step - loss: 4.9874 - acc: 0.1382 - top_5: 0.3060 - top_100: 0.7330 - val_loss: 8.1221 - val_acc: 0.0939 - val_top_5: 0.2027 - val_top_100: 0.4827\n",
      "Epoch 26/150\n",
      "3868/3868 [==============================] - 58s 15ms/step - loss: 4.9675 - acc: 0.1397 - top_5: 0.3088 - top_100: 0.7359 - val_loss: 8.2360 - val_acc: 0.0916 - val_top_5: 0.1994 - val_top_100: 0.4812\n",
      "Epoch 27/150\n",
      "3868/3868 [==============================] - 58s 15ms/step - loss: 4.9488 - acc: 0.1412 - top_5: 0.3110 - top_100: 0.7391 - val_loss: 8.2889 - val_acc: 0.0917 - val_top_5: 0.2004 - val_top_100: 0.4827\n",
      "Epoch 28/150\n",
      "3868/3868 [==============================] - 58s 15ms/step - loss: 4.9324 - acc: 0.1418 - top_5: 0.3125 - top_100: 0.7418 - val_loss: 8.2925 - val_acc: 0.0938 - val_top_5: 0.1990 - val_top_100: 0.4835\n",
      "Epoch 29/150\n",
      "3868/3868 [==============================] - 57s 15ms/step - loss: 4.9137 - acc: 0.1429 - top_5: 0.3153 - top_100: 0.7446 - val_loss: 8.3652 - val_acc: 0.0936 - val_top_5: 0.2024 - val_top_100: 0.4790\n"
     ]
    }
   ],
   "source": [
    "with strategy.scope():\n",
    "  model_d = double_NN(5,66)\n",
    "  model_d.summary()\n",
    "  model_d.fit(x = [X_training,item_features_training],y = y_training,epochs=150, batch_size=256, validation_split = 0.01, verbose=1,\n",
    "          callbacks  = [EarlyStopping(monitor='val_acc', patience=10),\n",
    "             ModelCheckpoint(filepath='best_model.h5', monitor='val_acc', save_best_only=True)]\n",
    "            )\n",
    "model_d.save_weights('/tmp/best.h5', overwrite=True)"
   ]
  },
  {
   "cell_type": "code",
   "execution_count": null,
   "metadata": {
    "id": "kTx5lh4rm_QX"
   },
   "outputs": [],
   "source": []
  }
 ],
 "metadata": {
  "accelerator": "TPU",
  "colab": {
   "collapsed_sections": [],
   "name": "attention-attempt (1).ipynb",
   "provenance": []
  },
  "gpuClass": "standard",
  "kernelspec": {
   "display_name": "Python 3 (ipykernel)",
   "language": "python",
   "name": "python3"
  },
  "language_info": {
   "codemirror_mode": {
    "name": "ipython",
    "version": 3
   },
   "file_extension": ".py",
   "mimetype": "text/x-python",
   "name": "python",
   "nbconvert_exporter": "python",
   "pygments_lexer": "ipython3",
   "version": "3.8.13"
  }
 },
 "nbformat": 4,
 "nbformat_minor": 1
}
