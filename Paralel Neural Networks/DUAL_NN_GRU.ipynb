{
 "cells": [
  {
   "cell_type": "markdown",
   "metadata": {
    "id": "lUWr8gKNQLt3"
   },
   "source": [
    "# Dual Networks:"
   ]
  },
  {
   "cell_type": "code",
   "execution_count": null,
   "metadata": {},
   "outputs": [],
   "source": [
    "import pandas as pd\n",
    "import numpy as np\n",
    "import datetime\n",
    "from tqdm import tqdm\n",
    "import random\n",
    "\n",
    "from keras.models import Sequential\n",
    "from keras.layers import Dense\n",
    "from keras.layers import LSTM\n",
    "from numpy import array\n",
    "from keras.models import load_model\n",
    "\n",
    "from keras.layers import Layer\n",
    "import keras.backend as K\n",
    "\n",
    "import tensorflow as tf\n",
    "import matplotlib.pyplot as plt\n",
    "import numpy as np\n",
    "import platform\n",
    "import time\n",
    "import pathlib\n",
    "import os\n",
    "from keras.callbacks import ModelCheckpoint\n",
    "\n",
    "from pandas import read_csv\n",
    "import numpy as np\n",
    "from keras import Model\n",
    "from keras.layers import Layer\n",
    "import keras.backend as K\n",
    "from keras.layers import Input, Dense, SimpleRNN\n",
    "from sklearn.preprocessing import MinMaxScaler\n",
    "from keras.models import Sequential\n",
    "from keras.metrics import mean_squared_error"
   ]
  },
  {
   "cell_type": "code",
   "execution_count": 2,
   "metadata": {
    "id": "MUJRpzkMQMNq"
   },
   "outputs": [],
   "source": [
    "#read all the data:\n",
    "items = pd.read_csv(\"/content/item_features.csv\")\n",
    "purchase =  pd.read_csv(\"/content/train_purchases.csv\")\n",
    "sessions =  pd.read_csv(\"/content/train_sessions.csv\")"
   ]
  },
  {
   "cell_type": "code",
   "execution_count": 3,
   "metadata": {
    "id": "_Z-5Yes-QOgv"
   },
   "outputs": [],
   "source": [
    "import time\n",
    "purchase['date'] = pd.to_datetime(purchase['date'])\n",
    "sessions['date'] = pd.to_datetime(sessions['date'])\n",
    "max_day = purchase['date'].max() #max date 31/05/2021 \n",
    "min_day = max_day -datetime.timedelta(31)\n",
    "cond = purchase['date'] >= min_day\n",
    "new_purchases = purchase[cond]\n",
    "top_seller = new_purchases['item_id'].value_counts()[0:100].index.to_list()"
   ]
  },
  {
   "cell_type": "code",
   "execution_count": 4,
   "metadata": {
    "id": "ZbaEJpPMQgvq"
   },
   "outputs": [],
   "source": [
    "max_day = sessions['date'].max() #max date 31/05/2021 \n",
    "testing_date = max_day -datetime.timedelta(31)\n",
    "cond_test = sessions['date'] >= testing_date\n",
    "cond_train = sessions['date'] < testing_date\n",
    "cond_test_purchase = purchase.date >= testing_date\n",
    "cond_train_purchase = purchase.date < testing_date\n",
    "sessions_train = sessions[cond_train]\n",
    "sessions_test = sessions[cond_test]\n",
    "purchase_train = purchase[cond_train_purchase]\n",
    "purchase_test = purchase[cond_test_purchase]"
   ]
  },
  {
   "cell_type": "code",
   "execution_count": 5,
   "metadata": {
    "id": "4yn-tIE4QjQk"
   },
   "outputs": [],
   "source": [
    "def sessions_list(sessions,purchase):\n",
    "    antique_session = sessions.iat[0,0]\n",
    "    list_sessions = []\n",
    "    actual_session = []\n",
    "    purchase_session = 0\n",
    "    for i in tqdm(range(len(sessions))):\n",
    "        new_session = sessions.iat[i,0]\n",
    "        item = sessions.iat[i,1]\n",
    "        if(new_session != antique_session):\n",
    "            actual_session.append(purchase.iat[purchase_session,1])\n",
    "            purchase_session += 1\n",
    "            list_sessions.append(actual_session)\n",
    "            actual_session = []\n",
    "            antique_session = new_session\n",
    "        actual_session.append(item)\n",
    "    list_sessions.append(actual_session)\n",
    "    return list_sessions"
   ]
  },
  {
   "cell_type": "code",
   "execution_count": 6,
   "metadata": {
    "colab": {
     "base_uri": "https://localhost:8080/"
    },
    "id": "huvCSDNFQk_L",
    "outputId": "e5d07397-003a-45bf-9da7-fac3b3c29e66"
   },
   "outputs": [
    {
     "name": "stderr",
     "output_type": "stream",
     "text": [
      "100%|██████████| 4743820/4743820 [04:26<00:00, 17803.25it/s]\n"
     ]
    }
   ],
   "source": [
    "session_item = sessions_list(sessions,purchase)"
   ]
  },
  {
   "cell_type": "code",
   "execution_count": 7,
   "metadata": {
    "colab": {
     "base_uri": "https://localhost:8080/"
    },
    "id": "Fg1LxXAiQl92",
    "outputId": "cdbfb8b0-cf3b-48b8-d4c6-451d97bc002e"
   },
   "outputs": [
    {
     "name": "stderr",
     "output_type": "stream",
     "text": [
      "1000000it [00:04, 228806.39it/s]\n"
     ]
    }
   ],
   "source": [
    "def training_sequences(session_item2):\n",
    "    train_sequence = np.zeros((len(session_item2),6))\n",
    "    trobat = False\n",
    "    for i,x in tqdm(enumerate(session_item2)):\n",
    "        length = len(x)\n",
    "        llista = x.copy()\n",
    "        if(length-1 < 5):\n",
    "            for j in range(6-length):\n",
    "                llista.insert(0,0)\n",
    "        if(length-1 > 5):\n",
    "            for j in range(length-6):\n",
    "                llista.pop(0)\n",
    "        llista.pop(-1)                                    \n",
    "        train_sequence[i][0] = llista[0]\n",
    "        train_sequence[i][1] = llista[1]\n",
    "        train_sequence[i][2] = llista[2]\n",
    "        train_sequence[i][3] = llista[3]\n",
    "        train_sequence[i][4] = llista[4]\n",
    "        train_sequence[i][5] = x[len(x)-1]\n",
    "    return train_sequence\n",
    "\n",
    "sequence_training = training_sequences(session_item)"
   ]
  },
  {
   "cell_type": "code",
   "execution_count": 14,
   "metadata": {
    "id": "7xlbltcCQppz"
   },
   "outputs": [],
   "source": [
    "X = np.array(sequence_training)[:,:5] #sequence to predict from\n",
    "y = np.array(sequence_training)[:,5:] #next item in the sequence\n",
    "X = X.astype(int)\n",
    "y = y.astype(int)\n",
    "training = np.array(sequence_training)"
   ]
  },
  {
   "cell_type": "markdown",
   "metadata": {
    "id": "bz-kLc56QzyP"
   },
   "source": [
    "# Networks:"
   ]
  },
  {
   "cell_type": "code",
   "execution_count": 16,
   "metadata": {
    "id": "zJniifs2Qsoy"
   },
   "outputs": [],
   "source": [
    "from keras.layers import Embedding, LSTM, Dense, Dropout, RNN, SimpleRNN, GRU, Attention, Conv1D, Conv2D\n",
    "from keras.layers import Flatten, Conv2D\n",
    "\n",
    "from keras.preprocessing.text import Tokenizer\n",
    "from keras.callbacks import EarlyStopping\n",
    "from keras.models import Sequential\n",
    "import keras.utils as ku"
   ]
  },
  {
   "cell_type": "code",
   "execution_count": 17,
   "metadata": {
    "colab": {
     "base_uri": "https://localhost:8080/"
    },
    "id": "QQcv2QizQxm-",
    "outputId": "9aaaaf8d-4833-443b-b8c4-400fc2700f29"
   },
   "outputs": [
    {
     "data": {
      "text/plain": [
       "23692"
      ]
     },
     "execution_count": 17,
     "metadata": {},
     "output_type": "execute_result"
    }
   ],
   "source": [
    "number_items = len(items.item_id.unique())\n",
    "number_items += 1\n",
    "number_items"
   ]
  },
  {
   "cell_type": "code",
   "execution_count": 18,
   "metadata": {
    "id": "L7bxZNRLQyuO"
   },
   "outputs": [],
   "source": [
    "item_index = {}\n",
    "index_item = {}\n",
    "item_index[0] = 0\n",
    "index_item[0] = 0\n",
    "for i,x in enumerate(items.item_id.unique()):\n",
    "    index_item[i+1] = x\n",
    "    item_index[x] = i+1"
   ]
  },
  {
   "cell_type": "code",
   "execution_count": 19,
   "metadata": {
    "id": "0HTXjD8cQ37R"
   },
   "outputs": [],
   "source": [
    "def training_dataset(X2,y2):\n",
    "    #first X.\n",
    "    X_training = np.zeros((X2.shape[0],X2.shape[1]))\n",
    "    y_training = np.zeros(y2.shape[0])\n",
    "    \n",
    "    for i in range(X2.shape[0]):\n",
    "        for j in range(X2.shape[1]):\n",
    "            X_training[i,j] = item_index[X2[i,j]]\n",
    "    \n",
    "    for i in range(y2.shape[0]):\n",
    "        y_training[i] = item_index[y2[i][0]]\n",
    "            \n",
    "    return X_training, y_training\n",
    "X_training, y_training = training_dataset(X,y)  \n",
    "X_training = X_training.astype(int)\n",
    "y_training = y_training.astype(int)"
   ]
  },
  {
   "cell_type": "markdown",
   "metadata": {
    "id": "m-Lz3qM-oeiR"
   },
   "source": [
    "**Relevant Features:**"
   ]
  },
  {
   "cell_type": "code",
   "execution_count": 20,
   "metadata": {
    "colab": {
     "base_uri": "https://localhost:8080/"
    },
    "id": "NZ9xTRlsOYXN",
    "outputId": "0b4b565a-eebc-486e-8eda-40e3376759e5"
   },
   "outputs": [
    {
     "name": "stderr",
     "output_type": "stream",
     "text": [
      "100%|██████████| 471751/471751 [02:15<00:00, 3489.62it/s]\n"
     ]
    }
   ],
   "source": [
    "def get_item_features():\n",
    "    items_features = {}\n",
    "    new_item = 2\n",
    "    features = []\n",
    "    for i in tqdm(range(len(items))):\n",
    "        if(items.iloc[i].item_id == new_item):\n",
    "            features.append(items.iloc[i].feature_category_id)\n",
    "            features.append(items.iloc[i].feature_value_id)\n",
    "        else:\n",
    "            items_features[new_item] = features\n",
    "            new_item = items.iloc[i].item_id\n",
    "            features = []\n",
    "            features.append(items.iloc[i].feature_category_id)\n",
    "            features.append(items.iloc[i].feature_value_id)\n",
    "    items_features[new_item] = features\n",
    "    return items_features\n",
    "item_features = get_item_features()"
   ]
  },
  {
   "cell_type": "code",
   "execution_count": 21,
   "metadata": {
    "colab": {
     "base_uri": "https://localhost:8080/"
    },
    "id": "oBH1vp54oeiS",
    "outputId": "8d6e4701-f1ca-48f9-8ab4-09c1997f9897"
   },
   "outputs": [
    {
     "name": "stderr",
     "output_type": "stream",
     "text": [
      "23691it [00:00, 52015.24it/s]\n",
      "100%|██████████| 1000000/1000000 [00:08<00:00, 116494.74it/s]\n"
     ]
    }
   ],
   "source": [
    "def get_item_features_simplified(item_features2,n_features = 66):\n",
    "    items_features = np.zeros((items.item_id.nunique()+1,n_features))\n",
    "    items_unique = items.item_id.unique()\n",
    "    items_features[0] = np.zeros(n_features)\n",
    "    for i,x in tqdm(enumerate(items_unique)):\n",
    "        features = item_features2[x]\n",
    "        items_features[i+1][0:len(features)] = features\n",
    "    feature_training = np.zeros((X_training.shape[0],n_features,X_training.shape[1]))\n",
    "    for i in tqdm(range(X_training.shape[0])):\n",
    "        for j in range(X_training.shape[1]):\n",
    "            feature_training[i,:,j] = items_features[X_training[i,j]]\n",
    "            \n",
    "    return feature_training\n",
    "item_features_training = get_item_features_simplified(item_features)"
   ]
  },
  {
   "cell_type": "markdown",
   "metadata": {
    "id": "q6T-xmeOoeiT"
   },
   "source": [
    "**LOSS**"
   ]
  },
  {
   "cell_type": "code",
   "execution_count": 22,
   "metadata": {
    "id": "vSaLv2iQQ8EZ"
   },
   "outputs": [],
   "source": [
    "#let's define a sparse categorical crossentropy to start!\n",
    "def loss(labels, logits):\n",
    "    return tf.keras.losses.sparse_categorical_crossentropy(\n",
    "      y_true=labels,\n",
    "      y_pred=logits,\n",
    "      from_logits=True\n",
    "    )"
   ]
  },
  {
   "cell_type": "markdown",
   "metadata": {
    "id": "kunRhnE9-p98"
   },
   "source": [
    "**Metrics**"
   ]
  },
  {
   "cell_type": "code",
   "execution_count": 23,
   "metadata": {
    "id": "SnfBlhr8-rJ3"
   },
   "outputs": [],
   "source": [
    "#let's define a sparse categorical crossentropy to start!\n",
    "from tensorflow.keras.utils import to_categorical\n",
    "def top_5(y_true, y_pred):\n",
    "    return  tf.keras.metrics.sparse_top_k_categorical_accuracy(\n",
    "    y_true, y_pred, k=5\n",
    ")\n",
    "def top_50(y_true, y_pred):\n",
    "    return  tf.keras.metrics.sparse_top_k_categorical_accuracy(\n",
    "    y_true, y_pred, k=50\n",
    ")\n",
    "def top_100(y_true, y_pred):\n",
    "    return  tf.keras.metrics.sparse_top_k_categorical_accuracy(\n",
    "    y_true, y_pred, k=100\n",
    ")"
   ]
  },
  {
   "cell_type": "markdown",
   "metadata": {
    "id": "mUSVKOVq-1rt"
   },
   "source": [
    "**TPU:**"
   ]
  },
  {
   "cell_type": "code",
   "execution_count": 24,
   "metadata": {
    "colab": {
     "base_uri": "https://localhost:8080/"
    },
    "id": "8kE0LVrtRc9q",
    "outputId": "0bdb8ab5-e919-4aed-ae63-9954b1f8a5a4"
   },
   "outputs": [
    {
     "name": "stdout",
     "output_type": "stream",
     "text": [
      "INFO:tensorflow:Deallocate tpu buffers before initializing tpu system.\n"
     ]
    },
    {
     "name": "stderr",
     "output_type": "stream",
     "text": [
      "INFO:tensorflow:Deallocate tpu buffers before initializing tpu system.\n"
     ]
    },
    {
     "name": "stdout",
     "output_type": "stream",
     "text": [
      "INFO:tensorflow:Initializing the TPU system: grpc://10.36.226.194:8470\n"
     ]
    },
    {
     "name": "stderr",
     "output_type": "stream",
     "text": [
      "INFO:tensorflow:Initializing the TPU system: grpc://10.36.226.194:8470\n"
     ]
    },
    {
     "name": "stdout",
     "output_type": "stream",
     "text": [
      "INFO:tensorflow:Finished initializing TPU system.\n"
     ]
    },
    {
     "name": "stderr",
     "output_type": "stream",
     "text": [
      "INFO:tensorflow:Finished initializing TPU system.\n",
      "WARNING:absl:`tf.distribute.experimental.TPUStrategy` is deprecated, please use  the non experimental symbol `tf.distribute.TPUStrategy` instead.\n"
     ]
    },
    {
     "name": "stdout",
     "output_type": "stream",
     "text": [
      "All devices:  [LogicalDevice(name='/job:worker/replica:0/task:0/device:TPU:0', device_type='TPU'), LogicalDevice(name='/job:worker/replica:0/task:0/device:TPU:1', device_type='TPU'), LogicalDevice(name='/job:worker/replica:0/task:0/device:TPU:2', device_type='TPU'), LogicalDevice(name='/job:worker/replica:0/task:0/device:TPU:3', device_type='TPU'), LogicalDevice(name='/job:worker/replica:0/task:0/device:TPU:4', device_type='TPU'), LogicalDevice(name='/job:worker/replica:0/task:0/device:TPU:5', device_type='TPU'), LogicalDevice(name='/job:worker/replica:0/task:0/device:TPU:6', device_type='TPU'), LogicalDevice(name='/job:worker/replica:0/task:0/device:TPU:7', device_type='TPU')]\n",
      "INFO:tensorflow:Found TPU system:\n"
     ]
    },
    {
     "name": "stderr",
     "output_type": "stream",
     "text": [
      "INFO:tensorflow:Found TPU system:\n"
     ]
    },
    {
     "name": "stdout",
     "output_type": "stream",
     "text": [
      "INFO:tensorflow:*** Num TPU Cores: 8\n"
     ]
    },
    {
     "name": "stderr",
     "output_type": "stream",
     "text": [
      "INFO:tensorflow:*** Num TPU Cores: 8\n"
     ]
    },
    {
     "name": "stdout",
     "output_type": "stream",
     "text": [
      "INFO:tensorflow:*** Num TPU Workers: 1\n"
     ]
    },
    {
     "name": "stderr",
     "output_type": "stream",
     "text": [
      "INFO:tensorflow:*** Num TPU Workers: 1\n"
     ]
    },
    {
     "name": "stdout",
     "output_type": "stream",
     "text": [
      "INFO:tensorflow:*** Num TPU Cores Per Worker: 8\n"
     ]
    },
    {
     "name": "stderr",
     "output_type": "stream",
     "text": [
      "INFO:tensorflow:*** Num TPU Cores Per Worker: 8\n"
     ]
    },
    {
     "name": "stdout",
     "output_type": "stream",
     "text": [
      "INFO:tensorflow:*** Available Device: _DeviceAttributes(/job:localhost/replica:0/task:0/device:CPU:0, CPU, 0, 0)\n"
     ]
    },
    {
     "name": "stderr",
     "output_type": "stream",
     "text": [
      "INFO:tensorflow:*** Available Device: _DeviceAttributes(/job:localhost/replica:0/task:0/device:CPU:0, CPU, 0, 0)\n"
     ]
    },
    {
     "name": "stdout",
     "output_type": "stream",
     "text": [
      "INFO:tensorflow:*** Available Device: _DeviceAttributes(/job:worker/replica:0/task:0/device:CPU:0, CPU, 0, 0)\n"
     ]
    },
    {
     "name": "stderr",
     "output_type": "stream",
     "text": [
      "INFO:tensorflow:*** Available Device: _DeviceAttributes(/job:worker/replica:0/task:0/device:CPU:0, CPU, 0, 0)\n"
     ]
    },
    {
     "name": "stdout",
     "output_type": "stream",
     "text": [
      "INFO:tensorflow:*** Available Device: _DeviceAttributes(/job:worker/replica:0/task:0/device:TPU:0, TPU, 0, 0)\n"
     ]
    },
    {
     "name": "stderr",
     "output_type": "stream",
     "text": [
      "INFO:tensorflow:*** Available Device: _DeviceAttributes(/job:worker/replica:0/task:0/device:TPU:0, TPU, 0, 0)\n"
     ]
    },
    {
     "name": "stdout",
     "output_type": "stream",
     "text": [
      "INFO:tensorflow:*** Available Device: _DeviceAttributes(/job:worker/replica:0/task:0/device:TPU:1, TPU, 0, 0)\n"
     ]
    },
    {
     "name": "stderr",
     "output_type": "stream",
     "text": [
      "INFO:tensorflow:*** Available Device: _DeviceAttributes(/job:worker/replica:0/task:0/device:TPU:1, TPU, 0, 0)\n"
     ]
    },
    {
     "name": "stdout",
     "output_type": "stream",
     "text": [
      "INFO:tensorflow:*** Available Device: _DeviceAttributes(/job:worker/replica:0/task:0/device:TPU:2, TPU, 0, 0)\n"
     ]
    },
    {
     "name": "stderr",
     "output_type": "stream",
     "text": [
      "INFO:tensorflow:*** Available Device: _DeviceAttributes(/job:worker/replica:0/task:0/device:TPU:2, TPU, 0, 0)\n"
     ]
    },
    {
     "name": "stdout",
     "output_type": "stream",
     "text": [
      "INFO:tensorflow:*** Available Device: _DeviceAttributes(/job:worker/replica:0/task:0/device:TPU:3, TPU, 0, 0)\n"
     ]
    },
    {
     "name": "stderr",
     "output_type": "stream",
     "text": [
      "INFO:tensorflow:*** Available Device: _DeviceAttributes(/job:worker/replica:0/task:0/device:TPU:3, TPU, 0, 0)\n"
     ]
    },
    {
     "name": "stdout",
     "output_type": "stream",
     "text": [
      "INFO:tensorflow:*** Available Device: _DeviceAttributes(/job:worker/replica:0/task:0/device:TPU:4, TPU, 0, 0)\n"
     ]
    },
    {
     "name": "stderr",
     "output_type": "stream",
     "text": [
      "INFO:tensorflow:*** Available Device: _DeviceAttributes(/job:worker/replica:0/task:0/device:TPU:4, TPU, 0, 0)\n"
     ]
    },
    {
     "name": "stdout",
     "output_type": "stream",
     "text": [
      "INFO:tensorflow:*** Available Device: _DeviceAttributes(/job:worker/replica:0/task:0/device:TPU:5, TPU, 0, 0)\n"
     ]
    },
    {
     "name": "stderr",
     "output_type": "stream",
     "text": [
      "INFO:tensorflow:*** Available Device: _DeviceAttributes(/job:worker/replica:0/task:0/device:TPU:5, TPU, 0, 0)\n"
     ]
    },
    {
     "name": "stdout",
     "output_type": "stream",
     "text": [
      "INFO:tensorflow:*** Available Device: _DeviceAttributes(/job:worker/replica:0/task:0/device:TPU:6, TPU, 0, 0)\n"
     ]
    },
    {
     "name": "stderr",
     "output_type": "stream",
     "text": [
      "INFO:tensorflow:*** Available Device: _DeviceAttributes(/job:worker/replica:0/task:0/device:TPU:6, TPU, 0, 0)\n"
     ]
    },
    {
     "name": "stdout",
     "output_type": "stream",
     "text": [
      "INFO:tensorflow:*** Available Device: _DeviceAttributes(/job:worker/replica:0/task:0/device:TPU:7, TPU, 0, 0)\n"
     ]
    },
    {
     "name": "stderr",
     "output_type": "stream",
     "text": [
      "INFO:tensorflow:*** Available Device: _DeviceAttributes(/job:worker/replica:0/task:0/device:TPU:7, TPU, 0, 0)\n"
     ]
    },
    {
     "name": "stdout",
     "output_type": "stream",
     "text": [
      "INFO:tensorflow:*** Available Device: _DeviceAttributes(/job:worker/replica:0/task:0/device:TPU_SYSTEM:0, TPU_SYSTEM, 0, 0)\n"
     ]
    },
    {
     "name": "stderr",
     "output_type": "stream",
     "text": [
      "INFO:tensorflow:*** Available Device: _DeviceAttributes(/job:worker/replica:0/task:0/device:TPU_SYSTEM:0, TPU_SYSTEM, 0, 0)\n"
     ]
    },
    {
     "name": "stdout",
     "output_type": "stream",
     "text": [
      "INFO:tensorflow:*** Available Device: _DeviceAttributes(/job:worker/replica:0/task:0/device:XLA_CPU:0, XLA_CPU, 0, 0)\n"
     ]
    },
    {
     "name": "stderr",
     "output_type": "stream",
     "text": [
      "INFO:tensorflow:*** Available Device: _DeviceAttributes(/job:worker/replica:0/task:0/device:XLA_CPU:0, XLA_CPU, 0, 0)\n"
     ]
    }
   ],
   "source": [
    "tf.keras.backend.clear_session()\n",
    "\n",
    "resolver = tf.distribute.cluster_resolver.TPUClusterResolver(tpu='grpc://' + os.environ['COLAB_TPU_ADDR'])\n",
    "tf.config.experimental_connect_to_cluster(resolver)\n",
    "# This is the TPU initialization code that has to be at the beginning.\n",
    "tf.tpu.experimental.initialize_tpu_system(resolver)\n",
    "print(\"All devices: \", tf.config.list_logical_devices('TPU'))\n",
    "\n",
    "strategy = tf.distribute.experimental.TPUStrategy(resolver)"
   ]
  },
  {
   "cell_type": "code",
   "execution_count": 25,
   "metadata": {
    "id": "ajDI4idvoeiV"
   },
   "outputs": [],
   "source": [
    "total_item = items.item_id.nunique()"
   ]
  },
  {
   "cell_type": "code",
   "execution_count": 37,
   "metadata": {
    "id": "tOlqFqzeoeiV"
   },
   "outputs": [],
   "source": [
    "def double_NN(input_shape1, input_shape2, activation = \"softmax\", hidden_units = 128, num_items = total_item+1, item_features = 2):\n",
    "    \n",
    "    x1 = tf.keras.Input((input_shape1))\n",
    "    \n",
    "    y1 = tf.keras.Input((input_shape2,input_shape1))\n",
    "    \n",
    "    # Add Input Embedding Layer\n",
    "    x2 = Embedding(num_items, 256, input_length=input_shape1)(x1)\n",
    "    \n",
    "    x3 = GRU(512, return_sequences=False, \n",
    "          activation = \"relu\",  dropout=0.2,\n",
    "    recurrent_dropout=0.1)(x2)\n",
    "\n",
    "    x3 = GRU(1024, return_sequences=False, \n",
    "          activation = \"relu\",  dropout=0.2,\n",
    "    recurrent_dropout=0.1)(x2)\n",
    "\n",
    "    y2 = Conv1D(filters=512, kernel_size= 2, strides = 2, activation='relu')(y1)\n",
    "    \n",
    "    y3 = Conv1D(filters=1024, kernel_size= 4, strides = 1, activation='relu')(y2)\n",
    "\n",
    "\n",
    "    y4 = Flatten()(y3)\n",
    "    \n",
    "\n",
    "    x4 = Dense(512, trainable = True, activation = \"relu\")(x3)\n",
    "\n",
    "    z = tf.concat([x3, y4], axis = 1)\n",
    "\n",
    "    z = Flatten()(z)\n",
    "\n",
    "    z2 = Dense(1024, trainable=True, activation=\"relu\")(z)\n",
    "\n",
    "    z3 = Dropout(0.3)(z2)\n",
    "\n",
    "    outputs = Dense(num_items, trainable=True, activation=\"softmax\")(z3)\n",
    "    \n",
    "\n",
    "    model= Model(inputs = [x1,y1], outputs = outputs)\n",
    "    \n",
    "    adam_optimizer = tf.keras.optimizers.Adam(learning_rate=0.001)\n",
    "\n",
    "    model.compile(\n",
    "          optimizer=adam_optimizer,\n",
    "          loss=loss,\n",
    "          metrics= [\"acc\",top_5,top_100],\n",
    "          steps_per_execution=32)\n",
    "    \n",
    "    return model\n",
    "\n"
   ]
  },
  {
   "cell_type": "code",
   "execution_count": 38,
   "metadata": {
    "colab": {
     "base_uri": "https://localhost:8080/"
    },
    "id": "1UghgASgPgjX",
    "outputId": "2ab9f9ea-2fca-4afa-f2d0-d64afa51dd60"
   },
   "outputs": [
    {
     "name": "stdout",
     "output_type": "stream",
     "text": [
      "Model: \"model_7\"\n",
      "__________________________________________________________________________________________________\n",
      " Layer (type)                   Output Shape         Param #     Connected to                     \n",
      "==================================================================================================\n",
      " input_16 (InputLayer)          [(None, 66, 5)]      0           []                               \n",
      "                                                                                                  \n",
      " input_15 (InputLayer)          [(None, 5)]          0           []                               \n",
      "                                                                                                  \n",
      " conv1d_14 (Conv1D)             (None, 33, 512)      5632        ['input_16[0][0]']               \n",
      "                                                                                                  \n",
      " embedding_7 (Embedding)        (None, 5, 256)       6065152     ['input_15[0][0]']               \n",
      "                                                                                                  \n",
      " conv1d_15 (Conv1D)             (None, 30, 1024)     2098176     ['conv1d_14[0][0]']              \n",
      "                                                                                                  \n",
      " gru_3 (GRU)                    (None, 1024)         3938304     ['embedding_7[0][0]']            \n",
      "                                                                                                  \n",
      " flatten_14 (Flatten)           (None, 30720)        0           ['conv1d_15[0][0]']              \n",
      "                                                                                                  \n",
      " tf.concat_7 (TFOpLambda)       (None, 31744)        0           ['gru_3[0][0]',                  \n",
      "                                                                  'flatten_14[0][0]']             \n",
      "                                                                                                  \n",
      " flatten_15 (Flatten)           (None, 31744)        0           ['tf.concat_7[0][0]']            \n",
      "                                                                                                  \n",
      " dense_22 (Dense)               (None, 1024)         32506880    ['flatten_15[0][0]']             \n",
      "                                                                                                  \n",
      " dropout_7 (Dropout)            (None, 1024)         0           ['dense_22[0][0]']               \n",
      "                                                                                                  \n",
      " dense_23 (Dense)               (None, 23692)        24284300    ['dropout_7[0][0]']              \n",
      "                                                                                                  \n",
      "==================================================================================================\n",
      "Total params: 68,898,444\n",
      "Trainable params: 68,898,444\n",
      "Non-trainable params: 0\n",
      "__________________________________________________________________________________________________\n"
     ]
    }
   ],
   "source": [
    "model_d = double_NN(5,66)\n",
    "model_d.summary()"
   ]
  },
  {
   "cell_type": "code",
   "execution_count": 40,
   "metadata": {
    "colab": {
     "base_uri": "https://localhost:8080/"
    },
    "id": "5HE3WHWooeiW",
    "outputId": "5f8df102-cff7-4e63-ecc2-cd2de315339c"
   },
   "outputs": [
    {
     "name": "stdout",
     "output_type": "stream",
     "text": [
      "Model: \"model_8\"\n",
      "__________________________________________________________________________________________________\n",
      " Layer (type)                   Output Shape         Param #     Connected to                     \n",
      "==================================================================================================\n",
      " input_18 (InputLayer)          [(None, 66, 5)]      0           []                               \n",
      "                                                                                                  \n",
      " input_17 (InputLayer)          [(None, 5)]          0           []                               \n",
      "                                                                                                  \n",
      " conv1d_16 (Conv1D)             (None, 33, 512)      5632        ['input_18[0][0]']               \n",
      "                                                                                                  \n",
      " embedding_8 (Embedding)        (None, 5, 256)       6065152     ['input_17[0][0]']               \n",
      "                                                                                                  \n",
      " conv1d_17 (Conv1D)             (None, 30, 1024)     2098176     ['conv1d_16[0][0]']              \n",
      "                                                                                                  \n",
      " gru_5 (GRU)                    (None, 1024)         3938304     ['embedding_8[0][0]']            \n",
      "                                                                                                  \n",
      " flatten_16 (Flatten)           (None, 30720)        0           ['conv1d_17[0][0]']              \n",
      "                                                                                                  \n",
      " tf.concat_8 (TFOpLambda)       (None, 31744)        0           ['gru_5[0][0]',                  \n",
      "                                                                  'flatten_16[0][0]']             \n",
      "                                                                                                  \n",
      " flatten_17 (Flatten)           (None, 31744)        0           ['tf.concat_8[0][0]']            \n",
      "                                                                                                  \n",
      " dense_25 (Dense)               (None, 1024)         32506880    ['flatten_17[0][0]']             \n",
      "                                                                                                  \n",
      " dropout_8 (Dropout)            (None, 1024)         0           ['dense_25[0][0]']               \n",
      "                                                                                                  \n",
      " dense_26 (Dense)               (None, 23692)        24284300    ['dropout_8[0][0]']              \n",
      "                                                                                                  \n",
      "==================================================================================================\n",
      "Total params: 68,898,444\n",
      "Trainable params: 68,898,444\n",
      "Non-trainable params: 0\n",
      "__________________________________________________________________________________________________\n",
      "Epoch 1/150\n"
     ]
    },
    {
     "name": "stderr",
     "output_type": "stream",
     "text": [
      "/usr/local/lib/python3.7/dist-packages/tensorflow/python/util/dispatch.py:1082: UserWarning: \"`sparse_categorical_crossentropy` received `from_logits=True`, but the `output` argument was produced by a sigmoid or softmax activation and thus does not represent logits. Was this intended?\"\n",
      "  return dispatch_target(*args, **kwargs)\n"
     ]
    },
    {
     "name": "stdout",
     "output_type": "stream",
     "text": [
      "3868/3868 [==============================] - 86s 22ms/step - loss: 7.9730 - acc: 0.0278 - top_5: 0.0742 - top_100: 0.2797 - val_loss: 7.1573 - val_acc: 0.0514 - val_top_5: 0.1256 - val_top_100: 0.3935\n",
      "Epoch 2/150\n",
      "3868/3868 [==============================] - 62s 16ms/step - loss: 6.9996 - acc: 0.0535 - top_5: 0.1333 - top_100: 0.4163 - val_loss: 6.8406 - val_acc: 0.0699 - val_top_5: 0.1597 - val_top_100: 0.4563\n",
      "Epoch 3/150\n",
      "3868/3868 [==============================] - 62s 16ms/step - loss: 6.6306 - acc: 0.0669 - top_5: 0.1614 - top_100: 0.4722 - val_loss: 6.7484 - val_acc: 0.0789 - val_top_5: 0.1795 - val_top_100: 0.4844\n",
      "Epoch 4/150\n",
      "3868/3868 [==============================] - 63s 16ms/step - loss: 6.3813 - acc: 0.0763 - top_5: 0.1804 - top_100: 0.5073 - val_loss: 6.7593 - val_acc: 0.0815 - val_top_5: 0.1895 - val_top_100: 0.4940\n",
      "Epoch 5/150\n",
      "3868/3868 [==============================] - 63s 16ms/step - loss: 6.1867 - acc: 0.0839 - top_5: 0.1950 - top_100: 0.5353 - val_loss: 6.7929 - val_acc: 0.0880 - val_top_5: 0.1912 - val_top_100: 0.4977\n",
      "Epoch 6/150\n",
      "3868/3868 [==============================] - 62s 16ms/step - loss: 6.0237 - acc: 0.0897 - top_5: 0.2074 - top_100: 0.5612 - val_loss: 6.8979 - val_acc: 0.0903 - val_top_5: 0.1973 - val_top_100: 0.5023\n",
      "Epoch 7/150\n",
      "3868/3868 [==============================] - 63s 16ms/step - loss: 5.8825 - acc: 0.0948 - top_5: 0.2188 - top_100: 0.5835 - val_loss: 6.9518 - val_acc: 0.0917 - val_top_5: 0.2020 - val_top_100: 0.5004\n",
      "Epoch 8/150\n",
      "3868/3868 [==============================] - 58s 15ms/step - loss: 5.7604 - acc: 0.0998 - top_5: 0.2292 - top_100: 0.6042 - val_loss: 7.0505 - val_acc: 0.0914 - val_top_5: 0.2029 - val_top_100: 0.5005\n",
      "Epoch 9/150\n",
      "3868/3868 [==============================] - 62s 16ms/step - loss: 5.6518 - acc: 0.1038 - top_5: 0.2390 - top_100: 0.6224 - val_loss: 7.1458 - val_acc: 0.0933 - val_top_5: 0.2038 - val_top_100: 0.4974\n",
      "Epoch 10/150\n",
      "3868/3868 [==============================] - 58s 15ms/step - loss: 5.5596 - acc: 0.1084 - top_5: 0.2472 - top_100: 0.6384 - val_loss: 7.2693 - val_acc: 0.0930 - val_top_5: 0.2034 - val_top_100: 0.4972\n",
      "Epoch 11/150\n",
      "3868/3868 [==============================] - 63s 16ms/step - loss: 5.4746 - acc: 0.1123 - top_5: 0.2553 - top_100: 0.6526 - val_loss: 7.3449 - val_acc: 0.0935 - val_top_5: 0.2030 - val_top_100: 0.4920\n",
      "Epoch 12/150\n",
      "3868/3868 [==============================] - 62s 16ms/step - loss: 5.3997 - acc: 0.1160 - top_5: 0.2631 - top_100: 0.6646 - val_loss: 7.4371 - val_acc: 0.0947 - val_top_5: 0.2016 - val_top_100: 0.4946\n",
      "Epoch 13/150\n",
      "3868/3868 [==============================] - 58s 15ms/step - loss: 5.3359 - acc: 0.1192 - top_5: 0.2695 - top_100: 0.6753 - val_loss: 7.5564 - val_acc: 0.0944 - val_top_5: 0.2000 - val_top_100: 0.4909\n",
      "Epoch 14/150\n",
      "3868/3868 [==============================] - 62s 16ms/step - loss: 5.2768 - acc: 0.1219 - top_5: 0.2752 - top_100: 0.6857 - val_loss: 7.6321 - val_acc: 0.0955 - val_top_5: 0.2008 - val_top_100: 0.4871\n",
      "Epoch 15/150\n",
      "3868/3868 [==============================] - 59s 15ms/step - loss: 5.2245 - acc: 0.1247 - top_5: 0.2812 - top_100: 0.6943 - val_loss: 7.7145 - val_acc: 0.0929 - val_top_5: 0.1986 - val_top_100: 0.4867\n",
      "Epoch 16/150\n",
      "3868/3868 [==============================] - 58s 15ms/step - loss: 5.1792 - acc: 0.1279 - top_5: 0.2861 - top_100: 0.7016 - val_loss: 7.7026 - val_acc: 0.0930 - val_top_5: 0.1999 - val_top_100: 0.4847\n",
      "Epoch 17/150\n",
      "3868/3868 [==============================] - 58s 15ms/step - loss: 5.1363 - acc: 0.1300 - top_5: 0.2908 - top_100: 0.7090 - val_loss: 7.8501 - val_acc: 0.0930 - val_top_5: 0.2013 - val_top_100: 0.4828\n",
      "Epoch 18/150\n",
      "3868/3868 [==============================] - 58s 15ms/step - loss: 5.0978 - acc: 0.1322 - top_5: 0.2946 - top_100: 0.7149 - val_loss: 8.0208 - val_acc: 0.0923 - val_top_5: 0.2003 - val_top_100: 0.4872\n",
      "Epoch 19/150\n",
      "3868/3868 [==============================] - 58s 15ms/step - loss: 5.0641 - acc: 0.1345 - top_5: 0.2987 - top_100: 0.7206 - val_loss: 7.9999 - val_acc: 0.0933 - val_top_5: 0.2020 - val_top_100: 0.4815\n",
      "Epoch 20/150\n",
      "3868/3868 [==============================] - 58s 15ms/step - loss: 5.0332 - acc: 0.1368 - top_5: 0.3024 - top_100: 0.7259 - val_loss: 8.0181 - val_acc: 0.0914 - val_top_5: 0.1987 - val_top_100: 0.4807\n",
      "Epoch 21/150\n",
      "3868/3868 [==============================] - 60s 15ms/step - loss: 5.0061 - acc: 0.1381 - top_5: 0.3055 - top_100: 0.7299 - val_loss: 8.1240 - val_acc: 0.0914 - val_top_5: 0.1984 - val_top_100: 0.4805\n",
      "Epoch 22/150\n",
      "3868/3868 [==============================] - 58s 15ms/step - loss: 4.9786 - acc: 0.1398 - top_5: 0.3085 - top_100: 0.7342 - val_loss: 8.2087 - val_acc: 0.0928 - val_top_5: 0.2003 - val_top_100: 0.4779\n",
      "Epoch 23/150\n",
      "3868/3868 [==============================] - 58s 15ms/step - loss: 4.9546 - acc: 0.1421 - top_5: 0.3116 - top_100: 0.7386 - val_loss: 8.2594 - val_acc: 0.0931 - val_top_5: 0.1990 - val_top_100: 0.4770\n",
      "Epoch 24/150\n",
      "3868/3868 [==============================] - 58s 15ms/step - loss: 4.9323 - acc: 0.1432 - top_5: 0.3146 - top_100: 0.7414 - val_loss: 8.2580 - val_acc: 0.0936 - val_top_5: 0.1977 - val_top_100: 0.4735\n"
     ]
    }
   ],
   "source": [
    "with strategy.scope():\n",
    "  model_d = double_NN(5,66)\n",
    "  model_d.summary()\n",
    "  model_d.fit(x = [X_training,item_features_training],y = y_training,epochs=150, batch_size=256, validation_split = 0.01, verbose=1,\n",
    "          callbacks  = [EarlyStopping(monitor='val_acc', patience=10),\n",
    "             ModelCheckpoint(filepath='best_model.h5', monitor='val_acc', save_best_only=True)]\n",
    "            )\n",
    "model_d.save_weights('/tmp/best.h5', overwrite=True)"
   ]
  },
  {
   "cell_type": "markdown",
   "metadata": {
    "id": "Gh0L8fGgoeiW"
   },
   "source": [
    "# Attention:"
   ]
  },
  {
   "cell_type": "code",
   "execution_count": null,
   "metadata": {
    "id": "1teEEh6EoeiW"
   },
   "outputs": [],
   "source": [
    "from keras.layers import Layer\n",
    "import keras.backend as K\n",
    "\n",
    "class attention(Layer):\n",
    "    def __init__(self,**kwargs):\n",
    "        super(attention,self).__init__(**kwargs)\n",
    " \n",
    "    def build(self,input_shape):\n",
    "        self.W=self.add_weight(name='attention_weight', shape=(input_shape[-1],1), \n",
    "                               initializer='random_normal', trainable=True)\n",
    "        self.b=self.add_weight(name='attention_bias', shape=(input_shape[1],1), \n",
    "                               initializer='zeros', trainable=True)        \n",
    "        super(attention, self).build(input_shape)\n",
    " \n",
    "    def call(self,x):\n",
    "        # Alignment scores. Pass them through tanh function\n",
    "        e = K.tanh(K.dot(x,self.W)+self.b)\n",
    "        # Remove dimension of size 1\n",
    "        e = K.squeeze(e, axis=-1)   \n",
    "        # Compute the weights\n",
    "        alpha = K.softmax(e)\n",
    "        # Reshape to tensorFlow format\n",
    "        alpha = K.expand_dims(alpha, axis=-1)\n",
    "        # Compute the context vector\n",
    "        context = x * alpha\n",
    "        context = K.sum(context, axis=1)\n",
    "        return context"
   ]
  },
  {
   "cell_type": "code",
   "execution_count": null,
   "metadata": {
    "id": "DXcv5BJuoeiX"
   },
   "outputs": [],
   "source": [
    "total_item = items.item_id.nunique()\n",
    "input_len = 5"
   ]
  },
  {
   "cell_type": "code",
   "execution_count": null,
   "metadata": {
    "id": "6mPby4hyoeiX"
   },
   "outputs": [],
   "source": [
    "from pandas import read_csv\n",
    "import numpy as np\n",
    "from keras import Model\n",
    "from keras.layers import Layer\n",
    "import keras.backend as K\n",
    "from keras.layers import Input, Dense, SimpleRNN\n",
    "from sklearn.preprocessing import MinMaxScaler\n",
    "from keras.models import Sequential\n",
    "from keras.metrics import mean_squared_error\n",
    "\n",
    "def loss(labels, logits):\n",
    "    return tf.keras.losses.sparse_categorical_crossentropy(\n",
    "      y_true=labels,\n",
    "      y_pred=logits,\n",
    "      from_logits=True\n",
    "    )\n",
    "#let's define a sparse categorical crossentropy to start!\n",
    "from tensorflow.keras.utils import to_categorical\n",
    "def top_5(y_true, y_pred):\n",
    "    return  tf.keras.metrics.sparse_top_k_categorical_accuracy(\n",
    "    y_true, y_pred, k=5\n",
    ")\n",
    "def top_50(y_true, y_pred):\n",
    "    return  tf.keras.metrics.sparse_top_k_categorical_accuracy(\n",
    "    y_true, y_pred, k=50\n",
    ")\n",
    "def top_100(y_true, y_pred):\n",
    "    return  tf.keras.metrics.sparse_top_k_categorical_accuracy(\n",
    "    y_true, y_pred, k=100\n",
    ")\n",
    "\n",
    "def create_model(max_sequence_len, total_words):\n",
    "    input_len = max_sequence_len - 1\n",
    "    model = Sequential()\n",
    "    \n",
    "    # Add Input Embedding Layer\n",
    "    model.add(Embedding(total_words, 10, input_length=input_len))\n",
    "    \n",
    "    # Add Hidden Layer 1 - LSTM Layer\n",
    "    model.add(LSTM(100))\n",
    "    model.add(Dropout(0.1))\n",
    "    \n",
    "    # Add Output Layer\n",
    "    model.add(Dense(total_words, activation='softmax'))\n",
    "    \n",
    "    return model\n",
    "\n",
    "def create_RNN_with_attention(hidden_units, dense_units, input_shape, activation, num_items = total_item):\n",
    "    x= Input(input_shape)\n",
    "    \n",
    "    y = Embedding(num_items, 10, input_length=5)(x)\n",
    "    \n",
    "    RNN_layer = LSTM(hidden_units, return_sequences=True, activation=activation, dropout=0.3,recurrent_dropout=0.2)(y)\n",
    "    \n",
    "    attention_layer = attention()(RNN_layer)\n",
    "\n",
    "    outputs=Dense(dense_units, trainable=True, activation=\"softmax\")(attention_layer)\n",
    "    \n",
    "    model=Model(x,outputs)\n",
    "    \n",
    "    adam_optimizer = tf.keras.optimizers.Adam(learning_rate=0.001)\n",
    "\n",
    "    model.compile(\n",
    "          optimizer=adam_optimizer,\n",
    "          loss=loss,\n",
    "          metrics= [\"acc\",top_5,top_100],\n",
    "          steps_per_execution=32)\n",
    "    \n",
    "    return model    "
   ]
  },
  {
   "cell_type": "code",
   "execution_count": null,
   "metadata": {
    "id": "5KdKsf7PoeiY"
   },
   "outputs": [],
   "source": [
    "model_attention = create_RNN_with_attention(hidden_units=128, dense_units=total_item+1, \n",
    "                                  input_shape=(5,), activation='relu')\n",
    "model_attention.summary()"
   ]
  },
  {
   "cell_type": "code",
   "execution_count": null,
   "metadata": {
    "id": "lpRdq3EUoeiY"
   },
   "outputs": [],
   "source": [
    "model_attention.fit(X_training, y_training, epochs=100, batch_size=128, verbose=1, validation_split = 0.05,\n",
    "          callbacks  = [EarlyStopping(monitor='val_acc', patience=5),\n",
    "             ModelCheckpoint(filepath='best_model.h5', monitor='val_acc', save_best_only=True)]\n",
    "            )\n"
   ]
  },
  {
   "cell_type": "markdown",
   "metadata": {
    "id": "NLAc8ZGmyvtw"
   },
   "source": [
    "# Obtaining Predictions:"
   ]
  },
  {
   "cell_type": "code",
   "execution_count": null,
   "metadata": {
    "colab": {
     "base_uri": "https://localhost:8080/"
    },
    "id": "uNw-9X067qa2",
    "outputId": "d37b026d-d1d0-4e36-afea-336035aeb641"
   },
   "outputs": [
    {
     "name": "stdout",
     "output_type": "stream",
     "text": [
      "Model: \"model_4\"\n",
      "__________________________________________________________________________________________________\n",
      " Layer (type)                   Output Shape         Param #     Connected to                     \n",
      "==================================================================================================\n",
      " input_10 (InputLayer)          [(None, 66, 5)]      0           []                               \n",
      "                                                                                                  \n",
      " input_9 (InputLayer)           [(None, 5)]          0           []                               \n",
      "                                                                                                  \n",
      " conv1d_8 (Conv1D)              (None, 33, 512)      5632        ['input_10[0][0]']               \n",
      "                                                                                                  \n",
      " embedding_4 (Embedding)        (None, 5, 256)       6065152     ['input_9[0][0]']                \n",
      "                                                                                                  \n",
      " conv1d_9 (Conv1D)              (None, 30, 1024)     2098176     ['conv1d_8[0][0]']               \n",
      "                                                                                                  \n",
      " gru_4 (GRU)                    (None, 512)          1182720     ['embedding_4[0][0]']            \n",
      "                                                                                                  \n",
      " flatten_8 (Flatten)            (None, 30720)        0           ['conv1d_9[0][0]']               \n",
      "                                                                                                  \n",
      " tf.concat_4 (TFOpLambda)       (None, 31232)        0           ['gru_4[0][0]',                  \n",
      "                                                                  'flatten_8[0][0]']              \n",
      "                                                                                                  \n",
      " flatten_9 (Flatten)            (None, 31232)        0           ['tf.concat_4[0][0]']            \n",
      "                                                                                                  \n",
      " dense_8 (Dense)                (None, 1024)         31982592    ['flatten_9[0][0]']              \n",
      "                                                                                                  \n",
      " dropout_4 (Dropout)            (None, 1024)         0           ['dense_8[0][0]']                \n",
      "                                                                                                  \n",
      " dense_9 (Dense)                (None, 23692)        24284300    ['dropout_4[0][0]']              \n",
      "                                                                                                  \n",
      "==================================================================================================\n",
      "Total params: 65,618,572\n",
      "Trainable params: 65,618,572\n",
      "Non-trainable params: 0\n",
      "__________________________________________________________________________________________________\n"
     ]
    }
   ],
   "source": [
    "model = tf.keras.models.load_model('best_model.h5', compile=False)\n",
    "\n",
    "#let's define a sparse categorical crossentropy to start!\n",
    "def loss(labels, logits):\n",
    "    return tf.keras.losses.sparse_categorical_crossentropy(\n",
    "      y_true=labels,\n",
    "      y_pred=logits,\n",
    "      from_logits=True\n",
    "    )\n",
    "\n",
    "# summarize model.\n",
    "model.summary()\n",
    "adam_optimizer = tf.keras.optimizers.Adam(learning_rate=0.001)\n",
    "model.compile(\n",
    "      optimizer=adam_optimizer,\n",
    "      loss=loss,\n",
    "      metrics= [\"acc\",top_5,top_100],\n",
    "      steps_per_execution=32\n",
    "  )"
   ]
  },
  {
   "cell_type": "code",
   "execution_count": null,
   "metadata": {
    "id": "dKjDJD_ez3fg"
   },
   "outputs": [],
   "source": [
    "leaderboard = pd.read_csv(\"test_leaderboard_sessions.csv\")"
   ]
  },
  {
   "cell_type": "code",
   "execution_count": null,
   "metadata": {
    "id": "VravqdCIEBrN"
   },
   "outputs": [],
   "source": [
    "def sessions_list_testing(sessions):\n",
    "    antique_session = sessions.iat[0,0]\n",
    "    list_sessions = []\n",
    "    actual_session = []\n",
    "    for i in tqdm(range(len(sessions))):\n",
    "        new_session = sessions.iat[i,0]\n",
    "        item = sessions.iat[i,1]\n",
    "        if(new_session != antique_session):\n",
    "            list_sessions.append(actual_session)\n",
    "            actual_session = []\n",
    "            antique_session = new_session\n",
    "        actual_session.append(item)\n",
    "    list_sessions.append(actual_session)\n",
    "    return list_sessions"
   ]
  },
  {
   "cell_type": "code",
   "execution_count": null,
   "metadata": {
    "colab": {
     "base_uri": "https://localhost:8080/"
    },
    "id": "xkzqeIqyA_Yh",
    "outputId": "b55ca370-2d64-4b8a-f2c6-e24db23dad56"
   },
   "outputs": [
    {
     "name": "stderr",
     "output_type": "stream",
     "text": [
      "100%|██████████| 229354/229354 [00:11<00:00, 20145.33it/s]\n"
     ]
    }
   ],
   "source": [
    "session_item_testing = sessions_list_testing(leaderboard)"
   ]
  },
  {
   "cell_type": "code",
   "execution_count": null,
   "metadata": {
    "id": "F4JPqm2BG60W"
   },
   "outputs": [],
   "source": [
    "def get_item_features_simplified(item_features2,n_features = 66):\n",
    "    items_features = np.zeros((items.item_id.nunique()+1,n_features))\n",
    "    items_unique = items.item_id.unique()\n",
    "    items_features[0] = np.zeros(n_features)\n",
    "    for i,x in tqdm(enumerate(items_unique)):\n",
    "        features = item_features2[x]\n",
    "        items_features[i+1][0:len(features)] = features\n",
    "    feature_training = np.zeros((X_training.shape[0],n_features,X_training.shape[1]))\n",
    "    for i in tqdm(range(X_training.shape[0])):\n",
    "        for j in range(X_training.shape[1]):\n",
    "            feature_training[i,:,j] = items_features[X_training[i,j]]\n",
    "            \n",
    "    return feature_training\n",
    "item_features_training = get_item_features_simplified(item_features)"
   ]
  },
  {
   "cell_type": "code",
   "execution_count": null,
   "metadata": {
    "colab": {
     "base_uri": "https://localhost:8080/"
    },
    "id": "fI9tWmKRBQSe",
    "outputId": "1e8a3b67-67d5-4d5e-96b7-ef2ea3a41431"
   },
   "outputs": [
    {
     "name": "stderr",
     "output_type": "stream",
     "text": [
      "50000it [00:00, 305675.65it/s]\n"
     ]
    }
   ],
   "source": [
    "def testing_sequences(session_item2):\n",
    "    train_sequence = np.zeros((len(session_item2),5))\n",
    "    trobat = False\n",
    "    for i,x in tqdm(enumerate(session_item2)):\n",
    "        length = len(x)\n",
    "        llista = x.copy()\n",
    "        if(length < 5):\n",
    "            for j in range(5-length):\n",
    "                llista.insert(0,0)\n",
    "        if(length > 5):\n",
    "            for j in range(length-5):\n",
    "                llista.pop(0)\n",
    "        train_sequence[i][0] = llista[0]\n",
    "        train_sequence[i][1] = llista[1]\n",
    "        train_sequence[i][2] = llista[2]\n",
    "        train_sequence[i][3] = llista[3]\n",
    "        train_sequence[i][4] = llista[4]\n",
    "    return train_sequence\n",
    "\n",
    "sequence_testing = testing_sequences(session_item_testing)"
   ]
  },
  {
   "cell_type": "code",
   "execution_count": null,
   "metadata": {
    "id": "UlItwp2ZBgyj"
   },
   "outputs": [],
   "source": [
    "X_testing = np.array(sequence_testing)\n",
    "X_testing = X_testing.astype(int)"
   ]
  },
  {
   "cell_type": "code",
   "execution_count": null,
   "metadata": {
    "id": "ls5xb1CB3aRv"
   },
   "outputs": [],
   "source": [
    "def testing_dataset(X2):\n",
    "    #first X.\n",
    "    X_test = np.zeros((X2.shape[0],X2.shape[1]))    \n",
    "    for i in range(X2.shape[0]):\n",
    "        for j in range(X2.shape[1]):\n",
    "            X_test[i,j] = item_index[X2[i,j]]\n",
    "\n",
    "    return X_test\n",
    "X_leaderboard = testing_dataset(X_testing)  \n",
    "X_leaderboard = X_leaderboard.astype(int)"
   ]
  },
  {
   "cell_type": "code",
   "execution_count": null,
   "metadata": {
    "colab": {
     "base_uri": "https://localhost:8080/"
    },
    "id": "a_nWs5D2HqRs",
    "outputId": "8826246f-6b08-4f49-d5e4-6953a714baba"
   },
   "outputs": [
    {
     "name": "stderr",
     "output_type": "stream",
     "text": [
      "23691it [00:00, 71031.20it/s]\n",
      "100%|██████████| 50000/50000 [00:00<00:00, 85787.86it/s]\n"
     ]
    }
   ],
   "source": [
    "def get_item_features_simplified2(item_features2, X_testing = X_leaderboard, n_features = 66):\n",
    "    items_features = np.zeros((items.item_id.nunique()+1,n_features))\n",
    "    items_unique = items.item_id.unique()\n",
    "    items_features[0] = np.zeros(n_features)\n",
    "    for i,x in tqdm(enumerate(items_unique)):\n",
    "        features = item_features2[x]\n",
    "        items_features[i+1][0:len(features)] = features\n",
    "    feature_training = np.zeros((X_testing.shape[0],n_features,X_testing.shape[1]))\n",
    "    for i in tqdm(range(X_testing.shape[0])):\n",
    "        for j in range(X_testing.shape[1]):\n",
    "            feature_training[i,:,j] = items_features[X_testing[i,j]]\n",
    "            \n",
    "    return feature_training\n",
    "item_features_esting = get_item_features_simplified2(item_features)"
   ]
  },
  {
   "cell_type": "markdown",
   "metadata": {
    "id": "5qjrb0vVNPwm"
   },
   "source": [
    "**Creating The prediction Fully with LSTM:**"
   ]
  },
  {
   "cell_type": "code",
   "execution_count": null,
   "metadata": {
    "id": "cBLxI5vtNPIf"
   },
   "outputs": [],
   "source": [
    "def generate_solution(X_test,leaderboard2, split = 100):\n",
    "    solution = [[]]\n",
    "    sessions_unique = leaderboard.session_id.unique()\n",
    "    for i in tqdm(range(int(50000/split))):\n",
    "      prediction = model.predict([X_test[split*i:split*(i+1)],item_features_training[split*i:split*(i+1)]])\n",
    "      for j in range(split):\n",
    "        prediction_actual = prediction[j]\n",
    "        indexes = np.argpartition(prediction_actual, -100)[-100:]\n",
    "        best_100 = indexes[np.argsort(-prediction_actual[indexes])]\n",
    "        for k in range(100):\n",
    "          solution.append([int(sessions_unique[j+i*split]),index_item[int(best_100[k])],k+1])\n",
    "\n",
    "    return solution\n"
   ]
  },
  {
   "cell_type": "code",
   "execution_count": null,
   "metadata": {
    "colab": {
     "base_uri": "https://localhost:8080/"
    },
    "id": "md4bIfZcPN9x",
    "outputId": "24d337e1-325e-49f2-b396-a9e58ec151b9"
   },
   "outputs": [
    {
     "name": "stderr",
     "output_type": "stream",
     "text": [
      "100%|██████████| 500/500 [01:52<00:00,  4.44it/s]\n"
     ]
    },
    {
     "data": {
      "text/plain": [
       "[]"
      ]
     },
     "execution_count": 269,
     "metadata": {},
     "output_type": "execute_result"
    }
   ],
   "source": [
    "final_solutions = generate_solution(X_leaderboard,leaderboard)\n",
    "final_solutions.pop(0)"
   ]
  },
  {
   "cell_type": "code",
   "execution_count": null,
   "metadata": {
    "id": "hNJ0BCGrjLVq"
   },
   "outputs": [],
   "source": [
    "solutions = pd.DataFrame(final_solutions, columns = ['session_id','item_id', 'rank']).reset_index(drop = True)\n",
    "solutions_csv = solutions.to_csv\n",
    "solutions.to_csv(r'BiNetwork_Solution.csv',index = False)"
   ]
  },
  {
   "cell_type": "code",
   "execution_count": null,
   "metadata": {
    "colab": {
     "base_uri": "https://localhost:8080/"
    },
    "id": "rEhAOg5sj6bz",
    "outputId": "5c7cb433-04a0-457a-d732-dea9bd9458c4"
   },
   "outputs": [
    {
     "data": {
      "text/plain": [
       "<bound method NDFrame.rank of          session_id  item_id  rank\n",
       "0                26    26538     1\n",
       "1                26     1107     2\n",
       "2                26    27416     3\n",
       "3                26    27921     4\n",
       "4                26    19185     5\n",
       "...             ...      ...   ...\n",
       "4999995     4439757     6178    96\n",
       "4999996     4439757      598    97\n",
       "4999997     4439757    21781    98\n",
       "4999998     4439757    16922    99\n",
       "4999999     4439757    21616   100\n",
       "\n",
       "[5000000 rows x 3 columns]>"
      ]
     },
     "execution_count": 289,
     "metadata": {},
     "output_type": "execute_result"
    }
   ],
   "source": [
    "solutions.rank"
   ]
  },
  {
   "cell_type": "code",
   "execution_count": null,
   "metadata": {
    "colab": {
     "base_uri": "https://localhost:8080/"
    },
    "id": "XqH1lTp0zVVp",
    "outputId": "7d0eed76-8ba4-43d9-bb3e-b3387c822dbd"
   },
   "outputs": [
    {
     "data": {
      "text/plain": [
       "session_id    int64\n",
       "item_id       int64\n",
       "rank          int64\n",
       "dtype: object"
      ]
     },
     "execution_count": 297,
     "metadata": {},
     "output_type": "execute_result"
    }
   ],
   "source": [
    "solutions.dtypes"
   ]
  },
  {
   "cell_type": "code",
   "execution_count": null,
   "metadata": {
    "colab": {
     "base_uri": "https://localhost:8080/"
    },
    "id": "PLxw9QACmmj5",
    "outputId": "7aa2bbad-34c4-4cfa-fc6d-d1b6dae3bc57"
   },
   "outputs": [
    {
     "data": {
      "text/plain": [
       "0          26538\n",
       "1           1107\n",
       "2          27416\n",
       "3          27921\n",
       "4          19185\n",
       "           ...  \n",
       "4999995     6178\n",
       "4999996      598\n",
       "4999997    21781\n",
       "4999998    16922\n",
       "4999999    21616\n",
       "Name: item_id, Length: 5000000, dtype: int64"
      ]
     },
     "execution_count": 300,
     "metadata": {},
     "output_type": "execute_result"
    }
   ],
   "source": [
    "solutions.item_id"
   ]
  },
  {
   "cell_type": "code",
   "execution_count": null,
   "metadata": {
    "id": "kTx5lh4rm_QX"
   },
   "outputs": [],
   "source": []
  }
 ],
 "metadata": {
  "accelerator": "TPU",
  "colab": {
   "collapsed_sections": [],
   "name": "attention-attempt (1).ipynb",
   "provenance": []
  },
  "gpuClass": "standard",
  "kernelspec": {
   "display_name": "Python 3 (ipykernel)",
   "language": "python",
   "name": "python3"
  },
  "language_info": {
   "codemirror_mode": {
    "name": "ipython",
    "version": 3
   },
   "file_extension": ".py",
   "mimetype": "text/x-python",
   "name": "python",
   "nbconvert_exporter": "python",
   "pygments_lexer": "ipython3",
   "version": "3.8.13"
  }
 },
 "nbformat": 4,
 "nbformat_minor": 1
}
