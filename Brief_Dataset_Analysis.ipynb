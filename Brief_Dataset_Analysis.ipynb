{
 "cells": [
  {
   "cell_type": "markdown",
   "id": "f10d379d",
   "metadata": {},
   "source": [
    "# Brief Dataset Analysis:"
   ]
  },
  {
   "cell_type": "code",
   "execution_count": 135,
   "id": "a4ad5ba1",
   "metadata": {},
   "outputs": [],
   "source": [
    "import pandas as pd\n",
    "import numpy as np\n",
    "import datetime\n",
    "from tqdm import tqdm\n",
    "import random\n",
    "import matplotlib.pyplot as plt\n"
   ]
  },
  {
   "cell_type": "code",
   "execution_count": 136,
   "id": "8aa1a820",
   "metadata": {},
   "outputs": [],
   "source": [
    "#read all the data:\n",
    "items = pd.read_csv(\"dressipi_recsys2022/item_features.csv\")\n",
    "candidate = pd.read_csv(\"dressipi_recsys2022/candidate_items.csv\")\n",
    "purchase =  pd.read_csv(\"dressipi_recsys2022/train_purchases.csv\")\n",
    "sessions =  pd.read_csv(\"dressipi_recsys2022/train_sessions.csv\")\n",
    "sessions_test = pd.read_csv(\"dressipi_recsys2022/test_final_sessions.csv\")\n",
    "leaderboard = pd.read_csv(\"dressipi_recsys2022/test_leaderboard_sessions.csv\")"
   ]
  },
  {
   "cell_type": "markdown",
   "id": "afe1e203",
   "metadata": {},
   "source": [
    "**Number of distinct Items**"
   ]
  },
  {
   "cell_type": "code",
   "execution_count": 137,
   "id": "02011a82",
   "metadata": {},
   "outputs": [
    {
     "data": {
      "text/plain": [
       "23691"
      ]
     },
     "execution_count": 137,
     "metadata": {},
     "output_type": "execute_result"
    }
   ],
   "source": [
    "items.item_id.nunique()"
   ]
  },
  {
   "cell_type": "markdown",
   "id": "d7e64566",
   "metadata": {},
   "source": [
    "**Number of sessions on Test and Train**"
   ]
  },
  {
   "cell_type": "code",
   "execution_count": 138,
   "id": "3997e054",
   "metadata": {},
   "outputs": [
    {
     "data": {
      "text/plain": [
       "1000000"
      ]
     },
     "execution_count": 138,
     "metadata": {},
     "output_type": "execute_result"
    }
   ],
   "source": [
    "sessions.session_id.nunique()"
   ]
  },
  {
   "cell_type": "code",
   "execution_count": 139,
   "id": "dc6fdc17",
   "metadata": {},
   "outputs": [
    {
     "data": {
      "text/plain": [
       "50000"
      ]
     },
     "execution_count": 139,
     "metadata": {},
     "output_type": "execute_result"
    }
   ],
   "source": [
    "sessions_test.session_id.nunique()"
   ]
  },
  {
   "cell_type": "code",
   "execution_count": 140,
   "id": "6edf8357",
   "metadata": {},
   "outputs": [
    {
     "data": {
      "text/plain": [
       "50000"
      ]
     },
     "execution_count": 140,
     "metadata": {},
     "output_type": "execute_result"
    }
   ],
   "source": [
    "leaderboard.session_id.nunique()"
   ]
  },
  {
   "cell_type": "markdown",
   "id": "98c6692d",
   "metadata": {},
   "source": [
    "**Most seen items**"
   ]
  },
  {
   "cell_type": "code",
   "execution_count": 141,
   "id": "4a9b71b4",
   "metadata": {},
   "outputs": [
    {
     "data": {
      "text/plain": [
       "8060     14714\n",
       "26853    13192\n",
       "2447      9774\n",
       "1644      6955\n",
       "19882     6947\n",
       "         ...  \n",
       "15176        1\n",
       "17347        1\n",
       "6150         1\n",
       "3509         1\n",
       "21419        1\n",
       "Name: item_id, Length: 23496, dtype: int64"
      ]
     },
     "execution_count": 141,
     "metadata": {},
     "output_type": "execute_result"
    }
   ],
   "source": [
    "important_items = sessions.item_id.value_counts()\n",
    "important_items"
   ]
  },
  {
   "cell_type": "code",
   "execution_count": 142,
   "id": "fb20a0c9",
   "metadata": {},
   "outputs": [
    {
     "data": {
      "text/plain": [
       "[<matplotlib.lines.Line2D at 0x171a39b9e20>]"
      ]
     },
     "execution_count": 142,
     "metadata": {},
     "output_type": "execute_result"
    },
    {
     "data": {
      "image/png": "[encoded data removed]",
      "text/plain": [
       "<Figure size 432x288 with 1 Axes>"
      ]
     },
     "metadata": {
      "needs_background": "light"
     },
     "output_type": "display_data"
    }
   ],
   "source": [
    "plt.plot(range(len(important_items)),important_items, color = \"black\")"
   ]
  },
  {
   "cell_type": "code",
   "execution_count": 143,
   "id": "68faf1fe",
   "metadata": {},
   "outputs": [
    {
     "data": {
      "text/html": [
       "<div>\n",
       "<style scoped>\n",
       "    .dataframe tbody tr th:only-of-type {\n",
       "        vertical-align: middle;\n",
       "    }\n",
       "\n",
       "    .dataframe tbody tr th {\n",
       "        vertical-align: top;\n",
       "    }\n",
       "\n",
       "    .dataframe thead th {\n",
       "        text-align: right;\n",
       "    }\n",
       "</style>\n",
       "<table border=\"1\" class=\"dataframe\">\n",
       "  <thead>\n",
       "    <tr style=\"text-align: right;\">\n",
       "      <th></th>\n",
       "      <th>session_id</th>\n",
       "      <th>item_id</th>\n",
       "      <th>date</th>\n",
       "    </tr>\n",
       "  </thead>\n",
       "  <tbody>\n",
       "    <tr>\n",
       "      <th>0</th>\n",
       "      <td>3</td>\n",
       "      <td>9655</td>\n",
       "      <td>2020-12-18 21:25:00.373</td>\n",
       "    </tr>\n",
       "    <tr>\n",
       "      <th>1</th>\n",
       "      <td>3</td>\n",
       "      <td>9655</td>\n",
       "      <td>2020-12-18 21:19:48.093</td>\n",
       "    </tr>\n",
       "    <tr>\n",
       "      <th>2</th>\n",
       "      <td>13</td>\n",
       "      <td>15654</td>\n",
       "      <td>2020-03-13 19:35:27.136</td>\n",
       "    </tr>\n",
       "    <tr>\n",
       "      <th>3</th>\n",
       "      <td>18</td>\n",
       "      <td>18316</td>\n",
       "      <td>2020-08-26 19:18:30.833</td>\n",
       "    </tr>\n",
       "    <tr>\n",
       "      <th>4</th>\n",
       "      <td>18</td>\n",
       "      <td>2507</td>\n",
       "      <td>2020-08-26 19:16:31.211</td>\n",
       "    </tr>\n",
       "    <tr>\n",
       "      <th>...</th>\n",
       "      <td>...</td>\n",
       "      <td>...</td>\n",
       "      <td>...</td>\n",
       "    </tr>\n",
       "    <tr>\n",
       "      <th>4743815</th>\n",
       "      <td>4440001</td>\n",
       "      <td>20409</td>\n",
       "      <td>2020-10-30 23:37:20.658</td>\n",
       "    </tr>\n",
       "    <tr>\n",
       "      <th>4743816</th>\n",
       "      <td>4440001</td>\n",
       "      <td>14155</td>\n",
       "      <td>2020-10-30 23:31:56.607</td>\n",
       "    </tr>\n",
       "    <tr>\n",
       "      <th>4743817</th>\n",
       "      <td>4440001</td>\n",
       "      <td>14303</td>\n",
       "      <td>2020-10-30 23:36:17.934</td>\n",
       "    </tr>\n",
       "    <tr>\n",
       "      <th>4743818</th>\n",
       "      <td>4440001</td>\n",
       "      <td>27852</td>\n",
       "      <td>2020-10-30 23:39:55.186</td>\n",
       "    </tr>\n",
       "    <tr>\n",
       "      <th>4743819</th>\n",
       "      <td>4440001</td>\n",
       "      <td>305</td>\n",
       "      <td>2020-10-30 23:27:37.873</td>\n",
       "    </tr>\n",
       "  </tbody>\n",
       "</table>\n",
       "<p>4743820 rows × 3 columns</p>\n",
       "</div>"
      ],
      "text/plain": [
       "         session_id  item_id                     date\n",
       "0                 3     9655  2020-12-18 21:25:00.373\n",
       "1                 3     9655  2020-12-18 21:19:48.093\n",
       "2                13    15654  2020-03-13 19:35:27.136\n",
       "3                18    18316  2020-08-26 19:18:30.833\n",
       "4                18     2507  2020-08-26 19:16:31.211\n",
       "...             ...      ...                      ...\n",
       "4743815     4440001    20409  2020-10-30 23:37:20.658\n",
       "4743816     4440001    14155  2020-10-30 23:31:56.607\n",
       "4743817     4440001    14303  2020-10-30 23:36:17.934\n",
       "4743818     4440001    27852  2020-10-30 23:39:55.186\n",
       "4743819     4440001      305  2020-10-30 23:27:37.873\n",
       "\n",
       "[4743820 rows x 3 columns]"
      ]
     },
     "execution_count": 143,
     "metadata": {},
     "output_type": "execute_result"
    }
   ],
   "source": [
    "sessions"
   ]
  },
  {
   "cell_type": "markdown",
   "id": "00e56837",
   "metadata": {},
   "source": [
    "**Session Length**"
   ]
  },
  {
   "cell_type": "code",
   "execution_count": 144,
   "id": "cdf75345",
   "metadata": {},
   "outputs": [
    {
     "data": {
      "text/plain": [
       "array([ 2,  1,  3, ...,  1,  7, 19], dtype=int64)"
      ]
     },
     "execution_count": 144,
     "metadata": {},
     "output_type": "execute_result"
    }
   ],
   "source": [
    "session_length = sessions.groupby(['session_id']).date.nunique()\n",
    "session_length.values"
   ]
  },
  {
   "cell_type": "code",
   "execution_count": 145,
   "id": "e04784e2",
   "metadata": {},
   "outputs": [
    {
     "data": {
      "image/png": "[encoded data removed]",
      "text/plain": [
       "<Figure size 432x288 with 1 Axes>"
      ]
     },
     "metadata": {
      "needs_background": "light"
     },
     "output_type": "display_data"
    }
   ],
   "source": [
    "plt.hist(session_length.values, bins = 100, color = \"black\")\n",
    "plt.show()"
   ]
  },
  {
   "cell_type": "code",
   "execution_count": 146,
   "id": "0c269668",
   "metadata": {},
   "outputs": [],
   "source": [
    "sorted_session_length = sorted(session_length.values)"
   ]
  },
  {
   "cell_type": "markdown",
   "id": "05d5eb08",
   "metadata": {},
   "source": [
    "**Most Relevant Item features**"
   ]
  },
  {
   "cell_type": "code",
   "execution_count": 148,
   "id": "17e40a00",
   "metadata": {},
   "outputs": [
    {
     "data": {
      "text/plain": [
       "56    23691\n",
       "47    23691\n",
       "50    23077\n",
       "68    23038\n",
       "61    22512\n",
       "72    20499\n",
       "69    20450\n",
       "7     20416\n",
       "55    17779\n",
       "30    15412\n",
       "4     14954\n",
       "63    14588\n",
       "32    14277\n",
       "26    14270\n",
       "73    13339\n",
       "19    12308\n",
       "17    12103\n",
       "65    10960\n",
       "46    10102\n",
       "5      9488\n",
       "Name: feature_category_id, dtype: int64"
      ]
     },
     "execution_count": 148,
     "metadata": {},
     "output_type": "execute_result"
    }
   ],
   "source": [
    "#most relevant categories ids\n",
    "relevant_features = items.feature_category_id.value_counts()\n",
    "relevant_features[0:20]"
   ]
  },
  {
   "cell_type": "code",
   "execution_count": 149,
   "id": "7984e56f",
   "metadata": {},
   "outputs": [
    {
     "data": {
      "text/plain": [
       "[<matplotlib.lines.Line2D at 0x1718bff06a0>]"
      ]
     },
     "execution_count": 149,
     "metadata": {},
     "output_type": "execute_result"
    },
    {
     "data": {
      "image/png": "[encoded data removed]",
      "text/plain": [
       "<Figure size 432x288 with 1 Axes>"
      ]
     },
     "metadata": {
      "needs_background": "light"
     },
     "output_type": "display_data"
    }
   ],
   "source": [
    "plt.plot(range(len(relevant_features)),relevant_features, color = \"black\")"
   ]
  },
  {
   "cell_type": "code",
   "execution_count": 150,
   "id": "962cc5bb",
   "metadata": {},
   "outputs": [
    {
     "data": {
      "text/plain": [
       "365    19472\n",
       "75     12582\n",
       "706    12353\n",
       "378    11939\n",
       "861    11651\n",
       "618    11628\n",
       "544    10958\n",
       "267    10339\n",
       "825     9097\n",
       "559     8960\n",
       "793     8938\n",
       "521     8491\n",
       "605     8382\n",
       "268     8248\n",
       "902     6875\n",
       "351     6497\n",
       "549     6169\n",
       "592     6042\n",
       "901     5494\n",
       "462     5413\n",
       "Name: feature_value_id, dtype: int64"
      ]
     },
     "execution_count": 150,
     "metadata": {},
     "output_type": "execute_result"
    }
   ],
   "source": [
    "#most relevant feature value ids\n",
    "relevant_values = items.feature_value_id.value_counts()\n",
    "relevant_values[0:20]"
   ]
  },
  {
   "cell_type": "code",
   "execution_count": 151,
   "id": "bd8da431",
   "metadata": {},
   "outputs": [
    {
     "data": {
      "text/plain": [
       "[<matplotlib.lines.Line2D at 0x17334388670>]"
      ]
     },
     "execution_count": 151,
     "metadata": {},
     "output_type": "execute_result"
    },
    {
     "data": {
      "image/png": "[encoded data removed]",
      "text/plain": [
       "<Figure size 432x288 with 1 Axes>"
      ]
     },
     "metadata": {
      "needs_background": "light"
     },
     "output_type": "display_data"
    }
   ],
   "source": [
    "plt.plot(range(len(relevant_values)),relevant_values, color = \"black\")"
   ]
  },
  {
   "cell_type": "markdown",
   "id": "39e66d0e",
   "metadata": {},
   "source": [
    "**Maximum Amount of Features**"
   ]
  },
  {
   "cell_type": "code",
   "execution_count": 152,
   "id": "3a388fe5",
   "metadata": {},
   "outputs": [
    {
     "data": {
      "text/plain": [
       "feature_category_id    27\n",
       "feature_value_id       33\n",
       "dtype: int64"
      ]
     },
     "execution_count": 152,
     "metadata": {},
     "output_type": "execute_result"
    }
   ],
   "source": [
    "items.groupby(['item_id']).nunique().max()"
   ]
  },
  {
   "cell_type": "markdown",
   "id": "38fbdcba",
   "metadata": {},
   "source": [
    "**Minimum Amount of Features**"
   ]
  },
  {
   "cell_type": "code",
   "execution_count": 153,
   "id": "553494a7",
   "metadata": {},
   "outputs": [
    {
     "data": {
      "text/plain": [
       "feature_category_id    2\n",
       "feature_value_id       2\n",
       "dtype: int64"
      ]
     },
     "execution_count": 153,
     "metadata": {},
     "output_type": "execute_result"
    }
   ],
   "source": [
    "items.groupby(['item_id']).nunique().min()"
   ]
  },
  {
   "cell_type": "markdown",
   "id": "3f067168",
   "metadata": {},
   "source": [
    "**Average Session Length**"
   ]
  },
  {
   "cell_type": "code",
   "execution_count": 154,
   "id": "52e05a5c",
   "metadata": {},
   "outputs": [],
   "source": [
    "session_length = sessions.groupby([\"session_id\"]).nunique()"
   ]
  },
  {
   "cell_type": "code",
   "execution_count": 155,
   "id": "b6a6d2ef",
   "metadata": {},
   "outputs": [
    {
     "data": {
      "text/plain": [
       "item_id    4.108850\n",
       "date       4.743159\n",
       "dtype: float64"
      ]
     },
     "execution_count": 155,
     "metadata": {},
     "output_type": "execute_result"
    }
   ],
   "source": [
    "session_length.mean()"
   ]
  },
  {
   "cell_type": "code",
   "execution_count": 156,
   "id": "834f13c3",
   "metadata": {},
   "outputs": [],
   "source": [
    "repeated_items = session_length[session_length.date > session_length.item_id]"
   ]
  },
  {
   "cell_type": "code",
   "execution_count": 157,
   "id": "8529425f",
   "metadata": {},
   "outputs": [
    {
     "data": {
      "text/plain": [
       "284910"
      ]
     },
     "execution_count": 157,
     "metadata": {},
     "output_type": "execute_result"
    }
   ],
   "source": [
    "len(repeated_items)"
   ]
  },
  {
   "cell_type": "markdown",
   "id": "2f7bc6b8",
   "metadata": {},
   "source": [
    "Which represents a fraction of around 28% of the sessions."
   ]
  },
  {
   "cell_type": "markdown",
   "id": "572c379c",
   "metadata": {},
   "source": [
    "**Let's analyse the purchase dataset**"
   ]
  },
  {
   "cell_type": "markdown",
   "id": "1c0f9265",
   "metadata": {},
   "source": [
    "**First Top Sellers**"
   ]
  },
  {
   "cell_type": "code",
   "execution_count": 158,
   "id": "a2118540",
   "metadata": {},
   "outputs": [
    {
     "data": {
      "text/plain": [
       "8060     8451\n",
       "26853    3829\n",
       "19882    3355\n",
       "8622     2745\n",
       "2447     2726\n",
       "         ... \n",
       "20141       1\n",
       "24646       1\n",
       "1581        1\n",
       "14660       1\n",
       "3302        1\n",
       "Name: item_id, Length: 18907, dtype: int64"
      ]
     },
     "execution_count": 158,
     "metadata": {},
     "output_type": "execute_result"
    }
   ],
   "source": [
    "purchase.item_id.value_counts()"
   ]
  },
  {
   "cell_type": "code",
   "execution_count": 159,
   "id": "a97a6ca5",
   "metadata": {},
   "outputs": [
    {
     "data": {
      "text/plain": [
       "[<matplotlib.lines.Line2D at 0x173343f76a0>]"
      ]
     },
     "execution_count": 159,
     "metadata": {},
     "output_type": "execute_result"
    },
    {
     "data": {
      "image/png": "[encoded data removed]",
      "text/plain": [
       "<Figure size 432x288 with 1 Axes>"
      ]
     },
     "metadata": {
      "needs_background": "light"
     },
     "output_type": "display_data"
    }
   ],
   "source": [
    "plt.plot(range(len(purchase.item_id.value_counts())),purchase.item_id.value_counts())"
   ]
  },
  {
   "cell_type": "markdown",
   "id": "61ef8125",
   "metadata": {},
   "source": [
    "**Test Session Analysis**"
   ]
  },
  {
   "cell_type": "code",
   "execution_count": 160,
   "id": "074d6cab",
   "metadata": {},
   "outputs": [
    {
     "data": {
      "text/html": [
       "<div>\n",
       "<style scoped>\n",
       "    .dataframe tbody tr th:only-of-type {\n",
       "        vertical-align: middle;\n",
       "    }\n",
       "\n",
       "    .dataframe tbody tr th {\n",
       "        vertical-align: top;\n",
       "    }\n",
       "\n",
       "    .dataframe thead th {\n",
       "        text-align: right;\n",
       "    }\n",
       "</style>\n",
       "<table border=\"1\" class=\"dataframe\">\n",
       "  <thead>\n",
       "    <tr style=\"text-align: right;\">\n",
       "      <th></th>\n",
       "      <th>session_id</th>\n",
       "      <th>item_id</th>\n",
       "      <th>date</th>\n",
       "    </tr>\n",
       "  </thead>\n",
       "  <tbody>\n",
       "    <tr>\n",
       "      <th>0</th>\n",
       "      <td>61</td>\n",
       "      <td>27088</td>\n",
       "      <td>2021-06-01 08:12:39.664</td>\n",
       "    </tr>\n",
       "    <tr>\n",
       "      <th>1</th>\n",
       "      <td>96</td>\n",
       "      <td>11693</td>\n",
       "      <td>2021-06-19 17:48:05.227</td>\n",
       "    </tr>\n",
       "    <tr>\n",
       "      <th>2</th>\n",
       "      <td>96</td>\n",
       "      <td>18298</td>\n",
       "      <td>2021-06-19 17:49:08.589</td>\n",
       "    </tr>\n",
       "    <tr>\n",
       "      <th>3</th>\n",
       "      <td>96</td>\n",
       "      <td>4738</td>\n",
       "      <td>2021-06-19 17:49:15.838</td>\n",
       "    </tr>\n",
       "    <tr>\n",
       "      <th>4</th>\n",
       "      <td>96</td>\n",
       "      <td>495</td>\n",
       "      <td>2021-06-19 17:49:20.88</td>\n",
       "    </tr>\n",
       "    <tr>\n",
       "      <th>...</th>\n",
       "      <td>...</td>\n",
       "      <td>...</td>\n",
       "      <td>...</td>\n",
       "    </tr>\n",
       "    <tr>\n",
       "      <th>226133</th>\n",
       "      <td>4439648</td>\n",
       "      <td>7154</td>\n",
       "      <td>2021-06-14 08:03:19.024</td>\n",
       "    </tr>\n",
       "    <tr>\n",
       "      <th>226134</th>\n",
       "      <td>4439675</td>\n",
       "      <td>23067</td>\n",
       "      <td>2021-06-01 12:21:07.959</td>\n",
       "    </tr>\n",
       "    <tr>\n",
       "      <th>226135</th>\n",
       "      <td>4439868</td>\n",
       "      <td>26085</td>\n",
       "      <td>2021-06-16 22:18:27.509</td>\n",
       "    </tr>\n",
       "    <tr>\n",
       "      <th>226136</th>\n",
       "      <td>4439966</td>\n",
       "      <td>19483</td>\n",
       "      <td>2021-06-06 20:05:06.457</td>\n",
       "    </tr>\n",
       "    <tr>\n",
       "      <th>226137</th>\n",
       "      <td>4439966</td>\n",
       "      <td>20782</td>\n",
       "      <td>2021-06-06 20:06:47.779</td>\n",
       "    </tr>\n",
       "  </tbody>\n",
       "</table>\n",
       "<p>226138 rows × 3 columns</p>\n",
       "</div>"
      ],
      "text/plain": [
       "        session_id  item_id                     date\n",
       "0               61    27088  2021-06-01 08:12:39.664\n",
       "1               96    11693  2021-06-19 17:48:05.227\n",
       "2               96    18298  2021-06-19 17:49:08.589\n",
       "3               96     4738  2021-06-19 17:49:15.838\n",
       "4               96      495   2021-06-19 17:49:20.88\n",
       "...            ...      ...                      ...\n",
       "226133     4439648     7154  2021-06-14 08:03:19.024\n",
       "226134     4439675    23067  2021-06-01 12:21:07.959\n",
       "226135     4439868    26085  2021-06-16 22:18:27.509\n",
       "226136     4439966    19483  2021-06-06 20:05:06.457\n",
       "226137     4439966    20782  2021-06-06 20:06:47.779\n",
       "\n",
       "[226138 rows x 3 columns]"
      ]
     },
     "execution_count": 160,
     "metadata": {},
     "output_type": "execute_result"
    }
   ],
   "source": [
    "sessions_test"
   ]
  },
  {
   "cell_type": "code",
   "execution_count": 161,
   "id": "cabdd610",
   "metadata": {},
   "outputs": [
    {
     "data": {
      "text/plain": [
       "23412    1185\n",
       "8060     1119\n",
       "6491     1003\n",
       "4130      943\n",
       "16922     941\n",
       "         ... \n",
       "6804        1\n",
       "8141        1\n",
       "4547        1\n",
       "6270        1\n",
       "26218       1\n",
       "Name: item_id, Length: 5648, dtype: int64"
      ]
     },
     "execution_count": 161,
     "metadata": {},
     "output_type": "execute_result"
    }
   ],
   "source": [
    "important_items = sessions_test.item_id.value_counts()\n",
    "important_items"
   ]
  },
  {
   "cell_type": "code",
   "execution_count": 162,
   "id": "b169f3c9",
   "metadata": {},
   "outputs": [
    {
     "data": {
      "text/plain": [
       "[<matplotlib.lines.Line2D at 0x17334459880>]"
      ]
     },
     "execution_count": 162,
     "metadata": {},
     "output_type": "execute_result"
    },
    {
     "data": {
      "image/png": "[encoded data removed]",
      "text/plain": [
       "<Figure size 432x288 with 1 Axes>"
      ]
     },
     "metadata": {
      "needs_background": "light"
     },
     "output_type": "display_data"
    }
   ],
   "source": [
    "plt.plot(range(len(important_items)),important_items)"
   ]
  },
  {
   "cell_type": "code",
   "execution_count": null,
   "id": "d5e18232",
   "metadata": {},
   "outputs": [],
   "source": []
  }
 ],
 "metadata": {
  "kernelspec": {
   "display_name": "Python 3 (ipykernel)",
   "language": "python",
   "name": "python3"
  },
  "language_info": {
   "codemirror_mode": {
    "name": "ipython",
    "version": 3
   },
   "file_extension": ".py",
   "mimetype": "text/x-python",
   "name": "python",
   "nbconvert_exporter": "python",
   "pygments_lexer": "ipython3",
   "version": "3.8.13"
  }
 },
 "nbformat": 4,
 "nbformat_minor": 5
}
