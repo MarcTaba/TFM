{
 "cells": [
  {
   "cell_type": "markdown",
   "id": "ea8ac61f",
   "metadata": {},
   "source": [
    "# Markov Chains Model:"
   ]
  },
  {
   "cell_type": "markdown",
   "id": "e1be0b64",
   "metadata": {},
   "source": [
    "Funciona amb Leaderboard Score 0.15, per tan simple que és, prou bé funciona!"
   ]
  },
  {
   "cell_type": "markdown",
   "id": "c63d8477",
   "metadata": {},
   "source": [
    "A Markov Chain Model is Implemented and Observed:"
   ]
  },
  {
   "cell_type": "code",
   "execution_count": 234,
   "id": "2ad1efb7",
   "metadata": {},
   "outputs": [],
   "source": [
    "import pandas as pd\n",
    "import numpy as np\n",
    "import datetime\n",
    "from tqdm import tqdm\n",
    "import random"
   ]
  },
  {
   "cell_type": "code",
   "execution_count": 262,
   "id": "6581d94f",
   "metadata": {},
   "outputs": [],
   "source": [
    "#read all the data:\n",
    "items = pd.read_csv(\"dressipi_recsys2022/item_features.csv\")\n",
    "candidate = pd.read_csv(\"dressipi_recsys2022/candidate_items.csv\")\n",
    "purchase =  pd.read_csv(\"dressipi_recsys2022/train_purchases.csv\")\n",
    "sessions =  pd.read_csv(\"dressipi_recsys2022/train_sessions.csv\")\n",
    "sessions_test = pd.read_csv(\"dressipi_recsys2022/test_final_sessions.csv\")\n",
    "leaderboard = pd.read_csv(\"dressipi_recsys2022/test_leaderboard_sessions.csv\")"
   ]
  },
  {
   "cell_type": "code",
   "execution_count": 263,
   "id": "514f768a",
   "metadata": {},
   "outputs": [],
   "source": [
    "import time\n",
    "purchase['date'] = pd.to_datetime(purchase['date'])\n",
    "sessions['date'] = pd.to_datetime(sessions['date'])\n",
    "max_day = purchase['date'].max() #max date 31/05/2021 \n",
    "min_day = max_day -datetime.timedelta(31)\n",
    "cond = purchase['date'] >= min_day\n",
    "new_purchases = purchase[cond]\n",
    "top_seller = new_purchases['item_id'].value_counts()[0:100].index.to_list()"
   ]
  },
  {
   "cell_type": "code",
   "execution_count": 305,
   "id": "2e8a0d68",
   "metadata": {},
   "outputs": [],
   "source": [
    "max_day = sessions['date'].max() #max date 31/05/2021 \n",
    "testing_date = max_day -datetime.timedelta(31)\n",
    "cond_test = sessions['date'] >= testing_date\n",
    "cond_train = sessions['date'] < testing_date\n",
    "cond_test_purchase = purchase.date >= testing_date\n",
    "cond_train_purchase = purchase.date < testing_date\n",
    "sessions_train = sessions[cond_train]\n",
    "sessions_test = sessions[cond_test]\n",
    "purchase_train = purchase[cond_train_purchase]\n",
    "purchase_test = purchase[cond_test_purchase]"
   ]
  },
  {
   "cell_type": "markdown",
   "id": "9c941e87",
   "metadata": {},
   "source": [
    "**Markov Model, only counting last item before the purchase:**"
   ]
  },
  {
   "cell_type": "code",
   "execution_count": 374,
   "id": "ba81b8dc",
   "metadata": {},
   "outputs": [],
   "source": [
    "def occurrences_purchase(sessions2):\n",
    "    occurrences = {}\n",
    "    occurrences_item = {}\n",
    "    antique_session = sessions2.session_id.iloc[0]\n",
    "    sessions_num = 0\n",
    "    for i,x in tqdm(enumerate(zip(sessions2['session_id'], sessions2['item_id']))):\n",
    "        session, item = x\n",
    "        if(session != antique_session):\n",
    "            first = sessions2.iat[i-1,1]\n",
    "            second = purchase.iat[sessions_num,1]\n",
    "            if first not in occurrences:\n",
    "                occurrences[first] = {}\n",
    "            if second not in occurrences[first]:\n",
    "                occurrences[first][second] = 0\n",
    "            occurrences[first][second] += 1\n",
    "            antique_session = session\n",
    "            sessions_num += 1\n",
    "            if first not in occurrences_item:\n",
    "                occurrences_item[first] = 0\n",
    "            occurrences_item[first] += 1\n",
    "            \n",
    "    return occurrences, occurrences_item"
   ]
  },
  {
   "cell_type": "code",
   "execution_count": 375,
   "id": "88351162",
   "metadata": {},
   "outputs": [
    {
     "name": "stderr",
     "output_type": "stream",
     "text": [
      "4273700it [01:53, 37769.33it/s]\n",
      "470120it [00:09, 49562.65it/s]\n",
      "4743820it [00:43, 107903.17it/s]\n"
     ]
    }
   ],
   "source": [
    "occurrences_train,occurrences_item_train = occurrences_purchase(sessions_train)\n",
    "occurrences_test, occurrences_item_test = occurrences_purchase(sessions_test)\n",
    "occurrences, occurrences_item = occurrences_purchase(sessions)"
   ]
  },
  {
   "cell_type": "code",
   "execution_count": 376,
   "id": "ce7fa4cc",
   "metadata": {},
   "outputs": [],
   "source": [
    "def get_probabilities(occurrences2,occurrences_item2):\n",
    "    for x in tqdm(occurrences2):\n",
    "        for y in occurrences2[x]:\n",
    "            occurrences2[x][y] = occurrences2[x][y]/occurrences_item2[x]\n",
    "    sorted_occurrence = occurrences2\n",
    "\n",
    "    for x in tqdm(occurrences2):\n",
    "        occurrences2[x] = sorted(occurrences2[x].items(),key = lambda x : x[1], reverse = True)\n",
    "\n",
    "    return occurrences2"
   ]
  },
  {
   "cell_type": "code",
   "execution_count": 377,
   "id": "c4cb55e3",
   "metadata": {},
   "outputs": [
    {
     "name": "stderr",
     "output_type": "stream",
     "text": [
      "100%|██████████| 20592/20592 [00:00<00:00, 45547.35it/s]\n",
      "100%|██████████| 20592/20592 [00:00<00:00, 55485.99it/s]\n",
      "100%|██████████| 5023/5023 [00:00<00:00, 128763.27it/s]\n",
      "100%|██████████| 5023/5023 [00:00<00:00, 147723.21it/s]\n",
      "100%|██████████| 21000/21000 [00:00<00:00, 58810.47it/s]\n",
      "100%|██████████| 21000/21000 [00:00<00:00, 63049.22it/s]\n"
     ]
    }
   ],
   "source": [
    "probabilities_train = get_probabilities(occurrences_train,occurrences_item_train)\n",
    "probabilites_test = get_probabilities(occurrences_test,occurrences_item_test)\n",
    "probabilities = get_probabilities(occurrences, occurrences_item)"
   ]
  },
  {
   "cell_type": "code",
   "execution_count": 378,
   "id": "46556fd2",
   "metadata": {},
   "outputs": [],
   "source": [
    "def generate_markov_solution(probabilities2,leaderboard2):\n",
    "    solution = [[]]\n",
    "    antique_session = leaderboard2.session_id.iloc[0]\n",
    "    for i,x in tqdm(enumerate(zip(leaderboard2['session_id'], leaderboard2['item_id']))):\n",
    "        session,item = x\n",
    "        seen = 0\n",
    "        if(session != antique_session):\n",
    "            item = leaderboard2.iat[i-1,1]\n",
    "            if item in probabilities2:\n",
    "                for x in probabilities2[item]:\n",
    "                    solution.append([int(antique_session),int(x[0]),seen+1])\n",
    "                    seen += 1\n",
    "                    if(seen == 100): break\n",
    "            for j in range(100-seen):\n",
    "                solution.append([int(antique_session),int(top_seller[j]),seen+1])\n",
    "                seen += 1\n",
    "            antique_session = session\n",
    "\n",
    "    return solution"
   ]
  },
  {
   "cell_type": "code",
   "execution_count": 464,
   "id": "9bc20966",
   "metadata": {},
   "outputs": [
    {
     "name": "stderr",
     "output_type": "stream",
     "text": [
      "470120it [00:12, 37427.10it/s]\n",
      "229354it [00:04, 50708.34it/s]\n"
     ]
    },
    {
     "data": {
      "text/plain": [
       "[]"
      ]
     },
     "execution_count": 464,
     "metadata": {},
     "output_type": "execute_result"
    }
   ],
   "source": [
    "solutions_test = generate_markov_solution(probabilities_train,sessions_test)\n",
    "solutions = generate_markov_solution(probabilities,leaderboard)\n",
    "solutions_test.pop(0)\n",
    "solutions.pop(0)"
   ]
  },
  {
   "cell_type": "code",
   "execution_count": 479,
   "id": "591587ca",
   "metadata": {},
   "outputs": [],
   "source": [
    "def MRR(solutions,purchase_test):\n",
    "    suma = 0\n",
    "    for i in tqdm(range(len(purchase_test))):\n",
    "        item = purchase_test.iat[i,1]\n",
    "        if(i == 81619): break\n",
    "        for j in range(100*i,100*(i+1)-1,1):\n",
    "            if(solutions[j][1] == item):\n",
    "                suma += 1\n",
    "                break\n",
    "    return suma/len(purchase_test) "
   ]
  },
  {
   "cell_type": "code",
   "execution_count": 480,
   "id": "bc14d851",
   "metadata": {},
   "outputs": [
    {
     "name": "stderr",
     "output_type": "stream",
     "text": [
      "100%|█████████▉| 81619/81621 [00:03<00:00, 21982.55it/s]\n"
     ]
    },
    {
     "data": {
      "text/plain": [
       "0.14323519682434668"
      ]
     },
     "execution_count": 480,
     "metadata": {},
     "output_type": "execute_result"
    }
   ],
   "source": [
    "MRR(solutions_test,purchase_test)"
   ]
  },
  {
   "cell_type": "code",
   "execution_count": 453,
   "id": "a5d4a008",
   "metadata": {},
   "outputs": [],
   "source": [
    "solutions_test = pd.DataFrame(solution_test, columns = ['session_id','item_id', 'rank']).reset_index(drop = True)\n",
    "solutions = pd.DataFrame(solutions, columns = ['session_id','item_id', 'rank']).reset_index(drop = True)\n",
    "solutions_csv = solution.to_csv\n",
    "solutions.to_csv(r'solution_Markov2.csv',index = False)"
   ]
  },
  {
   "cell_type": "code",
   "execution_count": 459,
   "id": "ea4ca8c1",
   "metadata": {},
   "outputs": [
    {
     "data": {
      "text/html": [
       "<div>\n",
       "<style scoped>\n",
       "    .dataframe tbody tr th:only-of-type {\n",
       "        vertical-align: middle;\n",
       "    }\n",
       "\n",
       "    .dataframe tbody tr th {\n",
       "        vertical-align: top;\n",
       "    }\n",
       "\n",
       "    .dataframe thead th {\n",
       "        text-align: right;\n",
       "    }\n",
       "</style>\n",
       "<table border=\"1\" class=\"dataframe\">\n",
       "  <thead>\n",
       "    <tr style=\"text-align: right;\">\n",
       "      <th></th>\n",
       "      <th>session_id</th>\n",
       "      <th>item_id</th>\n",
       "      <th>rank</th>\n",
       "    </tr>\n",
       "  </thead>\n",
       "  <tbody>\n",
       "    <tr>\n",
       "      <th>0</th>\n",
       "      <td>26</td>\n",
       "      <td>3260</td>\n",
       "      <td>1</td>\n",
       "    </tr>\n",
       "    <tr>\n",
       "      <th>1</th>\n",
       "      <td>26</td>\n",
       "      <td>20541</td>\n",
       "      <td>2</td>\n",
       "    </tr>\n",
       "    <tr>\n",
       "      <th>2</th>\n",
       "      <td>26</td>\n",
       "      <td>21035</td>\n",
       "      <td>3</td>\n",
       "    </tr>\n",
       "    <tr>\n",
       "      <th>3</th>\n",
       "      <td>26</td>\n",
       "      <td>5383</td>\n",
       "      <td>4</td>\n",
       "    </tr>\n",
       "    <tr>\n",
       "      <th>4</th>\n",
       "      <td>26</td>\n",
       "      <td>12939</td>\n",
       "      <td>5</td>\n",
       "    </tr>\n",
       "    <tr>\n",
       "      <th>...</th>\n",
       "      <td>...</td>\n",
       "      <td>...</td>\n",
       "      <td>...</td>\n",
       "    </tr>\n",
       "    <tr>\n",
       "      <th>4999895</th>\n",
       "      <td>4439653</td>\n",
       "      <td>23543</td>\n",
       "      <td>96</td>\n",
       "    </tr>\n",
       "    <tr>\n",
       "      <th>4999896</th>\n",
       "      <td>4439653</td>\n",
       "      <td>6736</td>\n",
       "      <td>97</td>\n",
       "    </tr>\n",
       "    <tr>\n",
       "      <th>4999897</th>\n",
       "      <td>4439653</td>\n",
       "      <td>6552</td>\n",
       "      <td>98</td>\n",
       "    </tr>\n",
       "    <tr>\n",
       "      <th>4999898</th>\n",
       "      <td>4439653</td>\n",
       "      <td>23868</td>\n",
       "      <td>99</td>\n",
       "    </tr>\n",
       "    <tr>\n",
       "      <th>4999899</th>\n",
       "      <td>4439653</td>\n",
       "      <td>5309</td>\n",
       "      <td>100</td>\n",
       "    </tr>\n",
       "  </tbody>\n",
       "</table>\n",
       "<p>4999900 rows × 3 columns</p>\n",
       "</div>"
      ],
      "text/plain": [
       "         session_id  item_id  rank\n",
       "0                26     3260     1\n",
       "1                26    20541     2\n",
       "2                26    21035     3\n",
       "3                26     5383     4\n",
       "4                26    12939     5\n",
       "...             ...      ...   ...\n",
       "4999895     4439653    23543    96\n",
       "4999896     4439653     6736    97\n",
       "4999897     4439653     6552    98\n",
       "4999898     4439653    23868    99\n",
       "4999899     4439653     5309   100\n",
       "\n",
       "[4999900 rows x 3 columns]"
      ]
     },
     "execution_count": 459,
     "metadata": {},
     "output_type": "execute_result"
    }
   ],
   "source": [
    "solutions"
   ]
  },
  {
   "cell_type": "code",
   "execution_count": null,
   "id": "b2a0db64",
   "metadata": {},
   "outputs": [],
   "source": []
  }
 ],
 "metadata": {
  "kernelspec": {
   "display_name": "Python 3 (ipykernel)",
   "language": "python",
   "name": "python3"
  },
  "language_info": {
   "codemirror_mode": {
    "name": "ipython",
    "version": 3
   },
   "file_extension": ".py",
   "mimetype": "text/x-python",
   "name": "python",
   "nbconvert_exporter": "python",
   "pygments_lexer": "ipython3",
   "version": "3.8.13"
  }
 },
 "nbformat": 4,
 "nbformat_minor": 5
}
