{
 "cells": [
  {
   "cell_type": "code",
   "execution_count": 1,
   "id": "837335e3",
   "metadata": {},
   "outputs": [],
   "source": [
    "import pandas as pd\n",
    "import numpy as np\n",
    "import datetime\n",
    "from tqdm import tqdm\n",
    "import random\n"
   ]
  },
  {
   "cell_type": "code",
   "execution_count": 2,
   "id": "46935647",
   "metadata": {},
   "outputs": [],
   "source": [
    "#read all the data:\n",
    "items = pd.read_csv(\"dressipi_recsys2022/item_features.csv\")\n",
    "candidate = pd.read_csv(\"dressipi_recsys2022/candidate_items.csv\")\n",
    "purchase =  pd.read_csv(\"dressipi_recsys2022/train_purchases.csv\")\n",
    "sessions =  pd.read_csv(\"dressipi_recsys2022/train_sessions.csv\")\n",
    "sessions_test = pd.read_csv(\"dressipi_recsys2022/test_final_sessions.csv\")\n",
    "leaderboard = pd.read_csv(\"dressipi_recsys2022/test_leaderboard_sessions.csv\")"
   ]
  },
  {
   "cell_type": "code",
   "execution_count": 3,
   "id": "a73eab3d",
   "metadata": {},
   "outputs": [],
   "source": [
    "#set the date column to a date format\n",
    "purchase['date'] = pd.to_datetime(purchase['date'])\n",
    "#list of unique items:\n",
    "items_unique = sessions.item_id.unique()"
   ]
  },
  {
   "cell_type": "code",
   "execution_count": 4,
   "id": "414697c7",
   "metadata": {},
   "outputs": [],
   "source": [
    "max_day = purchase['date'].max() #max date 31/05/2021 \n",
    "min_day = max_day -datetime.timedelta(31)\n",
    "cond = purchase['date'] >= min_day\n",
    "new_purchases = purchase[cond]"
   ]
  },
  {
   "cell_type": "code",
   "execution_count": 5,
   "id": "f64f2bf4",
   "metadata": {},
   "outputs": [],
   "source": [
    "sessions_item_dict = {}\n",
    "item_sessions_dict = {}\n",
    "for i,x in enumerate(zip(sessions['session_id'], sessions['item_id'])):\n",
    "    session, item = x\n",
    "    if session not in sessions_item_dict:\n",
    "        sessions_item_dict[session] = {}\n",
    "    \n",
    "    if item not in item_sessions_dict:\n",
    "        item_sessions_dict[item] = {}\n",
    "        \n",
    "    if item not in sessions_item_dict[session]:\n",
    "        sessions_item_dict[session][item] = 0\n",
    "    \n",
    "    if session not in item_sessions_dict[item]:\n",
    "        item_sessions_dict[item][session] = 0\n",
    "        \n",
    "    sessions_item_dict[session][item] += 1\n",
    "    item_sessions_dict[item][session] += 1"
   ]
  },
  {
   "cell_type": "code",
   "execution_count": 6,
   "id": "58bc8211",
   "metadata": {},
   "outputs": [
    {
     "name": "stderr",
     "output_type": "stream",
     "text": [
      "100%|██████████| 23496/23496 [00:01<00:00, 16897.20it/s]\n"
     ]
    }
   ],
   "source": [
    "def generate_positive(max_num = 25):\n",
    "    '''\n",
    "    Generates Samples of Products seen in the same Session\n",
    "    with a maximum amount of max_num items per item\n",
    "    '''\n",
    "    positive = []\n",
    "    positive_dict = {}\n",
    "    for item in tqdm(item_sessions_dict):\n",
    "        cont = 0\n",
    "        for session in item_sessions_dict[item]:\n",
    "            for elem in sessions_item_dict[session]:\n",
    "                positive.append([item,elem])\n",
    "                cont += 1\n",
    "                if item not in positive_dict:\n",
    "                    positive_dict[item] = []\n",
    "                positive_dict[item].append(elem)\n",
    "                if(cont == max_num): break\n",
    "            if(cont == max_num): break\n",
    "                \n",
    "    return positive, positive_dict\n",
    "\n",
    "positive_sample,positive_dict = generate_positive() #generates data of positive samples    "
   ]
  },
  {
   "cell_type": "code",
   "execution_count": 7,
   "id": "8aff507b",
   "metadata": {},
   "outputs": [
    {
     "name": "stderr",
     "output_type": "stream",
     "text": [
      "100%|██████████| 23496/23496 [00:11<00:00, 2115.41it/s]\n"
     ]
    }
   ],
   "source": [
    "def generate_negative(max_num = 50):\n",
    "    '''Generates Samples of Products not seen in the same Session\n",
    "    with a maximum amount of max_num items per item'''\n",
    "    negative = []\n",
    "    for item in tqdm(items_unique):\n",
    "        for i in range(max_num):\n",
    "            negative_sample = random.choice(items_unique)\n",
    "            if negative_sample not in positive_dict[item] and negative_sample != item:\n",
    "                negative.append([item,negative_sample])\n",
    "    return negative   \n",
    "\n",
    "negative_sample = generate_negative()"
   ]
  },
  {
   "cell_type": "code",
   "execution_count": 9,
   "id": "0d2f4949",
   "metadata": {},
   "outputs": [
    {
     "name": "stderr",
     "output_type": "stream",
     "text": [
      "100%|██████████| 471751/471751 [02:02<00:00, 3839.40it/s]\n"
     ]
    }
   ],
   "source": [
    "def get_item_features():\n",
    "    items_features = {}\n",
    "    new_item = 2\n",
    "    features = []\n",
    "    for i in tqdm(range(len(items))):\n",
    "        if(items.iloc[i].item_id == new_item):\n",
    "            features.append(items.iloc[i].feature_category_id)\n",
    "            features.append(items.iloc[i].feature_value_id)\n",
    "        else:\n",
    "            items_features[new_item] = features\n",
    "            new_item = items.iloc[i].item_id\n",
    "            features = []\n",
    "            features.append(items.iloc[i].feature_category_id)\n",
    "            features.append(items.iloc[i].feature_value_id)\n",
    "    return items_features\n",
    "item_features = get_item_features()"
   ]
  },
  {
   "cell_type": "code",
   "execution_count": 11,
   "id": "626a4d61",
   "metadata": {},
   "outputs": [],
   "source": [
    "#####Let's Proceed now to generate the actual Siamesian Network############\n",
    "#https://keras.io/examples/vision/siamese_contrastive/"
   ]
  },
  {
   "cell_type": "code",
   "execution_count": 14,
   "id": "90259f16",
   "metadata": {},
   "outputs": [],
   "source": [
    "import random\n",
    "import numpy as np\n",
    "import tensorflow as tf\n",
    "from tensorflow import keras\n",
    "from tensorflow.keras import layers\n",
    "import matplotlib.pyplot as plt\n",
    "from sklearn.model_selection import train_test_split"
   ]
  },
  {
   "cell_type": "code",
   "execution_count": 84,
   "id": "484a29fc",
   "metadata": {},
   "outputs": [],
   "source": [
    "def generate_dataset():\n",
    "    full_dataset = np.vstack((positive_sample,negative_sample))\n",
    "    full_dataset = pd.DataFrame(full_dataset)\n",
    "    full_dataset['label'] = 0\n",
    "    full_dataset['label'].iloc[0:len(positive_sample)-1] = 1\n",
    "    train = full_dataset.iloc[:,0:2]\n",
    "    test = full_dataset.iloc[:,2:3]    \n",
    "    X_train,X_val,y_train,y_val = train_test_split(train,test,test_size = 0.2,random_state = 42,shuffle = True)\n",
    "    return X_train,X_val,y_train,y_val  "
   ]
  },
  {
   "cell_type": "code",
   "execution_count": 94,
   "id": "462ee0a6",
   "metadata": {},
   "outputs": [],
   "source": [
    "X_train,X_val,y_train,y_val = generate_dataset()"
   ]
  },
  {
   "cell_type": "markdown",
   "id": "42922015",
   "metadata": {},
   "source": [
    "We will define it now with Euclidean Distance and after we will see how to more accurately fix it:"
   ]
  },
  {
   "cell_type": "markdown",
   "id": "8b3bb5fc",
   "metadata": {},
   "source": [
    "# Siamese:"
   ]
  },
  {
   "cell_type": "code",
   "execution_count": 152,
   "id": "6738f78d",
   "metadata": {},
   "outputs": [],
   "source": [
    "epochs = 5\n",
    "batch_size = 256\n",
    "margin = 1  # Margin for constrastive loss."
   ]
  },
  {
   "cell_type": "code",
   "execution_count": 103,
   "id": "8b702757",
   "metadata": {},
   "outputs": [],
   "source": [
    "def euclidean_distance(vects):\n",
    "    \"\"\"Find the Euclidean distance between two vectors.\n",
    "\n",
    "    Arguments:\n",
    "        vects: List containing two tensors of same length.\n",
    "\n",
    "    Returns:\n",
    "        Tensor containing euclidean distance\n",
    "        (as floating point value) between vectors.\n",
    "    \"\"\"\n",
    "\n",
    "    x, y = vects\n",
    "    sum_square = tf.math.reduce_sum(tf.math.square(x - y), axis=1, keepdims=True)\n",
    "    return tf.math.sqrt(tf.math.maximum(sum_square, tf.keras.backend.epsilon()))"
   ]
  },
  {
   "cell_type": "code",
   "execution_count": 104,
   "id": "7f91435b",
   "metadata": {},
   "outputs": [],
   "source": [
    "###Now let's define the Siamese Network:"
   ]
  },
  {
   "cell_type": "code",
   "execution_count": 147,
   "id": "ebca36ef",
   "metadata": {},
   "outputs": [],
   "source": [
    "input = layers.Input((1))\n",
    "x = tf.keras.layers.BatchNormalization()(input)\n",
    "x = layers.Dense(64, activation=\"relu\")(x)\n",
    "x = layers.Dense(32, activation=\"relu\")(x)\n",
    "x = layers.Dense(16, activation=\"relu\")(x)\n",
    "embedding_network = keras.Model(input, x)\n",
    "\n",
    "\n",
    "input_1 = layers.Input((1))\n",
    "input_2 = layers.Input((1))\n",
    "\n",
    "tower_1 = embedding_network(input_1)\n",
    "tower_2 = embedding_network(input_2)\n",
    "\n",
    "merge_layer = layers.Lambda(euclidean_distance)([tower_1, tower_2])\n",
    "\n",
    "normal_layer = tf.keras.layers.BatchNormalization()(merge_layer)\n",
    "\n",
    "output_layer = layers.Dense(1, activation=\"sigmoid\")(normal_layer)\n",
    "\n",
    "siamese = keras.Model(inputs=[input_1, input_2], outputs=output_layer)\n"
   ]
  },
  {
   "cell_type": "code",
   "execution_count": 148,
   "id": "27413aca",
   "metadata": {},
   "outputs": [],
   "source": [
    "def loss(margin=1):\n",
    "    \"\"\"Provides 'constrastive_loss' an enclosing scope with variable 'margin'.\n",
    "\n",
    "  Arguments:\n",
    "      margin: Integer, defines the baseline for distance for which pairs\n",
    "              should be classified as dissimilar. - (default is 1).\n",
    "\n",
    "  Returns:\n",
    "      'constrastive_loss' function with data ('margin') attached.\n",
    "  \"\"\"\n",
    "\n",
    "    # Contrastive loss = mean( (1-true_value) * square(prediction) +\n",
    "    #                         true_value * square( max(margin-prediction, 0) ))\n",
    "    def contrastive_loss(y_true, y_pred):\n",
    "        \"\"\"Calculates the constrastive loss.\n",
    "\n",
    "      Arguments:\n",
    "          y_true: List of labels, each label is of type float32.\n",
    "          y_pred: List of predictions of same length as of y_true,\n",
    "                  each label is of type float32.\n",
    "\n",
    "      Returns:\n",
    "          A tensor containing constrastive loss as floating point value.\n",
    "      \"\"\"\n",
    "\n",
    "        square_pred = tf.math.square(y_pred)\n",
    "        margin_square = tf.math.square(tf.math.maximum(margin - (y_pred), 0))\n",
    "        return tf.math.reduce_mean(\n",
    "            (1 - y_true) * square_pred + (y_true) * margin_square\n",
    "        )\n",
    "\n",
    "    return contrastive_loss"
   ]
  },
  {
   "cell_type": "code",
   "execution_count": 149,
   "id": "c7fef73e",
   "metadata": {},
   "outputs": [
    {
     "name": "stdout",
     "output_type": "stream",
     "text": [
      "Model: \"model_11\"\n",
      "__________________________________________________________________________________________________\n",
      " Layer (type)                   Output Shape         Param #     Connected to                     \n",
      "==================================================================================================\n",
      " input_18 (InputLayer)          [(None, 1)]          0           []                               \n",
      "                                                                                                  \n",
      " input_19 (InputLayer)          [(None, 1)]          0           []                               \n",
      "                                                                                                  \n",
      " model_10 (Functional)          (None, 16)           2740        ['input_18[0][0]',               \n",
      "                                                                  'input_19[0][0]']               \n",
      "                                                                                                  \n",
      " lambda_5 (Lambda)              (None, 1)            0           ['model_10[0][0]',               \n",
      "                                                                  'model_10[1][0]']               \n",
      "                                                                                                  \n",
      " batch_normalization_12 (BatchN  (None, 1)           4           ['lambda_5[0][0]']               \n",
      " ormalization)                                                                                    \n",
      "                                                                                                  \n",
      " dense_23 (Dense)               (None, 1)            2           ['batch_normalization_12[0][0]'] \n",
      "                                                                                                  \n",
      "==================================================================================================\n",
      "Total params: 2,746\n",
      "Trainable params: 2,742\n",
      "Non-trainable params: 4\n",
      "__________________________________________________________________________________________________\n"
     ]
    }
   ],
   "source": [
    "siamese.compile(loss=loss(margin=margin), optimizer=\"RMSprop\", metrics=[\"accuracy\"])\n",
    "siamese.summary()"
   ]
  },
  {
   "cell_type": "code",
   "execution_count": 155,
   "id": "f4f413ad",
   "metadata": {},
   "outputs": [
    {
     "name": "stdout",
     "output_type": "stream",
     "text": [
      "Epoch 1/5\n",
      "5319/5319 [==============================] - 15s 3ms/step - loss: 0.2106 - accuracy: 0.6889 - val_loss: 0.2083 - val_accuracy: 0.6912\n",
      "Epoch 2/5\n",
      "5319/5319 [==============================] - 16s 3ms/step - loss: 0.2105 - accuracy: 0.6888 - val_loss: 0.2083 - val_accuracy: 0.7223\n",
      "Epoch 3/5\n",
      "5319/5319 [==============================] - 15s 3ms/step - loss: 0.2106 - accuracy: 0.6888 - val_loss: 0.2080 - val_accuracy: 0.7242\n",
      "Epoch 4/5\n",
      "5319/5319 [==============================] - 15s 3ms/step - loss: 0.2105 - accuracy: 0.6888 - val_loss: 0.2081 - val_accuracy: 0.7249\n",
      "Epoch 5/5\n",
      "5319/5319 [==============================] - 16s 3ms/step - loss: 0.2105 - accuracy: 0.6887 - val_loss: 0.2081 - val_accuracy: 0.6912\n"
     ]
    }
   ],
   "source": [
    "history = siamese.fit(\n",
    "    [np.array(X_train.astype(\"float32\"))[:,0], np.array(X_train.astype(\"float32\"))[:,1]],\n",
    "    np.array(y_train.astype(\"float32\")),\n",
    "    validation_data=([np.array(X_val.astype(\"float32\"))[:,0], np.array(X_val.astype(\"float32\"))[:,1]], np.array(y_val.astype(\"float32\"))),\n",
    "    batch_size=batch_size,\n",
    "    epochs=epochs,\n",
    ")"
   ]
  },
  {
   "cell_type": "code",
   "execution_count": 156,
   "id": "b838f503",
   "metadata": {},
   "outputs": [
    {
     "data": {
      "image/png": "[encoded data removed]",
      "text/plain": [
       "<Figure size 432x288 with 1 Axes>"
      ]
     },
     "metadata": {
      "needs_background": "light"
     },
     "output_type": "display_data"
    },
    {
     "data": {
      "image/png": "[encoded data removed]",
      "text/plain": [
       "<Figure size 432x288 with 1 Axes>"
      ]
     },
     "metadata": {
      "needs_background": "light"
     },
     "output_type": "display_data"
    }
   ],
   "source": [
    "def plt_metric(history, metric, title, has_valid=True):\n",
    "    \"\"\"Plots the given 'metric' from 'history'.\n",
    "\n",
    "    Arguments:\n",
    "        history: history attribute of History object returned from Model.fit.\n",
    "        metric: Metric to plot, a string value present as key in 'history'.\n",
    "        title: A string to be used as title of plot.\n",
    "        has_valid: Boolean, true if valid data was passed to Model.fit else false.\n",
    "\n",
    "    Returns:\n",
    "        None.\n",
    "    \"\"\"\n",
    "    plt.plot(history[metric])\n",
    "    if has_valid:\n",
    "        plt.plot(history[\"val_\" + metric])\n",
    "        plt.legend([\"train\", \"validation\"], loc=\"upper left\")\n",
    "    plt.title(title)\n",
    "    plt.ylabel(metric)\n",
    "    plt.xlabel(\"epoch\")\n",
    "    plt.show()\n",
    "\n",
    "\n",
    "# Plot the accuracy\n",
    "plt_metric(history=history.history, metric=\"accuracy\", title=\"Model accuracy\")\n",
    "\n",
    "# Plot the constrastive loss\n",
    "plt_metric(history=history.history, metric=\"loss\", title=\"Constrastive Loss\")"
   ]
  },
  {
   "cell_type": "code",
   "execution_count": null,
   "id": "e8e97235",
   "metadata": {},
   "outputs": [],
   "source": []
  }
 ],
 "metadata": {
  "kernelspec": {
   "display_name": "Python 3 (ipykernel)",
   "language": "python",
   "name": "python3"
  },
  "language_info": {
   "codemirror_mode": {
    "name": "ipython",
    "version": 3
   },
   "file_extension": ".py",
   "mimetype": "text/x-python",
   "name": "python",
   "nbconvert_exporter": "python",
   "pygments_lexer": "ipython3",
   "version": "3.8.13"
  }
 },
 "nbformat": 4,
 "nbformat_minor": 5
}
